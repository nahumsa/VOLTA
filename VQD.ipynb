{
 "cells": [
  {
   "cell_type": "markdown",
   "metadata": {
    "toc": true
   },
   "source": [
    "<h1>Table of Contents<span class=\"tocSkip\"></span></h1>\n",
    "<div class=\"toc\"><ul class=\"toc-item\"><li><span><a href=\"#Variational-Quantum-Deflation-Refactored\" data-toc-modified-id=\"Variational-Quantum-Deflation-Refactored-1\"><span class=\"toc-item-num\">1&nbsp;&nbsp;</span>Variational Quantum Deflation Refactored</a></span></li></ul></div>"
   ]
  },
  {
   "cell_type": "markdown",
   "metadata": {},
   "source": [
    "# Variational Quantum Deflation Refactored"
   ]
  },
  {
   "cell_type": "code",
   "execution_count": 10,
   "metadata": {},
   "outputs": [
    {
     "name": "stdout",
     "output_type": "stream",
     "text": [
      "Eigenvalues: [-1.  0.  0.  1.]\n"
     ]
    }
   ],
   "source": [
    "from VQD import VQD\n",
    "import qiskit"
   ]
  },
  {
   "cell_type": "code",
   "execution_count": 11,
   "metadata": {},
   "outputs": [
    {
     "name": "stdout",
     "output_type": "stream",
     "text": [
      "The autoreload extension is already loaded. To reload it, use:\n",
      "  %reload_ext autoreload\n"
     ]
    }
   ],
   "source": [
    "%load_ext autoreload\n",
    "%autoreload 2"
   ]
  },
  {
   "cell_type": "code",
   "execution_count": 12,
   "metadata": {},
   "outputs": [],
   "source": [
    "Algo = VQD(2, qiskit.aqua.components.optimizers.COBYLA(),\n",
    "           qiskit.Aer.get_backend('qasm_simulator'))"
   ]
  },
  {
   "cell_type": "code",
   "execution_count": 16,
   "metadata": {},
   "outputs": [
    {
     "name": "stdout",
     "output_type": "stream",
     "text": [
      "Eigenvalues: [-1.  0.  0.  1.]\n",
      "0.6152\n",
      "0.4162\n",
      "-0.20789999999999997\n",
      "-0.2137\n",
      "-0.1457\n",
      "0.019100000000000006\n",
      "-0.59\n",
      "-0.5863\n",
      "-0.5683\n",
      "-0.2574\n",
      "-0.7897000000000001\n",
      "-0.7875\n",
      "-0.8527\n",
      "-0.9203\n",
      "-0.9018\n",
      "-0.749\n",
      "-0.9169\n",
      "-0.9590000000000001\n",
      "-0.9554\n",
      "-0.8601\n",
      "-0.9342\n",
      "-0.9496\n",
      "-0.9376\n",
      "-0.9355\n",
      "-0.9566\n",
      "-0.9135\n",
      "-0.9532\n",
      "-0.9598\n",
      "-0.992\n",
      "-0.9961\n",
      "-0.9924999999999999\n",
      "-0.9897\n",
      "-0.9966999999999999\n",
      "-0.9882\n",
      "-0.9954000000000001\n",
      "-0.9847\n",
      "-0.996\n",
      "-0.9981\n",
      "-0.9959\n",
      "-0.9976\n",
      "-0.9984999999999999\n",
      "-0.998\n",
      "-0.9988\n",
      "-0.9984\n",
      "-0.997\n",
      "-0.9975\n",
      "-0.9983\n",
      "-0.9985999999999999\n",
      "-0.9987999999999999\n",
      "-0.9984\n",
      "-0.9974000000000001\n",
      "-0.9992\n",
      "-0.9988\n",
      "-0.9991\n",
      "-0.9986999999999999\n",
      "-0.9986999999999999\n",
      "-0.9984\n",
      "-0.9985999999999999\n",
      "-0.9994000000000001\n",
      "-0.9989\n",
      "-0.9994000000000001\n",
      "-0.9994000000000001\n",
      "-0.9989\n",
      "-0.999\n",
      "-0.9992\n",
      "-0.9989\n",
      "-0.999\n",
      "-0.999\n",
      "-0.999\n",
      "-0.9984\n",
      "-0.9994000000000001\n",
      "-0.9984999999999999\n",
      "-0.9986999999999999\n",
      "-0.9991\n",
      "-0.9989\n",
      "-0.9985999999999999\n",
      "-0.9983\n",
      "-0.9989\n",
      "-0.999\n",
      "-0.9989\n",
      "-0.9993000000000001\n",
      "-0.9988\n",
      "-0.999\n",
      "-0.9989\n",
      "-0.9989\n",
      "-0.9995\n",
      "-0.9994000000000001\n",
      "-0.9986\n",
      "-0.9995\n",
      "-0.999\n",
      "-0.9996\n",
      "-0.9995\n",
      "-0.9993000000000001\n",
      "-0.9988\n",
      "-0.9991\n",
      "-0.9991\n",
      "-0.9989\n",
      "-0.9991\n",
      "-0.9989\n",
      "-0.9991\n",
      "-0.9994000000000001\n",
      "-0.9994000000000001\n"
     ]
    }
   ],
   "source": [
    "Algo.optimizer_run()"
   ]
  },
  {
   "cell_type": "code",
   "execution_count": null,
   "metadata": {},
   "outputs": [],
   "source": []
  }
 ],
 "metadata": {
  "kernelspec": {
   "display_name": "Python 3",
   "language": "python",
   "name": "python3"
  },
  "language_info": {
   "codemirror_mode": {
    "name": "ipython",
    "version": 3
   },
   "file_extension": ".py",
   "mimetype": "text/x-python",
   "name": "python",
   "nbconvert_exporter": "python",
   "pygments_lexer": "ipython3",
   "version": "3.6.8"
  },
  "toc": {
   "base_numbering": 1,
   "nav_menu": {},
   "number_sections": true,
   "sideBar": true,
   "skip_h1_title": false,
   "title_cell": "Table of Contents",
   "title_sidebar": "Contents",
   "toc_cell": true,
   "toc_position": {},
   "toc_section_display": true,
   "toc_window_display": false
  }
 },
 "nbformat": 4,
 "nbformat_minor": 2
}
