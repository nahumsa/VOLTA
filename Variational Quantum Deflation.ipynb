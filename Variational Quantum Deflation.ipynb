{
 "cells": [
  {
   "cell_type": "markdown",
   "metadata": {
    "toc": true
   },
   "source": [
    "<h1>Table of Contents<span class=\"tocSkip\"></span></h1>\n",
    "<div class=\"toc\"><ul class=\"toc-item\"><li><span><a href=\"#Variational-Quantum-Deflation-(VQD)\" data-toc-modified-id=\"Variational-Quantum-Deflation-(VQD)-1\"><span class=\"toc-item-num\">1&nbsp;&nbsp;</span>Variational Quantum Deflation (VQD)</a></span><ul class=\"toc-item\"><li><span><a href=\"#Defining-the-Hamiltonian\" data-toc-modified-id=\"Defining-the-Hamiltonian-1.1\"><span class=\"toc-item-num\">1.1&nbsp;&nbsp;</span>Defining the Hamiltonian</a></span></li><li><span><a href=\"#Eigenvalues\" data-toc-modified-id=\"Eigenvalues-1.2\"><span class=\"toc-item-num\">1.2&nbsp;&nbsp;</span>Eigenvalues</a></span></li></ul></li><li><span><a href=\"#Lowest-Eigenvalue\" data-toc-modified-id=\"Lowest-Eigenvalue-2\"><span class=\"toc-item-num\">2&nbsp;&nbsp;</span>Lowest Eigenvalue</a></span><ul class=\"toc-item\"><li><span><a href=\"#Ansatz\" data-toc-modified-id=\"Ansatz-2.1\"><span class=\"toc-item-num\">2.1&nbsp;&nbsp;</span>Ansatz</a></span></li><li><span><a href=\"#Observables\" data-toc-modified-id=\"Observables-2.2\"><span class=\"toc-item-num\">2.2&nbsp;&nbsp;</span>Observables</a></span><ul class=\"toc-item\"><li><span><a href=\"#Z-Observables\" data-toc-modified-id=\"Z-Observables-2.2.1\"><span class=\"toc-item-num\">2.2.1&nbsp;&nbsp;</span>Z Observables</a></span></li><li><span><a href=\"#X-observables\" data-toc-modified-id=\"X-observables-2.2.2\"><span class=\"toc-item-num\">2.2.2&nbsp;&nbsp;</span>X observables</a></span></li><li><span><a href=\"#Y-observables\" data-toc-modified-id=\"Y-observables-2.2.3\"><span class=\"toc-item-num\">2.2.3&nbsp;&nbsp;</span>Y observables</a></span></li><li><span><a href=\"#Unit-test\" data-toc-modified-id=\"Unit-test-2.2.4\"><span class=\"toc-item-num\">2.2.4&nbsp;&nbsp;</span>Unit test</a></span></li></ul></li><li><span><a href=\"#Objective-Function\" data-toc-modified-id=\"Objective-Function-2.3\"><span class=\"toc-item-num\">2.3&nbsp;&nbsp;</span>Objective Function</a></span></li><li><span><a href=\"#Optimizer\" data-toc-modified-id=\"Optimizer-2.4\"><span class=\"toc-item-num\">2.4&nbsp;&nbsp;</span>Optimizer</a></span></li><li><span><a href=\"#Running\" data-toc-modified-id=\"Running-2.5\"><span class=\"toc-item-num\">2.5&nbsp;&nbsp;</span>Running</a></span></li></ul></li><li><span><a href=\"#Second-Eigenvalue\" data-toc-modified-id=\"Second-Eigenvalue-3\"><span class=\"toc-item-num\">3&nbsp;&nbsp;</span>Second Eigenvalue</a></span><ul class=\"toc-item\"><li><span><a href=\"#Swap-Test\" data-toc-modified-id=\"Swap-Test-3.1\"><span class=\"toc-item-num\">3.1&nbsp;&nbsp;</span>Swap Test</a></span><ul class=\"toc-item\"><li><span><a href=\"#Swap-Test\" data-toc-modified-id=\"Swap-Test-3.1.1\"><span class=\"toc-item-num\">3.1.1&nbsp;&nbsp;</span>Swap Test</a></span><ul class=\"toc-item\"><li><span><a href=\"#Unit-tests\" data-toc-modified-id=\"Unit-tests-3.1.1.1\"><span class=\"toc-item-num\">3.1.1.1&nbsp;&nbsp;</span>Unit tests</a></span></li></ul></li><li><span><a href=\"#Destructive-Swap-Test\" data-toc-modified-id=\"Destructive-Swap-Test-3.1.2\"><span class=\"toc-item-num\">3.1.2&nbsp;&nbsp;</span>Destructive Swap Test</a></span></li></ul></li><li><span><a href=\"#Objective-function-for-the-excited-state\" data-toc-modified-id=\"Objective-function-for-the-excited-state-3.2\"><span class=\"toc-item-num\">3.2&nbsp;&nbsp;</span>Objective function for the excited state</a></span></li><li><span><a href=\"#Running\" data-toc-modified-id=\"Running-3.3\"><span class=\"toc-item-num\">3.3&nbsp;&nbsp;</span>Running</a></span></li><li><span><a href=\"#Results\" data-toc-modified-id=\"Results-3.4\"><span class=\"toc-item-num\">3.4&nbsp;&nbsp;</span>Results</a></span></li></ul></li></ul></div>"
   ]
  },
  {
   "cell_type": "markdown",
   "metadata": {},
   "source": [
    "# Variational Quantum Deflation (VQD)"
   ]
  },
  {
   "cell_type": "markdown",
   "metadata": {},
   "source": [
    "## Defining the Hamiltonian\n",
    "\n",
    "The hamiltonian that we want to solve is:\n",
    "\n",
    "$$\n",
    "H = \\frac{1}{2} \\big(ZI + ZZ\\big)\n",
    "$$"
   ]
  },
  {
   "cell_type": "code",
   "execution_count": 1,
   "metadata": {},
   "outputs": [],
   "source": [
    "import numpy as np\n",
    "import qiskit\n",
    "from qiskit.aqua.operators import OperatorBase, ListOp, PrimitiveOp, PauliOp\n",
    "from qiskit.aqua.operators import I, X, Y, Z\n",
    "from qiskit.quantum_info import Pauli\n",
    "from qiskit.aqua.algorithms import VQE, NumPyEigensolver\n",
    "import matplotlib.pyplot as plt"
   ]
  },
  {
   "cell_type": "code",
   "execution_count": 2,
   "metadata": {},
   "outputs": [
    {
     "name": "stdout",
     "output_type": "stream",
     "text": [
      "0.5 * SummedOp([\n",
      "  IZ,\n",
      "  ZI,\n",
      "  2.0 * XX,\n",
      "  2.0 * YY\n",
      "])\n"
     ]
    }
   ],
   "source": [
    "# hamiltonian = 0.5*(Z^I) + 0.5*(Z^Z)\n",
    "hamiltonian = 1/2*((I^Z) + (Z^I) + 2*( (X^X) + (Y^Y)))\n",
    "print(hamiltonian)"
   ]
  },
  {
   "cell_type": "markdown",
   "metadata": {},
   "source": [
    "## Eigenvalues"
   ]
  },
  {
   "cell_type": "code",
   "execution_count": 3,
   "metadata": {},
   "outputs": [
    {
     "name": "stdout",
     "output_type": "stream",
     "text": [
      "Eigenvalues: [-2. -1.  1.  2.]\n"
     ]
    }
   ],
   "source": [
    "eigenvalues, _ = np.linalg.eigh(hamiltonian.to_matrix())\n",
    "print(f\"Eigenvalues: {eigenvalues}\")"
   ]
  },
  {
   "cell_type": "markdown",
   "metadata": {},
   "source": [
    "# Lowest Eigenvalue"
   ]
  },
  {
   "cell_type": "markdown",
   "metadata": {
    "heading_collapsed": true
   },
   "source": [
    "## Ansatz"
   ]
  },
  {
   "cell_type": "code",
   "execution_count": 4,
   "metadata": {
    "hidden": true
   },
   "outputs": [],
   "source": [
    "from qiskit.circuit.library import TwoLocal\n",
    "\n",
    "def _get_ansatz(n_qubits):\n",
    "    return TwoLocal(n_qubits, ['ry','rz'], 'cx', reps=1)\n",
    "\n",
    "def get_num_parameters(n_qubits):\n",
    "    return len(_get_ansatz(n_qubits).parameters)\n",
    "\n",
    "def get_var_form(params, n_qubits=2):\n",
    "    \"\"\"Get an hardware-efficient ansatz for n_qubits\n",
    "    given parameters.\n",
    "    \"\"\"\n",
    "    \n",
    "    # Define variational Form\n",
    "    var_form = _get_ansatz(n_qubits)\n",
    "    \n",
    "    # Get Parameters from the variational form\n",
    "    var_form_params = sorted(var_form.parameters, key=lambda p: p.name)\n",
    "    \n",
    "    # Check if the number of parameters is compatible\n",
    "    assert len(var_form_params) == len(params), \"The number of parameters don't match\"\n",
    "    \n",
    "    # Create a dictionary with the parameters and values\n",
    "    param_dict = dict(zip(var_form_params, params))\n",
    "    \n",
    "    # Assing those values for the ansatz\n",
    "    wave_function = var_form.assign_parameters(param_dict)\n",
    "    \n",
    "    return wave_function"
   ]
  },
  {
   "cell_type": "markdown",
   "metadata": {
    "heading_collapsed": true
   },
   "source": [
    "## Observables"
   ]
  },
  {
   "cell_type": "markdown",
   "metadata": {
    "heading_collapsed": true,
    "hidden": true
   },
   "source": [
    "### Z Observables"
   ]
  },
  {
   "cell_type": "code",
   "execution_count": 181,
   "metadata": {
    "hidden": true
   },
   "outputs": [],
   "source": [
    "from qiskit import Aer, execute\n",
    "\n",
    "def _measure_zz_circuit(qc: qiskit.QuantumCircuit) -> qiskit.QuantumCircuit:\n",
    "    \"\"\" Construct the circuit to measure \n",
    "    \"\"\"\n",
    "    zz_circuit = qc.copy()\n",
    "    zz_circuit.measure_all()\n",
    "    \n",
    "    return zz_circuit\n",
    "\n",
    "def _clear_counts(count: dict) -> dict:\n",
    "    \n",
    "    if '00' not in count:\n",
    "        count['00'] = 0\n",
    "    if '01' not in count:\n",
    "        count['01'] = 0\n",
    "    if '10' not in count:\n",
    "        count['10'] = 0\n",
    "    if '11' not in count:\n",
    "        count['11'] = 0        \n",
    "    \n",
    "    return count\n",
    "\n",
    "def measure_zz(qc, backend, shots=10000):\n",
    "    \"\"\" Measure the ZZ expectation value for a given circuit.\n",
    "    \"\"\"\n",
    "    zz_circuit = _measure_zz_circuit(qc)\n",
    "\n",
    "    count = execute(zz_circuit, backend=backend, shots=shots).result().get_counts()\n",
    "    count = _clear_counts(count)    \n",
    "\n",
    "    # Get total counts in order to obtain the probability\n",
    "    total_counts = count['00'] + count['11'] + count['01'] + count['10']\n",
    "    # Get counts for expected value\n",
    "    zz_meas = count['00'] + count['11'] - count['01'] - count['10']\n",
    "    return zz_meas / total_counts\n",
    "\n",
    "def measure_zi(qc, backend, shots=10000):\n",
    "    \"\"\" Measure the ZI expectation value for a given circuit.\n",
    "    \"\"\"\n",
    "    zi_circuit = _measure_zz_circuit(qc)\n",
    "    \n",
    "    count = execute(zi_circuit, backend=backend, shots=shots).result().get_counts()\n",
    "    count = _clear_counts(count)\n",
    "\n",
    "    # Get total counts in order to obtain the probability\n",
    "    total_counts = count['00'] + count['11'] + count['01'] + count['10']\n",
    "    # Get counts for expected value\n",
    "    zi_meas = count['00'] - count['11'] + count['01'] - count['10']\n",
    "    return zi_meas / total_counts\n",
    "\n",
    "def measure_iz(qc, backend, shots=10000):\n",
    "    \"\"\" Measure the IZ expectation value for a given circuit.\n",
    "    \"\"\"\n",
    "    iz_circuit = _measure_zz_circuit(qc)\n",
    "    \n",
    "    count = execute(iz_circuit, backend=backend, shots=shots).result().get_counts()\n",
    "    count = _clear_counts(count)\n",
    "\n",
    "    # Get total counts in order to obtain the probability\n",
    "    total_counts = count['00'] + count['11'] + count['01'] + count['10']\n",
    "    # Get counts for expected value\n",
    "    iz_meas = count['00'] - count['11'] - count['01'] + count['10']\n",
    "    return iz_meas / total_counts"
   ]
  },
  {
   "cell_type": "markdown",
   "metadata": {
    "heading_collapsed": true,
    "hidden": true
   },
   "source": [
    "### X observables"
   ]
  },
  {
   "cell_type": "code",
   "execution_count": 111,
   "metadata": {
    "hidden": true
   },
   "outputs": [],
   "source": [
    "def _measure_xx_circuit(qc: qiskit.QuantumCircuit) -> qiskit.QuantumCircuit:\n",
    "    \"\"\" Construct the circuit to measure \n",
    "    \"\"\"\n",
    "    xx_circuit = qc.copy()\n",
    "    xx_circuit.h(xx_circuit.qregs[0])\n",
    "    xx_circuit.measure_all()\n",
    "    \n",
    "    return xx_circuit\n",
    "\n",
    "def measure_xx(qc, backend, shots=10000):\n",
    "    \"\"\" Measure the XX expectation value for a given circuit.\n",
    "    \"\"\"\n",
    "    xx_circuit = _measure_xx_circuit(qc)\n",
    "\n",
    "    count = execute(xx_circuit, backend=backend, shots=shots).result().get_counts()\n",
    "    count = _clear_counts(count)    \n",
    "\n",
    "    # Get total counts in order to obtain the probability\n",
    "    total_counts = count['00'] + count['11'] + count['01'] + count['10']\n",
    "    # Get counts for expected value\n",
    "    xx_meas = count['00'] + count['11'] - count['01'] - count['10']              \n",
    "    return xx_meas / total_counts"
   ]
  },
  {
   "cell_type": "markdown",
   "metadata": {
    "heading_collapsed": true,
    "hidden": true
   },
   "source": [
    "### Y observables"
   ]
  },
  {
   "cell_type": "code",
   "execution_count": 115,
   "metadata": {
    "hidden": true
   },
   "outputs": [],
   "source": [
    "def _measure_yy_circuit(qc: qiskit.QuantumCircuit) -> qiskit.QuantumCircuit:\n",
    "    \"\"\" Construct the circuit to measure \n",
    "    \"\"\"\n",
    "    \n",
    "    yy_meas = qc.copy()\n",
    "    yy_meas.barrier(range(2))\n",
    "    yy_meas.sdg(range(2))    \n",
    "    yy_meas.h(range(2))    \n",
    "    yy_meas.measure_all()\n",
    "    return yy_meas\n",
    "    \n",
    "\n",
    "def measure_yy(qc, backend, shots=10000):\n",
    "    \"\"\" Measure the YY expectation value for a given circuit.\n",
    "    \"\"\"\n",
    "    yy_circuit = _measure_yy_circuit(qc)\n",
    "\n",
    "    count = execute(yy_circuit, backend=backend, shots=shots).result().get_counts()\n",
    "    count = _clear_counts(count)    \n",
    "\n",
    "    # Get total counts in order to obtain the probability\n",
    "    total_counts = count['00'] + count['11'] + count['01'] + count['10']\n",
    "    # Get counts for expected value\n",
    "    xx_meas = count['00'] + count['11'] - count['01'] - count['10']              \n",
    "    return xx_meas / total_counts"
   ]
  },
  {
   "cell_type": "markdown",
   "metadata": {
    "heading_collapsed": true,
    "hidden": true
   },
   "source": [
    "### Unit test"
   ]
  },
  {
   "cell_type": "code",
   "execution_count": 128,
   "metadata": {
    "hidden": true
   },
   "outputs": [
    {
     "name": "stderr",
     "output_type": "stream",
     "text": [
      "test_XX (__main__.TestStringMethods) ... ok\n",
      "test_YY (__main__.TestStringMethods) ... ok\n",
      "test_ZZ (__main__.TestStringMethods) ... ok\n",
      "\n",
      "----------------------------------------------------------------------\n",
      "Ran 3 tests in 0.169s\n",
      "\n",
      "OK\n"
     ]
    }
   ],
   "source": [
    "import unittest\n",
    "\n",
    "class TestStringMethods(unittest.TestCase): \n",
    "    def setUp(self):\n",
    "        # Simulator\n",
    "        self.backend = Aer.get_backend(\"qasm_simulator\")\n",
    "        \n",
    "        # ZZ expectation value of 1\n",
    "        self.qcZ = qiskit.QuantumCircuit(2)        \n",
    "        \n",
    "        # XX expectation value of 1\n",
    "        self.qcX = qiskit.QuantumCircuit(2)        \n",
    "        self.qcX.h(range(2))\n",
    "        \n",
    "        # YY expectation value of 1\n",
    "        self.qcY = qiskit.QuantumCircuit(2)        \n",
    "        self.qcY.h(range(2))\n",
    "        self.qcY.s(range(2))\n",
    "        \n",
    "        \n",
    "    def test_ZZ(self): \n",
    "        want = 1.\n",
    "        got = measure_zz(self.qcZ, self.backend)\n",
    "        decimalPlace = 2\n",
    "        message = \"ZZ measurement not working for state Zero^Zero.\"\n",
    "        self.assertAlmostEqual(want, got, decimalPlace, message)\n",
    "    \n",
    "    def test_XX(self): \n",
    "        want = 1.\n",
    "        got = measure_xx(self.qcX, self.backend)\n",
    "        decimalPlace = 2\n",
    "        message = \"XX measurement not working for state Plus^Plus.\"\n",
    "        self.assertAlmostEqual(want, got, decimalPlace, message)\n",
    "    \n",
    "    def test_YY(self): \n",
    "        want = 1.\n",
    "        got = measure_yy(self.qcY, self.backend)\n",
    "        decimalPlace = 2\n",
    "        message = \"YY measurement not working for state iPlus^iPlus.\"\n",
    "        self.assertAlmostEqual(want, got, decimalPlace, message)\n",
    "\n",
    "unittest.main(argv=[''], verbosity=2, exit=False);"
   ]
  },
  {
   "cell_type": "markdown",
   "metadata": {},
   "source": [
    "## Objective Function"
   ]
  },
  {
   "cell_type": "code",
   "execution_count": 9,
   "metadata": {},
   "outputs": [],
   "source": [
    "from Observables import *\n",
    "\n",
    "def get_hamiltonian(qc, backend, num_shots):\n",
    "        # Hamiltonian BCS\n",
    "    hamiltonian = .5*(measure_iz(qc, backend, num_shots) + measure_zi(qc, backend, num_shots)\n",
    "                      + 2*(measure_xx(qc, backend, num_shots) + measure_yy(qc, backend, num_shots)))\n",
    "#     hamiltonian = 0.5*(measure_zi(qc, backend, num_shots) + measure_zz(qc, backend, num_shots))\n",
    "    return hamiltonian"
   ]
  },
  {
   "cell_type": "code",
   "execution_count": 10,
   "metadata": {},
   "outputs": [],
   "source": [
    "def objective_function(params):\n",
    "    \n",
    "    # Parameters\n",
    "    backend = Aer.get_backend(\"qasm_simulator\")\n",
    "    NUM_SHOTS = 10000\n",
    "    n_qubits = 2\n",
    "    \n",
    "    # Define Ansatz\n",
    "    qc = get_var_form(params, n_qubits)\n",
    "    \n",
    "    # Hamiltonian\n",
    "    hamiltonian = get_hamiltonian(qc, backend, NUM_SHOTS)\n",
    "    \n",
    "    # Get the cost function\n",
    "    cost = hamiltonian\n",
    "    \n",
    "    return cost"
   ]
  },
  {
   "cell_type": "markdown",
   "metadata": {},
   "source": [
    "## Optimizer"
   ]
  },
  {
   "cell_type": "code",
   "execution_count": 11,
   "metadata": {},
   "outputs": [],
   "source": [
    "from qiskit.aqua.components.optimizers import COBYLA, NELDER_MEAD, SLSQP\n",
    "\n",
    "optimizer = COBYLA(maxiter=1000, disp=False, rhobeg=1.0, \n",
    "                   tol=None)\n",
    "\n",
    "# optimizer = NELDER_MEAD(maxiter=1000, maxfev=1000, disp=False, \n",
    "#                         xatol=0.0001, tol=None, adaptive=True)\n",
    "\n",
    "# optimizer = SLSQP(maxiter=100, disp=False, \n",
    "#                   ftol=1e-06, tol=None)"
   ]
  },
  {
   "cell_type": "markdown",
   "metadata": {},
   "source": [
    "## Running"
   ]
  },
  {
   "cell_type": "code",
   "execution_count": 12,
   "metadata": {},
   "outputs": [
    {
     "name": "stdout",
     "output_type": "stream",
     "text": [
      "Energy obtained: -1.8984\n"
     ]
    },
    {
     "data": {
      "image/png": "[encoded data removed]",
      "text/plain": [
       "<Figure size 622.232x144.48 with 1 Axes>"
      ]
     },
     "execution_count": 12,
     "metadata": {},
     "output_type": "execute_result"
    }
   ],
   "source": [
    "# Create the initial parameters (noting that our single qubit variational form has 3 parameters)\n",
    "n_qubits = 2\n",
    "n_parameters = get_num_parameters(n_qubits)\n",
    "\n",
    "params = np.random.rand(n_parameters)\n",
    "\n",
    "optimal_params, energy_gs, n_iters = optimizer.optimize(num_vars=n_parameters, \n",
    "                                                        objective_function=objective_function, \n",
    "                                                        initial_point=params)\n",
    "\n",
    "# Obtain the output distribution using the final parameters\n",
    "ground_state = get_var_form(optimal_params)\n",
    "print(f\"Energy obtained: {energy_gs}\")\n",
    "ground_state.draw('mpl')"
   ]
  },
  {
   "cell_type": "markdown",
   "metadata": {},
   "source": [
    "# Second Eigenvalue"
   ]
  },
  {
   "cell_type": "markdown",
   "metadata": {
    "heading_collapsed": true
   },
   "source": [
    "## Swap Test"
   ]
  },
  {
   "cell_type": "markdown",
   "metadata": {
    "heading_collapsed": true,
    "hidden": true
   },
   "source": [
    "### Swap Test"
   ]
  },
  {
   "cell_type": "code",
   "execution_count": 132,
   "metadata": {
    "hidden": true
   },
   "outputs": [],
   "source": [
    "import qiskit\n",
    "from qiskit import QuantumCircuit\n",
    "\n",
    "def swap_test_circuit(qc1: qiskit.QuantumCircuit, qc2: qiskit.QuantumCircuit) -> qiskit.QuantumCircuit:\n",
    "    \"\"\" Construct the SWAP test circuit given two circuits.\n",
    "\n",
    "    Args:\n",
    "        qc1(qiskit.QuantumCircuit): Quantum circuit for the \n",
    "        first state.\n",
    "        qc2(qiskit.QuantumCircuit): Quantum circuit for the \n",
    "        second state.\n",
    "    Output:\n",
    "        (qiskit.QuantumCircuit): swap test circuit.\n",
    "    \"\"\"\n",
    "    # Helper variables\n",
    "    n_total = qc1.num_qubits + qc2.num_qubits\n",
    "    range_qc1 = [i + 1 for i in range(qc1.num_qubits)]\n",
    "    range_qc2 = [i + qc1.num_qubits + 1 for i in range(qc2.num_qubits)]\n",
    "\n",
    "    # Constructing the SWAP test circuit\n",
    "    qc_swap = QuantumCircuit(n_total + 1, 1)\n",
    "    qc_swap.append(qc1, range_qc1)\n",
    "    qc_swap.append(qc2, range_qc2)\n",
    "    \n",
    "    # Swap Test\n",
    "    qc_swap.h(0)\n",
    "    for index, qubit in enumerate(range_qc1):\n",
    "        qc_swap.cswap(0, qubit, range_qc2[index] )\n",
    "    qc_swap.h(0)\n",
    "    \n",
    "    # Measurement on the auxiliary qubit\n",
    "    qc_swap.measure(0,0)\n",
    "    return qc_swap"
   ]
  },
  {
   "cell_type": "code",
   "execution_count": 215,
   "metadata": {
    "hidden": true
   },
   "outputs": [],
   "source": [
    "def measure_swap_test(qc1: qiskit.QuantumCircuit, qc2: qiskit.QuantumCircuit,\n",
    "                     backend: qiskit.providers.aer.backends,\n",
    "                     num_shots: int=10000) -> float:\n",
    "    \"\"\" Returns the fidelity from a SWAP test.\n",
    "    \"\"\"\n",
    "    swap_circuit = swap_test_circuit(qc1, qc2)\n",
    "\n",
    "    count = execute(swap_circuit, backend=backend, shots=num_shots).result().get_counts()\n",
    "    \n",
    "    if '0' not in count:\n",
    "        count['0'] = 0\n",
    "    if '1' not in count:\n",
    "        count['1'] = 0\n",
    "\n",
    "    total_counts = count['0'] + count['1'] \n",
    "    fid_meas = count['0']\n",
    "    p_0 = fid_meas / total_counts\n",
    "    return 2*(p_0 - 1/2)"
   ]
  },
  {
   "cell_type": "markdown",
   "metadata": {
    "heading_collapsed": true,
    "hidden": true
   },
   "source": [
    "#### Unit tests"
   ]
  },
  {
   "cell_type": "code",
   "execution_count": 220,
   "metadata": {
    "hidden": true
   },
   "outputs": [
    {
     "name": "stderr",
     "output_type": "stream",
     "text": [
      "test_00states (__main__.TestStringMethods) ... ok\n",
      "test_01states (__main__.TestStringMethods) ... ok\n",
      "test_11states (__main__.TestStringMethods) ... ok\n",
      "\n",
      "----------------------------------------------------------------------\n",
      "Ran 3 tests in 0.146s\n",
      "\n",
      "OK\n"
     ]
    }
   ],
   "source": [
    "import unittest\n",
    "from qiskit import QuantumCircuit, Aer\n",
    "\n",
    "class TestStringMethods(unittest.TestCase): \n",
    "    def setUp(self):\n",
    "        self.qc1 = QuantumCircuit(1)\n",
    "        self.qc1.x(0)\n",
    "        self.qc2 = QuantumCircuit(1)\n",
    "        self.backend = Aer.get_backend(\"qasm_simulator\")\n",
    "    \n",
    "    def test_01states(self): \n",
    "        want = 0.\n",
    "        got = measure_swap_test(self.qc1, self.qc2, self.backend)\n",
    "        decimalPlace = 1\n",
    "        message = \"Swap test not working for states 0 and 1.\"\n",
    "        self.assertAlmostEqual(want, got, decimalPlace, message) \n",
    "    \n",
    "    def test_00states(self): \n",
    "        want = 1.\n",
    "        got = measure_swap_test(self.qc2, self.qc2, self.backend)\n",
    "        decimalPlace = 2\n",
    "        message = \"Swap test not working for states 0 and 0.\"\n",
    "        self.assertAlmostEqual(want, got, decimalPlace, message)\n",
    "    \n",
    "    def test_11states(self): \n",
    "        want = 1.\n",
    "        got = measure_swap_test(self.qc1, self.qc1, self.backend)\n",
    "        decimalPlace = 2\n",
    "        message = \"Swap test not working for states 1 and 1.\"\n",
    "        self.assertAlmostEqual(want, got, decimalPlace, message)\n",
    "\n",
    "unittest.main(argv=[''], verbosity=2, exit=False);"
   ]
  },
  {
   "cell_type": "code",
   "execution_count": 196,
   "metadata": {
    "hidden": true
   },
   "outputs": [
    {
     "ename": "AttributeError",
     "evalue": "module 'unittest' has no attribute 'assertAlmostEqual'",
     "output_type": "error",
     "traceback": [
      "\u001b[0;31m---------------------------------------------------------------------------\u001b[0m",
      "\u001b[0;31mAttributeError\u001b[0m                            Traceback (most recent call last)",
      "\u001b[0;32m<ipython-input-196-8a215f62968b>\u001b[0m in \u001b[0;36m<module>\u001b[0;34m\u001b[0m\n\u001b[1;32m      1\u001b[0m \u001b[0;32mimport\u001b[0m \u001b[0munittest\u001b[0m\u001b[0;34m\u001b[0m\u001b[0;34m\u001b[0m\u001b[0m\n\u001b[0;32m----> 2\u001b[0;31m \u001b[0munittest\u001b[0m\u001b[0;34m.\u001b[0m\u001b[0massertAlmostEqual\u001b[0m\u001b[0;34m(\u001b[0m\u001b[0;36m0.5\u001b[0m\u001b[0;34m,\u001b[0m \u001b[0mmeasure_swap_test\u001b[0m\u001b[0;34m(\u001b[0m\u001b[0mqc1\u001b[0m\u001b[0;34m,\u001b[0m\u001b[0mqc2\u001b[0m\u001b[0;34m,\u001b[0m \u001b[0mbackend\u001b[0m\u001b[0;34m)\u001b[0m\u001b[0;34m)\u001b[0m\u001b[0;34m\u001b[0m\u001b[0;34m\u001b[0m\u001b[0m\n\u001b[0m",
      "\u001b[0;31mAttributeError\u001b[0m: module 'unittest' has no attribute 'assertAlmostEqual'"
     ]
    }
   ],
   "source": [
    "import unittest\n",
    "\n",
    "unittest.assertAlmostEqual(0.5, measure_swap_test(qc1,qc2, backend))"
   ]
  },
  {
   "cell_type": "code",
   "execution_count": 195,
   "metadata": {
    "hidden": true
   },
   "outputs": [
    {
     "data": {
      "text/plain": [
       "0.5017"
      ]
     },
     "execution_count": 195,
     "metadata": {},
     "output_type": "execute_result"
    }
   ],
   "source": [
    "qc1 = QuantumCircuit(1)\n",
    "qc1.x(0)\n",
    "qc2 = QuantumCircuit(1)\n",
    "measure_swap_test(qc1, qc2, backend)"
   ]
  },
  {
   "cell_type": "code",
   "execution_count": 168,
   "metadata": {
    "hidden": true
   },
   "outputs": [
    {
     "data": {
      "text/plain": [
       "1.0"
      ]
     },
     "execution_count": 168,
     "metadata": {},
     "output_type": "execute_result"
    }
   ],
   "source": [
    "measure_swap_test(ground_state, ground_state, backend)"
   ]
  },
  {
   "cell_type": "markdown",
   "metadata": {
    "heading_collapsed": true,
    "hidden": true
   },
   "source": [
    "### Destructive Swap Test"
   ]
  },
  {
   "cell_type": "code",
   "execution_count": 102,
   "metadata": {
    "hidden": true
   },
   "outputs": [],
   "source": [
    "import qiskit\n",
    "from qiskit import QuantumCircuit\n",
    "\n",
    "def dswap_test_circuit(qc1: qiskit.QuantumCircuit, qc2: qiskit.QuantumCircuit) -> qiskit.QuantumCircuit:\n",
    "    \"\"\" Construct the destructive SWAP test circuit\n",
    "    given two circuits.\n",
    "\n",
    "    Args:\n",
    "        qc1(qiskit.QuantumCircuit): Quantum circuit for the \n",
    "        first state.\n",
    "        qc2(qiskit.QuantumCircuit): Quantum circuit for the \n",
    "        second state.\n",
    "    Output:\n",
    "        (qiskit.QuantumCircuit): destructive swap test circuit.\n",
    "    \"\"\"\n",
    "    # Helper variables\n",
    "    n_total = qc1.num_qubits + qc2.num_qubits\n",
    "    range_qc1 = [i for i in range(qc1.num_qubits)]\n",
    "    range_qc2 = [i + qc1.num_qubits for i in range(qc2.num_qubits)]\n",
    "\n",
    "    # Constructing the Destructive SWAP TEST\n",
    "    qc_swap = QuantumCircuit(n_total)\n",
    "    qc_swap.append(qc1, range_qc1)\n",
    "    qc_swap.append(qc2, range_qc2)\n",
    "\n",
    "    for index, qubit in enumerate(range_qc1):    \n",
    "        qc_swap.cx(qubit,range_qc2[index])\n",
    "\n",
    "    # Haddamard in the first state\n",
    "    qc_swap.h(range_qc1)\n",
    "    qc_swap.measure_all()\n",
    "\n",
    "    return qc_swap"
   ]
  },
  {
   "cell_type": "code",
   "execution_count": 103,
   "metadata": {
    "hidden": true
   },
   "outputs": [],
   "source": [
    "qc = get_var_form([0]*n_parameters)\n",
    "dswap_circuit = dswap_test_circuit(qc, ground_state)"
   ]
  },
  {
   "cell_type": "code",
   "execution_count": 104,
   "metadata": {
    "hidden": true
   },
   "outputs": [
    {
     "name": "stdout",
     "output_type": "stream",
     "text": [
      "{'1000': 2530, '1001': 2508, '1010': 2426, '1011': 2508, '1100': 10, '1101': 5, '1110': 6, '1111': 7}\n"
     ]
    }
   ],
   "source": [
    "backend = Aer.get_backend(\"qasm_simulator\")\n",
    "NUM_SHOTS = 10000\n",
    "\n",
    "count = execute(dswap_circuit, backend, shots=NUM_SHOTS).result().get_counts()\n",
    "print(count)"
   ]
  },
  {
   "cell_type": "markdown",
   "metadata": {},
   "source": [
    "## Objective function for the excited state"
   ]
  },
  {
   "cell_type": "code",
   "execution_count": 14,
   "metadata": {},
   "outputs": [],
   "source": [
    "from SWAPTest import measure_swap_test\n",
    "\n",
    "def objective_function_es(params):\n",
    "    \n",
    "    # Parameters\n",
    "    backend = Aer.get_backend(\"qasm_simulator\")\n",
    "    NUM_SHOTS = 10000\n",
    "    BETA = 1.\n",
    "    \n",
    "    # Define Ansatz\n",
    "    qc = get_var_form(params)\n",
    "    \n",
    "    # Hamiltonian\n",
    "    hamiltonian = get_hamiltonian(qc, backend, NUM_SHOTS)\n",
    "    \n",
    "    # Swap Test\n",
    "    fidelity = measure_swap_test(qc, ground_state, backend)\n",
    "    \n",
    "    # Get the cost function\n",
    "    cost = hamiltonian + BETA*fidelity\n",
    "    \n",
    "    return cost"
   ]
  },
  {
   "cell_type": "markdown",
   "metadata": {},
   "source": [
    "## Running"
   ]
  },
  {
   "cell_type": "code",
   "execution_count": 15,
   "metadata": {},
   "outputs": [
    {
     "name": "stdout",
     "output_type": "stream",
     "text": [
      "Energy obtained: -0.9874\n"
     ]
    },
    {
     "data": {
      "image/png": "[encoded data removed]",
      "text/plain": [
       "<Figure size 562.032x144.48 with 1 Axes>"
      ]
     },
     "execution_count": 15,
     "metadata": {},
     "output_type": "execute_result"
    }
   ],
   "source": [
    "# Create the initial parameters\n",
    "params = np.random.rand(n_parameters)\n",
    "\n",
    "optimal_params, energy_es, n_iters = optimizer.optimize(num_vars=n_parameters, \n",
    "                                                        objective_function=objective_function_es, \n",
    "                                                        initial_point=params)\n",
    "\n",
    "# Obtain the output state\n",
    "excited_state = get_var_form(optimal_params)\n",
    "print(f\"Energy obtained: {energy_es}\")\n",
    "excited_state.draw('mpl')"
   ]
  },
  {
   "cell_type": "code",
   "execution_count": 17,
   "metadata": {
    "scrolled": true
   },
   "outputs": [
    {
     "name": "stdout",
     "output_type": "stream",
     "text": [
      "Fidelity between the Ground state and the Excited state 0.0029999999999998916\n"
     ]
    }
   ],
   "source": [
    "backend = Aer.get_backend(\"qasm_simulator\")\n",
    "print(f\"Fidelity between the Ground state and the Excited state {measure_swap_test(excited_state, ground_state, backend)}\")"
   ]
  },
  {
   "cell_type": "markdown",
   "metadata": {},
   "source": [
    "## Results"
   ]
  },
  {
   "cell_type": "code",
   "execution_count": 18,
   "metadata": {},
   "outputs": [
    {
     "name": "stdout",
     "output_type": "stream",
     "text": [
      "Energies\n",
      "Ground State\n",
      "Expected: -2.0  |  Got: -1.8984\n",
      "Ground State\n",
      "Expected: -1.0  |  Got: -0.9874\n"
     ]
    }
   ],
   "source": [
    "print(\"Energies\")\n",
    "print(f\"Ground State\\nExpected: {eigenvalues[0]}  |  Got: {np.round(energy_gs,4)}\")\n",
    "print(f\"Ground State\\nExpected: {eigenvalues[1]}  |  Got: {np.round(energy_es,4)}\")"
   ]
  },
  {
   "cell_type": "code",
   "execution_count": null,
   "metadata": {},
   "outputs": [],
   "source": []
  }
 ],
 "metadata": {
  "kernelspec": {
   "display_name": "Python 3",
   "language": "python",
   "name": "python3"
  },
  "language_info": {
   "codemirror_mode": {
    "name": "ipython",
    "version": 3
   },
   "file_extension": ".py",
   "mimetype": "text/x-python",
   "name": "python",
   "nbconvert_exporter": "python",
   "pygments_lexer": "ipython3",
   "version": "3.6.8"
  },
  "toc": {
   "base_numbering": 1,
   "nav_menu": {},
   "number_sections": true,
   "sideBar": true,
   "skip_h1_title": false,
   "title_cell": "Table of Contents",
   "title_sidebar": "Contents",
   "toc_cell": true,
   "toc_position": {},
   "toc_section_display": true,
   "toc_window_display": false
  }
 },
 "nbformat": 4,
 "nbformat_minor": 2
}
