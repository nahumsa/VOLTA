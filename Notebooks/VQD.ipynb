{
 "cells": [
  {
   "cell_type": "markdown",
   "metadata": {
    "toc": true
   },
   "source": [
    "<h1>Table of Contents<span class=\"tocSkip\"></span></h1>\n",
    "<div class=\"toc\"><ul class=\"toc-item\"><li><span><a href=\"#Variational-Quantum-Deflation-Refactored\" data-toc-modified-id=\"Variational-Quantum-Deflation-Refactored-1\"><span class=\"toc-item-num\">1&nbsp;&nbsp;</span>Variational Quantum Deflation Refactored</a></span></li></ul></div>"
   ]
  },
  {
   "cell_type": "markdown",
   "metadata": {},
   "source": [
    "# Variational Quantum Deflation Refactored"
   ]
  },
  {
   "cell_type": "code",
   "execution_count": 23,
   "metadata": {},
   "outputs": [],
   "source": [
    "from VQD import VQD\n",
    "import numpy as np\n",
    "import qiskit\n",
    "from utils import classical_solver"
   ]
  },
  {
   "cell_type": "code",
   "execution_count": 24,
   "metadata": {
    "scrolled": true
   },
   "outputs": [
    {
     "name": "stdout",
     "output_type": "stream",
     "text": [
      "The autoreload extension is already loaded. To reload it, use:\n",
      "  %reload_ext autoreload\n"
     ]
    }
   ],
   "source": [
    "%load_ext autoreload\n",
    "%autoreload 2"
   ]
  },
  {
   "cell_type": "code",
   "execution_count": 54,
   "metadata": {},
   "outputs": [
    {
     "name": "stdout",
     "output_type": "stream",
     "text": [
      "Calculating excited state 0\n",
      "Calculating excited state 1\n"
     ]
    },
    {
     "data": {
      "text/plain": [
       "[-0.96875, -0.10960312500000002]"
      ]
     },
     "execution_count": 54,
     "metadata": {},
     "output_type": "execute_result"
    }
   ],
   "source": [
    "from qiskit.aqua.operators import I, X, Y, Z\n",
    "from qiskit import BasicAer\n",
    "\n",
    "optimizer = qiskit.aqua.components.optimizers.COBYLA(maxiter=1000)\n",
    "backend = BasicAer.get_backend('qasm_simulator')\n",
    "hamiltonian = (1/2*(Z^Z) + 1/2*(Z^I))\n",
    "\n",
    "Algo = VQD(hamiltonian=hamiltonian,\n",
    "            n_excited_states=1,\n",
    "            beta=1.,\n",
    "            optimizer=optimizer,\n",
    "            backend=backend)\n",
    "\n",
    "Algo.run()      \n",
    "Algo.energies"
   ]
  },
  {
   "cell_type": "code",
   "execution_count": 55,
   "metadata": {},
   "outputs": [
    {
     "data": {
      "text/plain": [
       "array([-1.,  0.,  0.,  1.])"
      ]
     },
     "execution_count": 55,
     "metadata": {},
     "output_type": "execute_result"
    }
   ],
   "source": [
    "eigenvalues = classical_solver(hamiltonian)\n",
    "eigenvalues"
   ]
  },
  {
   "cell_type": "code",
   "execution_count": null,
   "metadata": {},
   "outputs": [],
   "source": []
  }
 ],
 "metadata": {
  "kernelspec": {
   "display_name": "Python 3",
   "language": "python",
   "name": "python3"
  },
  "language_info": {
   "codemirror_mode": {
    "name": "ipython",
    "version": 3
   },
   "file_extension": ".py",
   "mimetype": "text/x-python",
   "name": "python",
   "nbconvert_exporter": "python",
   "pygments_lexer": "ipython3",
   "version": "3.6.8"
  },
  "toc": {
   "base_numbering": 1,
   "nav_menu": {},
   "number_sections": true,
   "sideBar": true,
   "skip_h1_title": false,
   "title_cell": "Table of Contents",
   "title_sidebar": "Contents",
   "toc_cell": true,
   "toc_position": {},
   "toc_section_display": true,
   "toc_window_display": false
  }
 },
 "nbformat": 4,
 "nbformat_minor": 2
}
