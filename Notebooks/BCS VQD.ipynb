{
 "cells": [
  {
   "cell_type": "markdown",
   "metadata": {
    "toc": true
   },
   "source": [
    "<h1>Table of Contents<span class=\"tocSkip\"></span></h1>\n",
    "<div class=\"toc\"><ul class=\"toc-item\"><li><span><a href=\"#BCS\" data-toc-modified-id=\"BCS-1\"><span class=\"toc-item-num\">1&nbsp;&nbsp;</span>BCS</a></span></li><li><span><a href=\"#VQD-Example\" data-toc-modified-id=\"VQD-Example-2\"><span class=\"toc-item-num\">2&nbsp;&nbsp;</span>VQD Example</a></span></li><li><span><a href=\"#Do-statistics\" data-toc-modified-id=\"Do-statistics-3\"><span class=\"toc-item-num\">3&nbsp;&nbsp;</span>Do statistics</a></span><ul class=\"toc-item\"><li><span><a href=\"#Plots\" data-toc-modified-id=\"Plots-3.1\"><span class=\"toc-item-num\">3.1&nbsp;&nbsp;</span>Plots</a></span></li></ul></li><li><span><a href=\"#Varying-V\" data-toc-modified-id=\"Varying-V-4\"><span class=\"toc-item-num\">4&nbsp;&nbsp;</span>Varying V</a></span></li></ul></div>"
   ]
  },
  {
   "cell_type": "markdown",
   "metadata": {},
   "source": [
    "# BCS"
   ]
  },
  {
   "cell_type": "markdown",
   "metadata": {},
   "source": [
    "Using the Paper by [Wu et al.](https://arxiv.org/abs/quant-ph/0108110), we have that:\n",
    "\n",
    "The BCS hamiltonian is:\n",
    "\n",
    "$$H_{BCS} = \\sum_{m=1}^N \\frac{\\epsilon_m}{2} ( n_m^F + n_{-m}^F ) + \\sum_{m,k=1}^N V^{+}_{ml} c^\\dagger_m c^\\dagger_{-m} c_{-l}c_l$$\n",
    "\n",
    "Where $n_{\\pm m}^F = c^\\dagger_{\\pm m} c_{\\pm m}$, and the matrix elements $V^+_{ml} = \\langle m, -m| V | l, -l \\rangle$.\n",
    "\n",
    "Which is mapped into:\n",
    "\n",
    "$$H_P = \\sum_{m=1}^N \\frac{\\epsilon_m}{2} \\sigma^Z_m + \\sum_{r= \\pm l} \\sum_{l>m=1}^N \\frac{V_{ml}^r}{2} ( \\sigma^x_m \\sigma^x_l + r \\sigma^y_m \\sigma^y_l )$$\n",
    "\n",
    "where $\\epsilon_m = \\epsilon_m + V^+_{mm}$ and $V^-_{ml} = 0$ for the BCS Hamiltonian, thus:\n",
    "\n",
    "$$H_P = \\sum_{m=1}^N \\frac{\\epsilon_m}{2} \\sigma^Z_m +  \\sum_{l>m=1}^N \\frac{V_{ml}}{2} ( \\sigma^x_m \\sigma^x_l +  \\sigma^y_m \\sigma^y_l )$$\n",
    "\n",
    "$l \\ \\mathrm{and} \\ m$ now denote both state and qubit indices. In this case the qubit state space $H_P = Span \\{ |0 \\rangle, \\sigma^+_m |0 \\rangle, \\sigma_l^+ \\sigma_m^+ |0 \\rangle, \\dots   \\}$ is mapped into a subspace where $n_m^F = n^F_{-m}$. Considering $V_{ml} = V$, we have that:\n",
    "\n",
    "$$\n",
    "H_p = \\hbar \\bigg[ \\sum_{m=1}^N \\frac{\\epsilon_m}{2} \\sigma_z^m + \\frac{V}{2} \\sum_{l>m=1}^N (\\sigma_x^m \\sigma_x^l + \\sigma_y^m \\sigma_y^l) \\bigg]\n",
    "$$\n",
    "[Aqua Operator Flow Reference](https://github.com/dongreenberg/aqua_talks/blob/master/Understanding%20Aqua's%20Operator%20Flow.ipynb)"
   ]
  },
  {
   "cell_type": "code",
   "execution_count": 1,
   "metadata": {},
   "outputs": [],
   "source": [
    "import sys\n",
    "sys.path.append('../')\n",
    "\n",
    "import numpy as np\n",
    "import matplotlib.pyplot as plt\n",
    "\n",
    "# Qiskit\n",
    "from qiskit.aqua.operators import I, X, Y, Z\n",
    "from qiskit import BasicAer\n",
    "from qiskit.aqua.components.optimizers import COBYLA\n",
    "\n",
    "# VOLTA\n",
    "from VOLTA.VQD import VQD\n",
    "from VOLTA.utils import classical_solver\n",
    "\n",
    "%load_ext autoreload\n",
    "%autoreload 2\n",
    "\n",
    "def BCS_hamiltonian(epsilons, V):\n",
    "    return ((1/2*epsilons[0]*I^Z) + (1/2*epsilons[1]*Z^I) + V*(1/2*(X^X) + 1/2*(Y^Y)))"
   ]
  },
  {
   "cell_type": "code",
   "execution_count": 2,
   "metadata": {
    "scrolled": true
   },
   "outputs": [
    {
     "name": "stdout",
     "output_type": "stream",
     "text": [
      "SummedOp([\n",
      "  IZ,\n",
      "  ZI,\n",
      "  0.5 * XX,\n",
      "  0.5 * YY\n",
      "])\n"
     ]
    }
   ],
   "source": [
    "EPSILONS = [2,2]\n",
    "V = 1.\n",
    "hamiltonian = BCS_hamiltonian(EPSILONS, V)\n",
    "print(hamiltonian)"
   ]
  },
  {
   "cell_type": "code",
   "execution_count": 3,
   "metadata": {
    "scrolled": false
   },
   "outputs": [
    {
     "name": "stdout",
     "output_type": "stream",
     "text": [
      "Eigenvalues: [-2. -1.  1.  2.]\n"
     ]
    }
   ],
   "source": [
    "eigenvalues = classical_solver(hamiltonian)\n",
    "print(f\"Eigenvalues: {eigenvalues}\")"
   ]
  },
  {
   "cell_type": "markdown",
   "metadata": {
    "heading_collapsed": true
   },
   "source": [
    "# VQD Example"
   ]
  },
  {
   "cell_type": "code",
   "execution_count": 6,
   "metadata": {
    "hidden": true
   },
   "outputs": [],
   "source": [
    "from qiskit import BasicAer\n",
    "from qiskit.aqua.components.optimizers import COBYLA"
   ]
  },
  {
   "cell_type": "code",
   "execution_count": 62,
   "metadata": {
    "hidden": true
   },
   "outputs": [
    {
     "name": "stdout",
     "output_type": "stream",
     "text": [
      "Calculating excited state 0\n",
      "Calculating excited state 1\n"
     ]
    }
   ],
   "source": [
    "optimizer = COBYLA(maxiter=1000)\n",
    "backend = BasicAer.get_backend('qasm_simulator')\n",
    "\n",
    "Algo = VQD(hamiltonian=hamiltonian,\n",
    "            n_excited_states=1,\n",
    "            beta=2.,\n",
    "            optimizer=optimizer,\n",
    "            backend=backend)\n",
    "\n",
    "Algo.run()      \n",
    "vqd_energies = Algo.energies"
   ]
  },
  {
   "cell_type": "code",
   "execution_count": 63,
   "metadata": {
    "hidden": true
   },
   "outputs": [
    {
     "data": {
      "text/plain": [
       "[-2.01171875, -1.184475]"
      ]
     },
     "execution_count": 63,
     "metadata": {},
     "output_type": "execute_result"
    }
   ],
   "source": [
    "vqd_energies"
   ]
  },
  {
   "cell_type": "code",
   "execution_count": 64,
   "metadata": {
    "hidden": true
   },
   "outputs": [
    {
     "name": "stdout",
     "output_type": "stream",
     "text": [
      "Gap Exact: -0.8\n",
      "Gap VQD: -0.82724375\n"
     ]
    }
   ],
   "source": [
    "print(f\"Gap Exact: {eigenvalues[0] - eigenvalues[1]}\")\n",
    "print(f\"Gap VQD: {vqd_energies[0] - vqd_energies[1]}\")"
   ]
  },
  {
   "cell_type": "markdown",
   "metadata": {
    "heading_collapsed": true
   },
   "source": [
    "# Do statistics"
   ]
  },
  {
   "cell_type": "code",
   "execution_count": 54,
   "metadata": {
    "hidden": true
   },
   "outputs": [
    {
     "name": "stderr",
     "output_type": "stream",
     "text": [
      "100%|██████████| 50/50 [1:02:03<00:00, 74.00s/it]\n"
     ]
    }
   ],
   "source": [
    "from tqdm import tqdm\n",
    "\n",
    "gs = []\n",
    "es = []\n",
    "\n",
    "for _ in tqdm(range(50)):\n",
    "    optimizer = COBYLA()\n",
    "    backend = BasicAer.get_backend('qasm_simulator')\n",
    "\n",
    "    Algo = VQD(hamiltonian=hamiltonian,\n",
    "                n_excited_states=1,\n",
    "                beta=1.,\n",
    "                optimizer=optimizer,\n",
    "                backend=backend)\n",
    "\n",
    "    Algo.run(0)      \n",
    "    vqd_energies = Algo.energies\n",
    "    gs.append(vqd_energies[0])\n",
    "    es.append(vqd_energies[1])\n"
   ]
  },
  {
   "cell_type": "code",
   "execution_count": 44,
   "metadata": {
    "hidden": true
   },
   "outputs": [],
   "source": [
    "np.savetxt(\"groundstate.txt\", gs)\n",
    "np.savetxt(\"excitedstate.txt\", es)"
   ]
  },
  {
   "cell_type": "code",
   "execution_count": 45,
   "metadata": {
    "hidden": true
   },
   "outputs": [
    {
     "name": "stdout",
     "output_type": "stream",
     "text": [
      "Ground State: -1.9 +/- 0.121 | Expected: -2.0\n",
      "Excited State: -1.09 +/- 0.175 | Expected: -1.0\n"
     ]
    }
   ],
   "source": [
    "print(f\"Ground State: {np.round(np.mean(gs),3)} +/- {np.round(np.std(gs),3)} | Expected: {eigenvalues[0]}\")\n",
    "print(f\"Excited State: {np.round(np.mean(es),3)} +/- {np.round(np.std(es),3)} | Expected: {eigenvalues[1]}\")"
   ]
  },
  {
   "cell_type": "markdown",
   "metadata": {
    "heading_collapsed": true,
    "hidden": true
   },
   "source": [
    "## Plots"
   ]
  },
  {
   "cell_type": "code",
   "execution_count": 59,
   "metadata": {
    "hidden": true
   },
   "outputs": [
    {
     "data": {
      "image/png": "[encoded data removed]",
      "text/plain": [
       "<Figure size 432x288 with 1 Axes>"
      ]
     },
     "metadata": {
      "needs_background": "light"
     },
     "output_type": "display_data"
    }
   ],
   "source": [
    "import seaborn as sns\n",
    "\n",
    "sns.boxplot(x=gs)\n",
    "ax=sns.swarmplot(x=gs, color=\"0.25\")\n",
    "ax.set_title(\"Ground State\")\n",
    "ax.vlines(x=eigenvalues[0], ymin=-10, ymax=10, label='Expected Eigenvalue',color='r')\n",
    "plt.show()"
   ]
  },
  {
   "cell_type": "code",
   "execution_count": 58,
   "metadata": {
    "hidden": true
   },
   "outputs": [
    {
     "data": {
      "image/png": "[encoded data removed]",
      "text/plain": [
       "<Figure size 432x288 with 1 Axes>"
      ]
     },
     "metadata": {
      "needs_background": "light"
     },
     "output_type": "display_data"
    }
   ],
   "source": [
    "sns.boxplot(x=es)\n",
    "ax=sns.swarmplot(x=es, color=\"0.25\")\n",
    "ax.set_title(\"Excited State\")\n",
    "ax.vlines(x=eigenvalues[1], ymin=-10, ymax=10, label='Expected Eigenvalue',color='r')\n",
    "plt.legend()\n",
    "plt.show()"
   ]
  },
  {
   "cell_type": "code",
   "execution_count": 60,
   "metadata": {
    "hidden": true
   },
   "outputs": [
    {
     "data": {
      "image/png": "[encoded data removed]",
      "text/plain": [
       "<Figure size 432x288 with 1 Axes>"
      ]
     },
     "metadata": {
      "needs_background": "light"
     },
     "output_type": "display_data"
    }
   ],
   "source": [
    "sns.boxplot(x=np.array(es)- np.array(gs))\n",
    "ax=sns.swarmplot(x=np.array(es)- np.array(gs), color=\"0.25\")\n",
    "ax.set_title(\"Gap\")\n",
    "ax.vlines(x=eigenvalues[1] - eigenvalues[0], ymin=-10, ymax=10, label='Expected value',color='r')\n",
    "plt.legend()\n",
    "plt.show()"
   ]
  },
  {
   "cell_type": "markdown",
   "metadata": {},
   "source": [
    "# Varying V"
   ]
  },
  {
   "cell_type": "code",
   "execution_count": null,
   "metadata": {},
   "outputs": [],
   "source": [
    "from tqdm import tqdm\n",
    "\n",
    "def hamiltonian_varying_V(min_V, max_V, points, epsilons):\n",
    "    energies_VQD = []\n",
    "    energies_Classical = []\n",
    "    \n",
    "    V = np.linspace(min_V, max_V, points)\n",
    "    \n",
    "    for v in tqdm(V):\n",
    "        hamiltonian = BCS_hamiltonian(epsilons, v)\n",
    "        \n",
    "        optimizer = COBYLA(maxiter=10000)\n",
    "        backend = BasicAer.get_backend('qasm_simulator')\n",
    "\n",
    "        Algo = VQD(hamiltonian=hamiltonian,\n",
    "                    n_excited_states=1,\n",
    "                    beta=3.,\n",
    "                    optimizer=optimizer,\n",
    "                    backend=backend)\n",
    "        \n",
    "        Algo.run(0)      \n",
    "        energies_VQD.append(Algo.energies)\n",
    "        energies_Classical.append(classical_solver(hamiltonian)[:2])\n",
    "    \n",
    "    return energies_VQD, energies_Classical, V"
   ]
  },
  {
   "cell_type": "code",
   "execution_count": null,
   "metadata": {},
   "outputs": [
    {
     "name": "stderr",
     "output_type": "stream",
     "text": [
      " 80%|████████  | 4/5 [06:58<01:48, 108.80s/it]"
     ]
    }
   ],
   "source": [
    "min_V = 1.\n",
    "max_V = 2.\n",
    "points = 5\n",
    "epsilons = [2,2]\n",
    "energy_vqd, energy_classical, V = hamiltonian_varying_V(min_V, max_V, points, epsilons)"
   ]
  },
  {
   "cell_type": "code",
   "execution_count": null,
   "metadata": {},
   "outputs": [],
   "source": [
    "plt.plot(V, [value[1] - value[0] for value in energy_vqd], 'ro', label=\"VQD\")\n",
    "plt.plot(V, [value[1] - value[0] for value in energy_classical], 'go', label=\"Exact\")\n",
    "plt.xlabel('V')\n",
    "plt.ylabel('Gap')\n",
    "plt.legend()\n",
    "plt.show()"
   ]
  },
  {
   "cell_type": "code",
   "execution_count": null,
   "metadata": {},
   "outputs": [],
   "source": []
  }
 ],
 "metadata": {
  "kernelspec": {
   "display_name": "Python 3",
   "language": "python",
   "name": "python3"
  },
  "language_info": {
   "codemirror_mode": {
    "name": "ipython",
    "version": 3
   },
   "file_extension": ".py",
   "mimetype": "text/x-python",
   "name": "python",
   "nbconvert_exporter": "python",
   "pygments_lexer": "ipython3",
   "version": "3.6.8"
  },
  "toc": {
   "base_numbering": 1,
   "nav_menu": {},
   "number_sections": true,
   "sideBar": true,
   "skip_h1_title": false,
   "title_cell": "Table of Contents",
   "title_sidebar": "Contents",
   "toc_cell": true,
   "toc_position": {},
   "toc_section_display": true,
   "toc_window_display": false
  }
 },
 "nbformat": 4,
 "nbformat_minor": 4
}
