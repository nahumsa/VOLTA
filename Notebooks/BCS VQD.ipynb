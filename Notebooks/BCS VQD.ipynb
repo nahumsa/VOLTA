{
 "cells": [
  {
   "cell_type": "markdown",
   "metadata": {
    "toc": true
   },
   "source": [
    "<h1>Table of Contents<span class=\"tocSkip\"></span></h1>\n",
    "<div class=\"toc\"><ul class=\"toc-item\"><li><span><a href=\"#BCS\" data-toc-modified-id=\"BCS-1\"><span class=\"toc-item-num\">1&nbsp;&nbsp;</span>BCS</a></span></li><li><span><a href=\"#VQD-Example\" data-toc-modified-id=\"VQD-Example-2\"><span class=\"toc-item-num\">2&nbsp;&nbsp;</span>VQD Example</a></span></li><li><span><a href=\"#Do-statistics\" data-toc-modified-id=\"Do-statistics-3\"><span class=\"toc-item-num\">3&nbsp;&nbsp;</span>Do statistics</a></span><ul class=\"toc-item\"><li><span><a href=\"#Plots\" data-toc-modified-id=\"Plots-3.1\"><span class=\"toc-item-num\">3.1&nbsp;&nbsp;</span>Plots</a></span></li></ul></li><li><span><a href=\"#Varying-V\" data-toc-modified-id=\"Varying-V-4\"><span class=\"toc-item-num\">4&nbsp;&nbsp;</span>Varying V</a></span></li><li><span><a href=\"#Varying-epislon\" data-toc-modified-id=\"Varying-epislon-5\"><span class=\"toc-item-num\">5&nbsp;&nbsp;</span>Varying epislon</a></span></li></ul></div>"
   ]
  },
  {
   "cell_type": "markdown",
   "metadata": {},
   "source": [
    "# BCS"
   ]
  },
  {
   "cell_type": "markdown",
   "metadata": {},
   "source": [
    "Using the Paper by [Wu et al.](https://arxiv.org/abs/quant-ph/0108110), we have that:\n",
    "\n",
    "The BCS hamiltonian is:\n",
    "\n",
    "$$H_{BCS} = \\sum_{m=1}^N \\frac{\\epsilon_m}{2} ( n_m^F + n_{-m}^F ) + \\sum_{m,k=1}^N V^{+}_{ml} c^\\dagger_m c^\\dagger_{-m} c_{-l}c_l$$\n",
    "\n",
    "Where $n_{\\pm m}^F = c^\\dagger_{\\pm m} c_{\\pm m}$, and the matrix elements $V^+_{ml} = \\langle m, -m| V | l, -l \\rangle$.\n",
    "\n",
    "Which is mapped into:\n",
    "\n",
    "$$H_P = \\sum_{m=1}^N \\frac{\\epsilon_m}{2} \\sigma^Z_m + \\sum_{r= \\pm l} \\sum_{l>m=1}^N \\frac{V_{ml}^r}{2} ( \\sigma^x_m \\sigma^x_l + r \\sigma^y_m \\sigma^y_l )$$\n",
    "\n",
    "where $\\epsilon_m = \\epsilon_m + V^+_{mm}$ and $V^-_{ml} = 0$ for the BCS Hamiltonian, thus:\n",
    "\n",
    "$$H_P = \\sum_{m=1}^N \\frac{\\epsilon_m}{2} \\sigma^Z_m +  \\sum_{l>m=1}^N \\frac{V_{ml}}{2} ( \\sigma^x_m \\sigma^x_l +  \\sigma^y_m \\sigma^y_l )$$\n",
    "\n",
    "$l \\ \\mathrm{and} \\ m$ now denote both state and qubit indices. In this case the qubit state space $H_P = Span \\{ |0 \\rangle, \\sigma^+_m |0 \\rangle, \\sigma_l^+ \\sigma_m^+ |0 \\rangle, \\dots   \\}$ is mapped into a subspace where $n_m^F = n^F_{-m}$. Considering $V_{ml} = V$, we have that:\n",
    "\n",
    "$$\n",
    "H_p = \\hbar \\bigg[ \\sum_{m=1}^N \\frac{\\epsilon_m}{2} \\sigma_z^m + \\frac{V}{2} \\sum_{l>m=1}^N (\\sigma_x^m \\sigma_x^l + \\sigma_y^m \\sigma_y^l) \\bigg]\n",
    "$$\n",
    "[Aqua Operator Flow Reference](https://github.com/dongreenberg/aqua_talks/blob/master/Understanding%20Aqua's%20Operator%20Flow.ipynb)"
   ]
  },
  {
   "cell_type": "code",
   "execution_count": 3,
   "metadata": {},
   "outputs": [],
   "source": [
    "import sys\n",
    "sys.path.append('../')\n",
    "\n",
    "import numpy as np\n",
    "import matplotlib.pyplot as plt\n",
    "\n",
    "# Qiskit\n",
    "from qiskit.aqua.operators import I, X, Y, Z\n",
    "from qiskit import BasicAer\n",
    "from qiskit.aqua.components.optimizers import COBYLA\n",
    "\n",
    "# VOLTA\n",
    "from VOLTA.VQD import VQD\n",
    "from VOLTA.utils import classical_solver\n",
    "from VOLTA.Hamiltonians import BCS_hamiltonian\n",
    "\n",
    "%load_ext autoreload\n",
    "%autoreload 2"
   ]
  },
  {
   "cell_type": "code",
   "execution_count": 102,
   "metadata": {
    "scrolled": true
   },
   "outputs": [
    {
     "name": "stdout",
     "output_type": "stream",
     "text": [
      "SummedOp([\n",
      "  0.25 * ZII,\n",
      "  IZI,\n",
      "  0.5 * IIZ,\n",
      "  -0.5 * XXX,\n",
      "  -0.5 * YYY\n",
      "])\n"
     ]
    }
   ],
   "source": [
    "EPSILONS = [.5,2,1]\n",
    "V = -1\n",
    "hamiltonian = BCS_hamiltonian(EPSILONS, V)\n",
    "print(hamiltonian)"
   ]
  },
  {
   "cell_type": "code",
   "execution_count": 103,
   "metadata": {
    "scrolled": false
   },
   "outputs": [
    {
     "name": "stdout",
     "output_type": "stream",
     "text": [
      "Eigenvalues: [-1.88745861 -1.43614066 -1.03077641 -0.75        0.75        1.03077641\n",
      "  1.43614066  1.88745861]\n"
     ]
    }
   ],
   "source": [
    "eigenvalues = classical_solver(hamiltonian)\n",
    "print(f\"Eigenvalues: {eigenvalues}\")"
   ]
  },
  {
   "cell_type": "markdown",
   "metadata": {},
   "source": [
    "# VQD Example"
   ]
  },
  {
   "cell_type": "code",
   "execution_count": null,
   "metadata": {},
   "outputs": [
    {
     "name": "stdout",
     "output_type": "stream",
     "text": [
      "Calculating excited state 0\n",
      "Calculating excited state 1\n"
     ]
    }
   ],
   "source": [
    "optimizer = COBYLA(maxiter=10000)\n",
    "backend = BasicAer.get_backend('qasm_simulator')\n",
    "\n",
    "Algo = VQD(hamiltonian=hamiltonian,\n",
    "            n_excited_states=5,\n",
    "            beta=4.,\n",
    "            optimizer=optimizer,\n",
    "            backend=backend)\n",
    "\n",
    "Algo.run()      \n",
    "vqd_energies = Algo.energies\n",
    "vqd_states = Algo.states"
   ]
  },
  {
   "cell_type": "code",
   "execution_count": 88,
   "metadata": {},
   "outputs": [],
   "source": [
    "state_0 = vqd_states[0]\n",
    "state_1 = vqd_states[1]\n",
    "state_2 = vqd_states[2]\n",
    "state_3 = vqd_states[3]\n",
    "state_4 = vqd_states[4]"
   ]
  },
  {
   "cell_type": "code",
   "execution_count": 96,
   "metadata": {},
   "outputs": [],
   "source": [
    "from qiskit import execute\n",
    "state_1.measure_all()\n",
    "count = execute(state_2, backend=backend, shots=10000).result().get_counts()"
   ]
  },
  {
   "cell_type": "code",
   "execution_count": 97,
   "metadata": {},
   "outputs": [
    {
     "data": {
      "text/plain": [
       "{'10': 5204, '01': 2331, '11': 2234, '00': 231}"
      ]
     },
     "execution_count": 97,
     "metadata": {},
     "output_type": "execute_result"
    }
   ],
   "source": [
    "count"
   ]
  },
  {
   "cell_type": "code",
   "execution_count": 94,
   "metadata": {},
   "outputs": [
    {
     "data": {
      "text/plain": [
       "[-1.953125, -1.0171812500000001, 1.2366546875000006]"
      ]
     },
     "execution_count": 94,
     "metadata": {},
     "output_type": "execute_result"
    }
   ],
   "source": [
    "vqd_energies"
   ]
  },
  {
   "cell_type": "code",
   "execution_count": 95,
   "metadata": {},
   "outputs": [
    {
     "name": "stdout",
     "output_type": "stream",
     "text": [
      "Gap Exact: 1.0\n",
      "Gap VQD: 1.1269179687500004\n"
     ]
    }
   ],
   "source": [
    "print(f\"Gap Exact: {(eigenvalues[2] - eigenvalues[1])/2}\")\n",
    "print(f\"Gap VQD: {(vqd_energies[2] - vqd_energies[1])/2}\")"
   ]
  },
  {
   "cell_type": "markdown",
   "metadata": {
    "heading_collapsed": true
   },
   "source": [
    "# Do statistics"
   ]
  },
  {
   "cell_type": "code",
   "execution_count": 54,
   "metadata": {
    "hidden": true
   },
   "outputs": [
    {
     "name": "stderr",
     "output_type": "stream",
     "text": [
      "100%|██████████| 50/50 [1:02:03<00:00, 74.00s/it]\n"
     ]
    }
   ],
   "source": [
    "from tqdm import tqdm\n",
    "\n",
    "gs = []\n",
    "es = []\n",
    "\n",
    "for _ in tqdm(range(50)):\n",
    "    optimizer = COBYLA()\n",
    "    backend = BasicAer.get_backend('qasm_simulator')\n",
    "\n",
    "    Algo = VQD(hamiltonian=hamiltonian,\n",
    "                n_excited_states=1,\n",
    "                beta=1.,\n",
    "                optimizer=optimizer,\n",
    "                backend=backend)\n",
    "\n",
    "    Algo.run(0)      \n",
    "    vqd_energies = Algo.energies\n",
    "    gs.append(vqd_energies[0])\n",
    "    es.append(vqd_energies[1])\n"
   ]
  },
  {
   "cell_type": "code",
   "execution_count": 44,
   "metadata": {
    "hidden": true
   },
   "outputs": [],
   "source": [
    "np.savetxt(\"groundstate.txt\", gs)\n",
    "np.savetxt(\"excitedstate.txt\", es)"
   ]
  },
  {
   "cell_type": "code",
   "execution_count": 45,
   "metadata": {
    "hidden": true
   },
   "outputs": [
    {
     "name": "stdout",
     "output_type": "stream",
     "text": [
      "Ground State: -1.9 +/- 0.121 | Expected: -2.0\n",
      "Excited State: -1.09 +/- 0.175 | Expected: -1.0\n"
     ]
    }
   ],
   "source": [
    "print(f\"Ground State: {np.round(np.mean(gs),3)} +/- {np.round(np.std(gs),3)} | Expected: {eigenvalues[0]}\")\n",
    "print(f\"Excited State: {np.round(np.mean(es),3)} +/- {np.round(np.std(es),3)} | Expected: {eigenvalues[1]}\")"
   ]
  },
  {
   "cell_type": "markdown",
   "metadata": {
    "heading_collapsed": true,
    "hidden": true
   },
   "source": [
    "## Plots"
   ]
  },
  {
   "cell_type": "code",
   "execution_count": 59,
   "metadata": {
    "hidden": true
   },
   "outputs": [
    {
     "data": {
      "image/png": "[encoded data removed]",
      "text/plain": [
       "<Figure size 432x288 with 1 Axes>"
      ]
     },
     "metadata": {
      "needs_background": "light"
     },
     "output_type": "display_data"
    }
   ],
   "source": [
    "import seaborn as sns\n",
    "\n",
    "sns.boxplot(x=gs)\n",
    "ax=sns.swarmplot(x=gs, color=\"0.25\")\n",
    "ax.set_title(\"Ground State\")\n",
    "ax.vlines(x=eigenvalues[0], ymin=-10, ymax=10, label='Expected Eigenvalue',color='r')\n",
    "plt.show()"
   ]
  },
  {
   "cell_type": "code",
   "execution_count": 58,
   "metadata": {
    "hidden": true
   },
   "outputs": [
    {
     "data": {
      "image/png": "[encoded data removed]",
      "text/plain": [
       "<Figure size 432x288 with 1 Axes>"
      ]
     },
     "metadata": {
      "needs_background": "light"
     },
     "output_type": "display_data"
    }
   ],
   "source": [
    "sns.boxplot(x=es)\n",
    "ax=sns.swarmplot(x=es, color=\"0.25\")\n",
    "ax.set_title(\"Excited State\")\n",
    "ax.vlines(x=eigenvalues[1], ymin=-10, ymax=10, label='Expected Eigenvalue',color='r')\n",
    "plt.legend()\n",
    "plt.show()"
   ]
  },
  {
   "cell_type": "code",
   "execution_count": 60,
   "metadata": {
    "hidden": true
   },
   "outputs": [
    {
     "data": {
      "image/png": "[encoded data removed]",
      "text/plain": [
       "<Figure size 432x288 with 1 Axes>"
      ]
     },
     "metadata": {
      "needs_background": "light"
     },
     "output_type": "display_data"
    }
   ],
   "source": [
    "sns.boxplot(x=np.array(es)- np.array(gs))\n",
    "ax=sns.swarmplot(x=np.array(es)- np.array(gs), color=\"0.25\")\n",
    "ax.set_title(\"Gap\")\n",
    "ax.vlines(x=eigenvalues[1] - eigenvalues[0], ymin=-10, ymax=10, label='Expected value',color='r')\n",
    "plt.legend()\n",
    "plt.show()"
   ]
  },
  {
   "cell_type": "markdown",
   "metadata": {},
   "source": [
    "# Varying V"
   ]
  },
  {
   "cell_type": "code",
   "execution_count": 12,
   "metadata": {},
   "outputs": [],
   "source": [
    "from tqdm import tqdm\n",
    "\n",
    "def hamiltonian_varying_V(min_V, max_V, points, epsilons):\n",
    "    energies_VQD = []\n",
    "    energies_Classical = []\n",
    "    \n",
    "    V = np.linspace(min_V, max_V, points)\n",
    "    \n",
    "    for v in tqdm(V):\n",
    "        hamiltonian = BCS_hamiltonian(epsilons, v)\n",
    "        \n",
    "        optimizer = COBYLA(maxiter=10000)\n",
    "        backend = BasicAer.get_backend('qasm_simulator')\n",
    "\n",
    "        Algo = VQD(hamiltonian=hamiltonian,\n",
    "                    n_excited_states=2,\n",
    "                    beta=3.,\n",
    "                    optimizer=optimizer,\n",
    "                    backend=backend)\n",
    "        \n",
    "        Algo.run(0)      \n",
    "        quantum = Algo.energies\n",
    "        energies_VQD.append([quantum[1], quantum[2]])\n",
    "        classical = classical_solver(hamiltonian)\n",
    "        energies_Classical.append([classical[1], classical[2]])\n",
    "    \n",
    "    return energies_VQD, energies_Classical, V"
   ]
  },
  {
   "cell_type": "code",
   "execution_count": 13,
   "metadata": {},
   "outputs": [
    {
     "name": "stderr",
     "output_type": "stream",
     "text": [
      "100%|██████████| 5/5 [11:06<00:00, 131.47s/it]\n"
     ]
    }
   ],
   "source": [
    "min_V = -0.\n",
    "max_V = -1.\n",
    "points = 5\n",
    "epsilons = [2,2]\n",
    "energy_vqd, energy_classical, V = hamiltonian_varying_V(min_V, max_V, points, epsilons)"
   ]
  },
  {
   "cell_type": "code",
   "execution_count": 14,
   "metadata": {},
   "outputs": [
    {
     "data": {
      "image/png": "[encoded data removed]",
      "text/plain": [
       "<Figure size 432x288 with 1 Axes>"
      ]
     },
     "metadata": {
      "needs_background": "light"
     },
     "output_type": "display_data"
    }
   ],
   "source": [
    "plt.plot(V, [value[1] - value[0] for value in energy_vqd], 'ro', label=\"VQD\")\n",
    "plt.plot(V, [value[1] - value[0] for value in energy_classical], 'go', label=\"Exact\")\n",
    "plt.xlabel('V')\n",
    "plt.ylabel('Gap')\n",
    "plt.legend()\n",
    "plt.show()"
   ]
  },
  {
   "cell_type": "markdown",
   "metadata": {},
   "source": [
    "# Varying epislon"
   ]
  },
  {
   "cell_type": "code",
   "execution_count": 10,
   "metadata": {},
   "outputs": [],
   "source": [
    "from tqdm import tqdm\n",
    "\n",
    "def hamiltonian_varying_eps(eps, V):\n",
    "    energies_VQD = []\n",
    "    energies_Classical = []\n",
    "    \n",
    "    for epsilons in tqdm(eps):\n",
    "        hamiltonian = BCS_hamiltonian(epsilons, V)\n",
    "        \n",
    "        optimizer = COBYLA(maxiter=10000)\n",
    "        backend = BasicAer.get_backend('qasm_simulator')\n",
    "\n",
    "        Algo = VQD(hamiltonian=hamiltonian,\n",
    "                    n_excited_states=1,\n",
    "                    beta=3.,\n",
    "                    optimizer=optimizer,\n",
    "                    backend=backend)\n",
    "        \n",
    "        Algo.run(0)      \n",
    "        uantum = Algo.energies\n",
    "        energies_VQD.append([quantum[1], quantum[2]])\n",
    "        classical = classical_solver(hamiltonian)\n",
    "        energies_Classical.append([classical[1], classical[2]])\n",
    "    \n",
    "    return energies_VQD, energies_Classical"
   ]
  },
  {
   "cell_type": "code",
   "execution_count": 21,
   "metadata": {},
   "outputs": [
    {
     "name": "stderr",
     "output_type": "stream",
     "text": [
      "100%|██████████| 5/5 [06:59<00:00, 85.62s/it]\n"
     ]
    }
   ],
   "source": [
    "eps = [[1,0], [1,1], [1, 1.5], [1, 2.], [1, 2.5]]\n",
    "V = -1.\n",
    "energy_vqd, energy_classical = hamiltonian_varying_eps(eps, V)"
   ]
  },
  {
   "cell_type": "code",
   "execution_count": 24,
   "metadata": {},
   "outputs": [
    {
     "data": {
      "image/png": "[encoded data removed]",
      "text/plain": [
       "<Figure size 432x288 with 1 Axes>"
      ]
     },
     "metadata": {
      "needs_background": "light"
     },
     "output_type": "display_data"
    }
   ],
   "source": [
    "plt.plot([str(v) for v in eps], [value[1] - value[0] for value in energy_vqd], 'ro', label=\"VQD\")\n",
    "plt.plot([str(v) for v in eps], [value[1] - value[0] for value in energy_classical], 'go', label=\"Exact\")\n",
    "plt.xlabel('$\\epsilon$')\n",
    "plt.ylabel('Gap')\n",
    "plt.legend()\n",
    "plt.show()"
   ]
  },
  {
   "cell_type": "code",
   "execution_count": null,
   "metadata": {},
   "outputs": [],
   "source": []
  }
 ],
 "metadata": {
  "kernelspec": {
   "display_name": "Python 3",
   "language": "python",
   "name": "python3"
  },
  "language_info": {
   "codemirror_mode": {
    "name": "ipython",
    "version": 3
   },
   "file_extension": ".py",
   "mimetype": "text/x-python",
   "name": "python",
   "nbconvert_exporter": "python",
   "pygments_lexer": "ipython3",
   "version": "3.6.8"
  },
  "toc": {
   "base_numbering": 1,
   "nav_menu": {},
   "number_sections": true,
   "sideBar": true,
   "skip_h1_title": false,
   "title_cell": "Table of Contents",
   "title_sidebar": "Contents",
   "toc_cell": true,
   "toc_position": {},
   "toc_section_display": true,
   "toc_window_display": false
  }
 },
 "nbformat": 4,
 "nbformat_minor": 4
}
