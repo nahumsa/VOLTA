{
 "cells": [
  {
   "cell_type": "markdown",
   "metadata": {
    "toc": true
   },
   "source": [
    "<h1>Table of Contents<span class=\"tocSkip\"></span></h1>\n",
    "<div class=\"toc\"><ul class=\"toc-item\"><li><span><a href=\"#BCS\" data-toc-modified-id=\"BCS-1\"><span class=\"toc-item-num\">1&nbsp;&nbsp;</span>BCS</a></span></li><li><span><a href=\"#Varying-V\" data-toc-modified-id=\"Varying-V-2\"><span class=\"toc-item-num\">2&nbsp;&nbsp;</span>Varying V</a></span></li></ul></div>"
   ]
  },
  {
   "cell_type": "markdown",
   "metadata": {},
   "source": [
    "# BCS"
   ]
  },
  {
   "cell_type": "markdown",
   "metadata": {},
   "source": [
    "Using the Paper by [Wu et al.](https://arxiv.org/abs/quant-ph/0108110), we have that:\n",
    "\n",
    "The BCS hamiltonian is:\n",
    "\n",
    "$$H_{BCS} = \\sum_{m=1}^N \\frac{\\epsilon_m}{2} ( n_m^F + n_{-m}^F ) + \\sum_{m,k=1}^N V^{+}_{ml} c^\\dagger_m c^\\dagger_{-m} c_{-l}c_l$$\n",
    "\n",
    "Where $n_{\\pm m}^F = c^\\dagger_{\\pm m} c_{\\pm m}$, and the matrix elements $V^+_{ml} = \\langle m, -m| V | l, -l \\rangle$.\n",
    "\n",
    "Which is mapped into:\n",
    "\n",
    "$$H_P = \\sum_{m=1}^N \\frac{\\epsilon_m}{2} \\sigma^Z_m + \\sum_{r= \\pm l} \\sum_{l>m=1}^N \\frac{V_{ml}^r}{2} ( \\sigma^x_m \\sigma^x_l + r \\sigma^y_m \\sigma^y_l )$$\n",
    "\n",
    "where $\\epsilon_m = \\epsilon_m + V^+_{mm}$ and $V^-_{ml} = 0$ for the BCS Hamiltonian, thus:\n",
    "\n",
    "$$H_P = \\sum_{m=1}^N \\frac{\\epsilon_m}{2} \\sigma^Z_m +  \\sum_{l>m=1}^N \\frac{V_{ml}}{2} ( \\sigma^x_m \\sigma^x_l +  \\sigma^y_m \\sigma^y_l )$$\n",
    "\n",
    "$l \\ \\mathrm{and} \\ m$ now denote both state and qubit indices. In this case the qubit state space $H_P = Span \\{ |0 \\rangle, \\sigma^+_m |0 \\rangle, \\sigma_l^+ \\sigma_m^+ |0 \\rangle, \\dots   \\}$ is mapped into a subspace where $n_m^F = n^F_{-m}$. Considering $V_{ml} = V$, we have that:\n",
    "\n",
    "$$\n",
    "H_p = \\hbar \\bigg[ \\sum_{m=1}^N \\frac{\\epsilon_m}{2} \\sigma_z^m + \\frac{V}{2} \\sum_{l>m=1}^N (\\sigma_x^m \\sigma_x^l + \\sigma_y^m \\sigma_y^l) \\bigg]\n",
    "$$\n",
    "\n",
    "This leads to a spectrum of $E_0^{\\pm} = \\pm(\\epsilon_0 + \\epsilon_1)/2$, $E_1^{\\pm} = \\pm \\sqrt{\\epsilon^2 + 4V^2}/2$, where $\\epsilon^2 = (\\epsilon_0 - \\epsilon_1)^2$.\n",
    "The eigenvalues are calculated in this [notebook](https://colab.research.google.com/drive/18IyDfCYlMx957260MSwvJtUeTcAJFnza?usp=sharing):\n",
    "\n",
    "[Aqua Operator Flow Reference](https://github.com/dongreenberg/aqua_talks/blob/master/Understanding%20Aqua's%20Operator%20Flow.ipynb)"
   ]
  },
  {
   "cell_type": "code",
   "execution_count": 1,
   "metadata": {},
   "outputs": [],
   "source": [
    "import sys\n",
    "sys.path.append('../../')\n",
    "\n",
    "# Python imports\n",
    "import numpy as np\n",
    "import matplotlib.pyplot as plt\n",
    "\n",
    "# Qiskit\n",
    "from qiskit import BasicAer\n",
    "from qiskit.aqua.components.optimizers import COBYLA, SPSA, L_BFGS_B\n",
    "from qiskit.circuit.library import TwoLocal\n",
    "\n",
    "# VOLTA\n",
    "from VOLTA.VQD import VQD\n",
    "from VOLTA.utils import classical_solver\n",
    "from VOLTA.Hamiltonians import BCS_hamiltonian\n",
    "\n",
    "%load_ext autoreload\n",
    "%autoreload 2"
   ]
  },
  {
   "cell_type": "code",
   "execution_count": 27,
   "metadata": {
    "scrolled": true
   },
   "outputs": [
    {
     "name": "stdout",
     "output_type": "stream",
     "text": [
      "SummedOp([\n",
      "  1.5 * ZI,\n",
      "  1.5 * IZ,\n",
      "  -1.0 * XX,\n",
      "  -1.0 * YY\n",
      "])\n"
     ]
    }
   ],
   "source": [
    "EPSILONS = [3, 3]\n",
    "V = -2\n",
    "hamiltonian = BCS_hamiltonian(EPSILONS, V)\n",
    "print(hamiltonian)"
   ]
  },
  {
   "cell_type": "code",
   "execution_count": 28,
   "metadata": {
    "scrolled": false
   },
   "outputs": [
    {
     "name": "stdout",
     "output_type": "stream",
     "text": [
      "Eigenvalues: [-3. -2.  2.  3.]\n"
     ]
    }
   ],
   "source": [
    "eigenvalues, eigenvectors = classical_solver(hamiltonian)\n",
    "print(f\"Eigenvalues: {eigenvalues}\")"
   ]
  },
  {
   "cell_type": "markdown",
   "metadata": {},
   "source": [
    "# Varying V"
   ]
  },
  {
   "cell_type": "code",
   "execution_count": 99,
   "metadata": {},
   "outputs": [],
   "source": [
    "from tqdm import tqdm\n",
    "\n",
    "def hamiltonian_varying_V(min_V, max_V, points, epsilons):\n",
    "    energies_VQD = []\n",
    "    energies_Classical = []\n",
    "    \n",
    "    V = np.linspace(min_V, max_V, points)\n",
    "    \n",
    "    for v in tqdm(V):\n",
    "        hamiltonian = BCS_hamiltonian(epsilons, v)\n",
    "        \n",
    "        backend = QuantumInstance(backend=BasicAer.get_backend('qasm_simulator'),\n",
    "                              shots=10000)\n",
    "\n",
    "        # Define ansatz\n",
    "        ansatz = TwoLocal(hamiltonian.num_qubits, ['ry','rz'], 'cx', reps=2)\n",
    "\n",
    "        # Run algorithm\n",
    "        Algo = VQD(hamiltonian=hamiltonian,\n",
    "                    ansatz=ansatz,\n",
    "                    n_excited_states=2,\n",
    "                    beta=10.,\n",
    "                    optimizer=optimizer,\n",
    "                    backend=backend)\n",
    "        \n",
    "        Algo.run(0)      \n",
    "        quantum = Algo.energies\n",
    "        energies_VQD.append([quantum[1], quantum[2]])\n",
    "        classical, _ = classical_solver(hamiltonian)\n",
    "        energies_Classical.append([classical[1], classical[2]])\n",
    "    \n",
    "    return energies_VQD, energies_Classical, V"
   ]
  },
  {
   "cell_type": "code",
   "execution_count": 100,
   "metadata": {},
   "outputs": [
    {
     "name": "stderr",
     "output_type": "stream",
     "text": [
      "\n",
      "  0%|          | 0/10 [00:00<?, ?it/s]\u001b[A\n",
      " 10%|█         | 1/10 [02:23<21:30, 143.43s/it]\u001b[A\n",
      " 20%|██        | 2/10 [05:01<19:43, 147.90s/it]\u001b[A\n",
      " 30%|███       | 3/10 [07:35<17:28, 149.75s/it]\u001b[A\n",
      " 40%|████      | 4/10 [10:12<15:10, 151.78s/it]\u001b[A\n",
      " 50%|█████     | 5/10 [12:39<12:31, 150.38s/it]\u001b[A\n",
      " 60%|██████    | 6/10 [15:10<10:01, 150.47s/it]\u001b[A\n",
      " 70%|███████   | 7/10 [17:53<07:42, 154.32s/it]\u001b[A\n",
      " 80%|████████  | 8/10 [20:24<05:06, 153.42s/it]\u001b[A\n",
      " 90%|█████████ | 9/10 [22:52<02:31, 151.64s/it]\u001b[A\n",
      "100%|██████████| 10/10 [25:26<00:00, 152.29s/it]\u001b[A"
     ]
    }
   ],
   "source": [
    "min_V = -0.\n",
    "max_V = -2.5\n",
    "points = 10\n",
    "epsilons = [3,3]\n",
    "energy_vqd, energy_classical, V = hamiltonian_varying_V(min_V, max_V, points, epsilons)"
   ]
  },
  {
   "cell_type": "code",
   "execution_count": 101,
   "metadata": {},
   "outputs": [
    {
     "data": {
      "image/png": "[encoded data removed]",
      "text/plain": [
       "<Figure size 432x288 with 1 Axes>"
      ]
     },
     "metadata": {
      "needs_background": "light"
     },
     "output_type": "display_data"
    }
   ],
   "source": [
    "plt.plot(V, [value[1] - value[0] for value in energy_vqd], 'ro', label=\"VQD\")\n",
    "plt.plot(V, [value[1] - value[0] for value in energy_classical], 'go', label=\"Exact\")\n",
    "plt.xlabel('V')\n",
    "plt.ylabel('Gap')\n",
    "plt.legend()\n",
    "plt.show()"
   ]
  }
 ],
 "metadata": {
  "kernelspec": {
   "display_name": "Python 3",
   "language": "python",
   "name": "python3"
  },
  "language_info": {
   "codemirror_mode": {
    "name": "ipython",
    "version": 3
   },
   "file_extension": ".py",
   "mimetype": "text/x-python",
   "name": "python",
   "nbconvert_exporter": "python",
   "pygments_lexer": "ipython3",
   "version": "3.6.8"
  },
  "toc": {
   "base_numbering": 1,
   "nav_menu": {},
   "number_sections": true,
   "sideBar": true,
   "skip_h1_title": false,
   "title_cell": "Table of Contents",
   "title_sidebar": "Contents",
   "toc_cell": true,
   "toc_position": {},
   "toc_section_display": true,
   "toc_window_display": false
  }
 },
 "nbformat": 4,
 "nbformat_minor": 4
}
