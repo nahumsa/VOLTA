{
 "cells": [
  {
   "cell_type": "markdown",
   "metadata": {
    "toc": true
   },
   "source": [
    "<h1>Table of Contents<span class=\"tocSkip\"></span></h1>\n",
    "<div class=\"toc\"><ul class=\"toc-item\"><li><span><a href=\"#BCS\" data-toc-modified-id=\"BCS-1\"><span class=\"toc-item-num\">1&nbsp;&nbsp;</span>BCS</a></span></li><li><span><a href=\"#Varying-V\" data-toc-modified-id=\"Varying-V-2\"><span class=\"toc-item-num\">2&nbsp;&nbsp;</span>Varying V</a></span></li><li><span><a href=\"#Plot-both-optimizers\" data-toc-modified-id=\"Plot-both-optimizers-3\"><span class=\"toc-item-num\">3&nbsp;&nbsp;</span>Plot both optimizers</a></span></li></ul></div>"
   ]
  },
  {
   "cell_type": "markdown",
   "metadata": {},
   "source": [
    "# BCS"
   ]
  },
  {
   "cell_type": "markdown",
   "metadata": {},
   "source": [
    "Using the Paper by [Wu et al.](https://arxiv.org/abs/quant-ph/0108110), we have that:\n",
    "\n",
    "The BCS hamiltonian is:\n",
    "\n",
    "$$H_{BCS} = \\sum_{m=1}^N \\frac{\\epsilon_m}{2} ( n_m^F + n_{-m}^F ) + \\sum_{m,k=1}^N V^{+}_{ml} c^\\dagger_m c^\\dagger_{-m} c_{-l}c_l$$\n",
    "\n",
    "Where $n_{\\pm m}^F = c^\\dagger_{\\pm m} c_{\\pm m}$, and the matrix elements $V^+_{ml} = \\langle m, -m| V | l, -l \\rangle$.\n",
    "\n",
    "Which is mapped into:\n",
    "\n",
    "$$H_P = \\sum_{m=1}^N \\frac{\\epsilon_m}{2} \\sigma^Z_m + \\sum_{r= \\pm l} \\sum_{l>m=1}^N \\frac{V_{ml}^r}{2} ( \\sigma^x_m \\sigma^x_l + r \\sigma^y_m \\sigma^y_l )$$\n",
    "\n",
    "where $\\epsilon_m = \\epsilon_m + V^+_{mm}$ and $V^-_{ml} = 0$ for the BCS Hamiltonian, thus:\n",
    "\n",
    "$$H_P = \\sum_{m=1}^N \\frac{\\epsilon_m}{2} \\sigma^Z_m +  \\sum_{l>m=1}^N \\frac{V_{ml}}{2} ( \\sigma^x_m \\sigma^x_l +  \\sigma^y_m \\sigma^y_l )$$\n",
    "\n",
    "$l \\ \\mathrm{and} \\ m$ now denote both state and qubit indices. In this case the qubit state space $H_P = Span \\{ |0 \\rangle, \\sigma^+_m |0 \\rangle, \\sigma_l^+ \\sigma_m^+ |0 \\rangle, \\dots   \\}$ is mapped into a subspace where $n_m^F = n^F_{-m}$. Considering $V_{ml} = V$, we have that:\n",
    "\n",
    "$$\n",
    "H_p = \\hbar \\bigg[ \\sum_{m=1}^N \\frac{\\epsilon_m}{2} \\sigma_z^m + \\frac{V}{2} \\sum_{l>m=1}^N (\\sigma_x^m \\sigma_x^l + \\sigma_y^m \\sigma_y^l) \\bigg]\n",
    "$$\n",
    "\n",
    "This leads to a spectrum of $E_0^{\\pm} = \\pm(\\epsilon_0 + \\epsilon_1)/2$, $E_1^{\\pm} = \\pm \\sqrt{\\epsilon^2 + 4V^2}/2$, where $\\epsilon^2 = (\\epsilon_0 - \\epsilon_1)^2$.\n",
    "The eigenvalues are calculated in this [notebook](https://colab.research.google.com/drive/18IyDfCYlMx957260MSwvJtUeTcAJFnza?usp=sharing):\n",
    "\n",
    "[Aqua Operator Flow Reference](https://github.com/dongreenberg/aqua_talks/blob/master/Understanding%20Aqua's%20Operator%20Flow.ipynb)"
   ]
  },
  {
   "cell_type": "code",
   "execution_count": 1,
   "metadata": {},
   "outputs": [],
   "source": [
    "import sys\n",
    "sys.path.append('../../')\n",
    "\n",
    "# Python imports\n",
    "import numpy as np\n",
    "import matplotlib.pyplot as plt\n",
    "\n",
    "# Qiskit\n",
    "from qiskit import BasicAer\n",
    "from qiskit.aqua import QuantumInstance\n",
    "from qiskit.aqua.components.optimizers import COBYLA, SPSA\n",
    "from qiskit.circuit.library import TwoLocal\n",
    "\n",
    "# VOLTA\n",
    "from VOLTA.VQD import VQD\n",
    "from VOLTA.utils import classical_solver\n",
    "from VOLTA.Hamiltonians import BCS_hamiltonian\n",
    "\n",
    "%load_ext autoreload\n",
    "%autoreload 2"
   ]
  },
  {
   "cell_type": "code",
   "execution_count": 19,
   "metadata": {
    "scrolled": true
   },
   "outputs": [
    {
     "name": "stdout",
     "output_type": "stream",
     "text": [
      "SummedOp([\n",
      "  1.5 * ZI,\n",
      "  1.5 * IZ,\n",
      "  -1.0 * XX,\n",
      "  -1.0 * YY\n",
      "])\n"
     ]
    }
   ],
   "source": [
    "EPSILONS = [3, 3]\n",
    "V = -2.\n",
    "hamiltonian = BCS_hamiltonian(EPSILONS, V)\n",
    "print(hamiltonian)"
   ]
  },
  {
   "cell_type": "code",
   "execution_count": 20,
   "metadata": {
    "scrolled": false
   },
   "outputs": [
    {
     "name": "stdout",
     "output_type": "stream",
     "text": [
      "Eigenvalues: [-3. -2.  2.  3.]\n"
     ]
    }
   ],
   "source": [
    "eigenvalues, eigenvectors = classical_solver(hamiltonian)\n",
    "print(f\"Eigenvalues: {eigenvalues}\")"
   ]
  },
  {
   "cell_type": "markdown",
   "metadata": {},
   "source": [
    "# Varying V"
   ]
  },
  {
   "cell_type": "code",
   "execution_count": 35,
   "metadata": {},
   "outputs": [],
   "source": [
    "from tqdm import tqdm\n",
    "\n",
    "def hamiltonian_varying_V(min_V, max_V, points, epsilons, n_trials):\n",
    "    solution_VQD = {}\n",
    "    energies_Classical = []\n",
    "    \n",
    "    V = np.linspace(min_V, max_V, points)\n",
    "    \n",
    "    backend = QuantumInstance(backend=BasicAer.get_backend('qasm_simulator'),\n",
    "                              shots=10000)\n",
    "    \n",
    "    optimizer = SPSA(maxiter=250, c1=.5, last_avg=25) \n",
    "    #optimizer = COBYLA()\n",
    "    \n",
    "    for v in tqdm(V):\n",
    "        hamiltonian = BCS_hamiltonian(epsilons, v)\n",
    "        ansatz = TwoLocal(hamiltonian.num_qubits, ['ry','rz'], 'cx', reps=3)\n",
    "        \n",
    "        es_1 = []\n",
    "        es_2 = []\n",
    "\n",
    "        for _ in tqdm(range(n_trials), desc=f\"V= {v}\"):\n",
    "\n",
    "            # Run algorithm\n",
    "            Algo = VQD(hamiltonian=hamiltonian,\n",
    "                        ansatz=ansatz,\n",
    "                        n_excited_states=2,\n",
    "                        beta=10.,\n",
    "                        optimizer=optimizer,\n",
    "                        backend=backend)\n",
    "\n",
    "            Algo.run(0)      \n",
    "            vqd_energies = Algo.energies\n",
    "            es_1.append(vqd_energies[1])\n",
    "            es_2.append(vqd_energies[2])\n",
    "        es_1 = np.array(es_1)\n",
    "        es_2 = np.array(es_2)\n",
    "    \n",
    "        solution_VQD[v] = {'mean':np.mean(es_2 - es_1), 'std':np.std(es_2 - es_1)}\n",
    "        \n",
    "        classical, _ = classical_solver(hamiltonian)\n",
    "        energies_Classical.append(classical[2]- classical[1])\n",
    "    \n",
    "    return solution_VQD, np.array(energies_Classical), V"
   ]
  },
  {
   "cell_type": "code",
   "execution_count": 36,
   "metadata": {
    "scrolled": true
   },
   "outputs": [
    {
     "name": "stderr",
     "output_type": "stream",
     "text": [
      "  0%|          | 0/5 [00:00<?, ?it/s]\n",
      "V= -0.0:   0%|          | 0/50 [00:00<?, ?it/s]\n",
      "V= -0.0:   2%|▏         | 1/50 [09:09<7:28:57, 549.75s/it]\n",
      "V= -0.0:   4%|▍         | 2/50 [19:23<7:35:14, 569.04s/it]\n",
      "V= -0.0:   6%|▌         | 3/50 [29:37<7:36:17, 582.50s/it]\n",
      "V= -0.0:   8%|▊         | 4/50 [39:53<7:34:07, 592.34s/it]\n",
      "V= -0.0:  10%|█         | 5/50 [50:10<7:29:48, 599.74s/it]\n",
      "V= -0.0:  12%|█▏        | 6/50 [1:00:47<7:28:07, 611.09s/it]\n",
      "V= -0.0:  14%|█▍        | 7/50 [1:11:25<7:23:48, 619.28s/it]\n",
      "V= -0.0:  16%|█▌        | 8/50 [1:22:01<7:16:51, 624.07s/it]\n",
      "V= -0.0:  18%|█▊        | 9/50 [1:32:12<7:03:47, 620.18s/it]\n",
      "V= -0.0:  20%|██        | 10/50 [1:42:46<6:56:13, 624.34s/it]\n",
      "V= -0.0:  22%|██▏       | 11/50 [1:53:23<6:48:19, 628.18s/it]\n",
      "V= -0.0:  24%|██▍       | 12/50 [2:04:03<6:40:04, 631.71s/it]\n",
      "V= -0.0:  26%|██▌       | 13/50 [2:14:38<6:30:12, 632.77s/it]\n",
      "V= -0.0:  28%|██▊       | 14/50 [2:25:15<6:20:22, 633.95s/it]\n",
      "V= -0.0:  30%|███       | 15/50 [2:35:49<6:09:52, 634.06s/it]\n",
      "V= -0.0:  32%|███▏      | 16/50 [2:46:23<5:59:18, 634.08s/it]\n",
      "V= -0.0:  34%|███▍      | 17/50 [2:57:22<5:52:45, 641.39s/it]\n",
      "V= -0.0:  36%|███▌      | 18/50 [3:07:56<5:40:55, 639.23s/it]\n",
      "V= -0.0:  38%|███▊      | 19/50 [3:18:31<5:29:34, 637.89s/it]\n",
      "V= -0.0:  40%|████      | 20/50 [3:29:28<5:21:50, 643.68s/it]\n",
      "V= -0.0:  42%|████▏     | 21/50 [3:40:03<5:09:50, 641.06s/it]\n",
      "V= -0.0:  44%|████▍     | 22/50 [3:50:39<4:58:29, 639.64s/it]\n",
      "V= -0.0:  46%|████▌     | 23/50 [4:01:37<4:50:19, 645.17s/it]\n",
      "V= -0.0:  48%|████▊     | 24/50 [4:12:12<4:38:09, 641.90s/it]\n",
      "V= -0.0:  50%|█████     | 25/50 [4:22:47<4:26:37, 639.90s/it]\n",
      "V= -0.0:  52%|█████▏    | 26/50 [4:33:44<4:18:05, 645.23s/it]\n",
      "V= -0.0:  54%|█████▍    | 27/50 [4:44:19<4:06:04, 641.92s/it]\n",
      "V= -0.0:  56%|█████▌    | 28/50 [4:54:53<3:54:34, 639.73s/it]\n",
      "V= -0.0:  58%|█████▊    | 29/50 [5:05:27<3:43:16, 637.95s/it]\n",
      "V= -0.0:  60%|██████    | 30/50 [5:16:25<3:34:37, 643.89s/it]\n",
      "V= -0.0:  62%|██████▏   | 31/50 [5:27:19<3:24:52, 646.98s/it]\n",
      "V= -0.0:  64%|██████▍   | 32/50 [5:37:55<3:13:08, 643.81s/it]\n",
      "V= -0.0:  66%|██████▌   | 33/50 [5:48:50<3:03:19, 647.01s/it]\n",
      "V= -0.0:  68%|██████▊   | 34/50 [5:59:22<2:51:20, 642.50s/it]\n",
      "V= -0.0:  70%|███████   | 35/50 [6:10:20<2:41:49, 647.30s/it]\n",
      "V= -0.0:  72%|███████▏  | 36/50 [6:20:52<2:29:57, 642.71s/it]\n",
      "V= -0.0:  74%|███████▍  | 37/50 [6:31:25<2:18:35, 639.69s/it]\n",
      "V= -0.0:  76%|███████▌  | 38/50 [6:42:24<2:09:06, 645.51s/it]\n",
      "V= -0.0:  78%|███████▊  | 39/50 [6:53:22<1:59:02, 649.33s/it]\n",
      "V= -0.0:  80%|████████  | 40/50 [7:03:53<1:47:17, 643.80s/it]\n",
      "V= -0.0:  82%|████████▏ | 41/50 [7:14:53<1:37:16, 648.52s/it]\n",
      "V= -0.0:  84%|████████▍ | 42/50 [7:25:24<1:25:46, 643.33s/it]\n",
      "V= -0.0:  86%|████████▌ | 43/50 [7:36:22<1:15:34, 647.72s/it]\n",
      "V= -0.0:  88%|████████▊ | 44/50 [7:46:54<1:04:18, 643.06s/it]\n",
      "V= -0.0:  90%|█████████ | 45/50 [7:57:51<53:55, 647.10s/it]  \n",
      "V= -0.0:  92%|█████████▏| 46/50 [8:08:23<42:50, 642.59s/it]\n",
      "V= -0.0:  94%|█████████▍| 47/50 [8:19:17<32:18, 646.07s/it]\n",
      "V= -0.0:  96%|█████████▌| 48/50 [8:29:49<21:23, 641.97s/it]\n",
      "V= -0.0:  98%|█████████▊| 49/50 [8:40:50<10:47, 647.45s/it]\n",
      " 20%|██        | 1/5 [8:51:20<35:25:20, 31880.15s/it]3s/it]\n",
      "V= -0.5:   0%|          | 0/50 [00:00<?, ?it/s]\n",
      "V= -0.5:   2%|▏         | 1/50 [10:55<8:55:37, 655.86s/it]\n",
      "V= -0.5:   4%|▍         | 2/50 [21:51<8:44:37, 655.78s/it]\n",
      "V= -0.5:   6%|▌         | 3/50 [32:20<8:27:18, 647.62s/it]\n",
      "V= -0.5:   8%|▊         | 4/50 [43:15<8:18:21, 650.02s/it]\n",
      "V= -0.5:  10%|█         | 5/50 [53:46<8:03:10, 644.23s/it]\n",
      "V= -0.5:  12%|█▏        | 6/50 [1:04:45<7:55:36, 648.55s/it]\n",
      "V= -0.5:  14%|█▍        | 7/50 [1:15:50<7:48:30, 653.74s/it]\n",
      "V= -0.5:  16%|█▌        | 8/50 [1:26:21<7:32:42, 646.74s/it]\n",
      "V= -0.5:  18%|█▊        | 9/50 [1:37:17<7:23:54, 649.62s/it]\n",
      "V= -0.5:  20%|██        | 10/50 [1:48:14<7:14:27, 651.70s/it]\n",
      "V= -0.5:  22%|██▏       | 11/50 [1:58:45<6:59:33, 645.47s/it]\n",
      "V= -0.5:  24%|██▍       | 12/50 [2:09:40<6:50:37, 648.34s/it]\n",
      "V= -0.5:  26%|██▌       | 13/50 [2:20:36<6:41:13, 650.64s/it]\n",
      "V= -0.5:  28%|██▊       | 14/50 [2:31:16<6:28:30, 647.52s/it]\n",
      "V= -0.5:  30%|███       | 15/50 [2:42:11<6:19:07, 649.93s/it]\n",
      "V= -0.5:  32%|███▏      | 16/50 [2:53:11<6:09:54, 652.79s/it]\n",
      "V= -0.5:  34%|███▍      | 17/50 [3:03:39<5:54:57, 645.39s/it]\n",
      "V= -0.5:  36%|███▌      | 18/50 [3:14:34<5:45:44, 648.27s/it]\n",
      "V= -0.5:  38%|███▊      | 19/50 [3:25:16<5:33:54, 646.28s/it]\n",
      "V= -0.5:  40%|████      | 20/50 [3:36:02<5:23:06, 646.22s/it]\n",
      "V= -0.5:  42%|████▏     | 21/50 [3:46:56<5:13:30, 648.63s/it]\n",
      "V= -0.5:  44%|████▍     | 22/50 [3:57:26<5:00:02, 642.95s/it]\n",
      "V= -0.5:  46%|████▌     | 23/50 [4:08:21<4:50:57, 646.57s/it]\n",
      "V= -0.5:  48%|████▊     | 24/50 [4:19:21<4:41:56, 650.64s/it]\n",
      "V= -0.5:  50%|█████     | 25/50 [4:29:54<4:28:55, 645.43s/it]\n",
      "V= -0.5:  52%|█████▏    | 26/50 [4:40:52<4:19:36, 649.02s/it]\n",
      "V= -0.5:  54%|█████▍    | 27/50 [4:51:48<4:09:42, 651.39s/it]\n",
      "V= -0.5:  56%|█████▌    | 28/50 [5:02:22<3:56:55, 646.15s/it]\n",
      "V= -0.5:  58%|█████▊    | 29/50 [5:13:16<3:46:53, 648.27s/it]\n",
      "V= -0.5:  60%|██████    | 30/50 [5:24:16<3:37:16, 651.85s/it]\n",
      "V= -0.5:  62%|██████▏   | 31/50 [5:35:14<3:26:59, 653.68s/it]\n",
      "V= -0.5:  64%|██████▍   | 32/50 [5:45:42<3:13:48, 646.03s/it]\n",
      "V= -0.5:  66%|██████▌   | 33/50 [5:56:37<3:03:47, 648.66s/it]\n",
      "V= -0.5:  68%|██████▊   | 34/50 [6:07:28<2:53:11, 649.45s/it]\n",
      "V= -0.5:  70%|███████   | 35/50 [6:18:22<2:42:41, 650.75s/it]\n",
      "V= -0.5:  72%|███████▏  | 36/50 [6:28:48<2:30:09, 643.52s/it]\n",
      "V= -0.5:  74%|███████▍  | 37/50 [6:39:44<2:20:13, 647.17s/it]\n",
      "V= -0.5:  76%|███████▌  | 38/50 [6:50:38<2:09:49, 649.09s/it]\n",
      "V= -0.5:  78%|███████▊  | 39/50 [7:01:09<1:58:00, 643.66s/it]\n",
      "V= -0.5:  80%|████████  | 40/50 [7:12:02<1:47:46, 646.61s/it]\n",
      "V= -0.5:  82%|████████▏ | 41/50 [7:22:58<1:37:23, 649.23s/it]\n",
      "V= -0.5:  84%|████████▍ | 42/50 [7:33:52<1:26:46, 650.82s/it]\n",
      "V= -0.5:  86%|████████▌ | 43/50 [7:44:20<1:15:06, 643.85s/it]\n",
      "V= -0.5:  88%|████████▊ | 44/50 [7:55:12<1:04:38, 646.49s/it]\n",
      "V= -0.5:  90%|█████████ | 45/50 [8:06:07<54:05, 649.07s/it]  \n",
      "V= -0.5:  92%|█████████▏| 46/50 [8:16:37<42:52, 643.24s/it]\n",
      "V= -0.5:  94%|█████████▍| 47/50 [8:27:32<32:20, 646.89s/it]\n",
      "V= -0.5:  96%|█████████▌| 48/50 [8:38:29<21:39, 649.84s/it]\n",
      "V= -0.5:  98%|█████████▊| 49/50 [8:49:26<10:51, 651.80s/it]\n",
      " 40%|████      | 2/5 [17:51:15<26:41:44, 32034.79s/it]s/it]\n",
      "V= -1.0:   0%|          | 0/50 [00:00<?, ?it/s]\n",
      "V= -1.0:   2%|▏         | 1/50 [10:52<8:53:00, 652.67s/it]\n",
      "V= -1.0:   4%|▍         | 2/50 [21:47<8:42:33, 653.20s/it]\n",
      "V= -1.0:   6%|▌         | 3/50 [32:41<8:31:55, 653.52s/it]\n",
      "V= -1.0:   8%|▊         | 4/50 [43:07<8:14:50, 645.45s/it]\n",
      "V= -1.0:  10%|█         | 5/50 [54:03<8:06:14, 648.33s/it]\n",
      "V= -1.0:  12%|█▏        | 6/50 [1:04:58<7:56:58, 650.42s/it]\n",
      "V= -1.0:  14%|█▍        | 7/50 [1:15:59<7:48:21, 653.53s/it]\n",
      "V= -1.0:  16%|█▌        | 8/50 [1:26:29<7:32:30, 646.45s/it]\n",
      "V= -1.0:  18%|█▊        | 9/50 [1:37:30<7:24:49, 650.96s/it]\n",
      "V= -1.0:  20%|██        | 10/50 [1:48:32<7:16:15, 654.38s/it]\n",
      "V= -1.0:  22%|██▏       | 11/50 [1:59:09<7:01:54, 649.09s/it]\n",
      "V= -1.0:  24%|██▍       | 12/50 [2:10:18<6:54:56, 655.17s/it]\n",
      "V= -1.0:  26%|██▌       | 13/50 [2:21:29<6:46:50, 659.75s/it]\n",
      "V= -1.0:  28%|██▊       | 14/50 [2:32:51<6:39:50, 666.41s/it]\n",
      "V= -1.0:  30%|███       | 15/50 [2:40:34<5:53:07, 605.36s/it]\n",
      "V= -1.0:  32%|███▏      | 16/50 [2:46:51<5:04:18, 537.01s/it]\n",
      "V= -1.0:  34%|███▍      | 17/50 [2:53:17<4:30:19, 491.50s/it]\n",
      "V= -1.0:  36%|███▌      | 18/50 [2:59:29<4:03:06, 455.83s/it]\n",
      "V= -1.0:  38%|███▊      | 19/50 [3:05:51<3:44:05, 433.74s/it]\n",
      "V= -1.0:  40%|████      | 20/50 [3:12:24<3:30:43, 421.45s/it]\n",
      "V= -1.0:  42%|████▏     | 21/50 [3:18:58<3:19:44, 413.25s/it]\n",
      "V= -1.0:  44%|████▍     | 22/50 [3:25:21<3:08:34, 404.08s/it]\n",
      "V= -1.0:  46%|████▌     | 23/50 [3:31:44<2:59:00, 397.80s/it]\n",
      "V= -1.0:  48%|████▊     | 24/50 [3:38:10<2:50:52, 394.32s/it]\n",
      "V= -1.0:  50%|█████     | 25/50 [3:44:32<2:42:41, 390.46s/it]\n",
      "V= -1.0:  52%|█████▏    | 26/50 [3:50:54<2:35:08, 387.85s/it]\n",
      "V= -1.0:  54%|█████▍    | 27/50 [3:57:16<2:28:05, 386.31s/it]\n",
      "V= -1.0:  56%|█████▌    | 28/50 [4:03:38<2:21:05, 384.80s/it]\n",
      "V= -1.0:  58%|█████▊    | 29/50 [4:10:01<2:14:34, 384.51s/it]\n",
      "V= -1.0:  60%|██████    | 30/50 [4:16:23<2:07:51, 383.57s/it]\n"
     ]
    },
    {
     "name": "stderr",
     "output_type": "stream",
     "text": [
      "V= -1.0:  62%|██████▏   | 31/50 [4:22:44<2:01:16, 382.98s/it]\n",
      "V= -1.0:  64%|██████▍   | 32/50 [4:29:06<1:54:46, 382.59s/it]\n",
      "V= -1.0:  66%|██████▌   | 33/50 [4:35:27<1:48:17, 382.23s/it]\n",
      "V= -1.0:  68%|██████▊   | 34/50 [4:41:49<1:41:52, 382.04s/it]\n",
      "V= -1.0:  70%|███████   | 35/50 [4:48:11<1:35:28, 381.87s/it]\n",
      "V= -1.0:  72%|███████▏  | 36/50 [4:54:32<1:29:03, 381.67s/it]\n",
      "V= -1.0:  74%|███████▍  | 37/50 [5:00:53<1:22:41, 381.64s/it]\n",
      "V= -1.0:  76%|███████▌  | 38/50 [5:07:15<1:16:18, 381.53s/it]\n",
      "V= -1.0:  78%|███████▊  | 39/50 [5:13:36<1:09:57, 381.56s/it]\n",
      "V= -1.0:  80%|████████  | 40/50 [5:19:58<1:03:35, 381.58s/it]\n",
      "V= -1.0:  82%|████████▏ | 41/50 [5:26:19<57:12, 381.42s/it]  \n",
      "V= -1.0:  84%|████████▍ | 42/50 [5:32:40<50:51, 381.48s/it]\n",
      "V= -1.0:  86%|████████▌ | 43/50 [5:39:02<44:30, 381.50s/it]\n",
      "V= -1.0:  88%|████████▊ | 44/50 [5:45:23<38:08, 381.43s/it]\n",
      "V= -1.0:  90%|█████████ | 45/50 [5:51:45<31:47, 381.48s/it]\n",
      "V= -1.0:  92%|█████████▏| 46/50 [5:58:06<25:25, 381.42s/it]\n",
      "V= -1.0:  94%|█████████▍| 47/50 [6:04:28<19:04, 381.43s/it]\n",
      "V= -1.0:  96%|█████████▌| 48/50 [6:10:49<12:43, 381.57s/it]\n",
      "V= -1.0:  98%|█████████▊| 49/50 [6:17:11<06:21, 381.58s/it]\n",
      " 60%|██████    | 3/5 [24:14:49<16:17:36, 29328.40s/it]s/it]\n",
      "V= -1.5:   0%|          | 0/50 [00:00<?, ?it/s]\n",
      "V= -1.5:   2%|▏         | 1/50 [06:21<5:11:56, 381.98s/it]\n",
      "V= -1.5:   4%|▍         | 2/50 [12:43<5:05:28, 381.84s/it]\n",
      "V= -1.5:   6%|▌         | 3/50 [19:05<4:59:03, 381.77s/it]\n",
      "V= -1.5:   8%|▊         | 4/50 [25:26<4:52:37, 381.68s/it]\n",
      "V= -1.5:  10%|█         | 5/50 [31:48<4:46:16, 381.69s/it]\n",
      "V= -1.5:  12%|█▏        | 6/50 [38:09<4:39:53, 381.68s/it]\n",
      "V= -1.5:  14%|█▍        | 7/50 [44:31<4:33:28, 381.59s/it]\n",
      "V= -1.5:  16%|█▌        | 8/50 [50:52<4:27:06, 381.59s/it]\n",
      "V= -1.5:  18%|█▊        | 9/50 [57:14<4:20:49, 381.70s/it]\n",
      "V= -1.5:  20%|██        | 10/50 [1:03:36<4:14:23, 381.60s/it]\n",
      "V= -1.5:  22%|██▏       | 11/50 [1:09:57<4:08:03, 381.63s/it]\n",
      "V= -1.5:  24%|██▍       | 12/50 [1:16:19<4:01:37, 381.52s/it]\n",
      "V= -1.5:  26%|██▌       | 13/50 [1:22:40<3:55:18, 381.59s/it]\n",
      "V= -1.5:  28%|██▊       | 14/50 [1:29:02<3:48:57, 381.60s/it]\n",
      "V= -1.5:  30%|███       | 15/50 [1:35:23<3:42:32, 381.49s/it]\n",
      "V= -1.5:  32%|███▏      | 16/50 [1:41:45<3:36:15, 381.63s/it]\n",
      "V= -1.5:  34%|███▍      | 17/50 [1:48:08<3:30:08, 382.06s/it]\n",
      "V= -1.5:  36%|███▌      | 18/50 [1:54:31<3:23:47, 382.12s/it]\n",
      "V= -1.5:  38%|███▊      | 19/50 [2:00:52<3:17:23, 382.04s/it]\n",
      "V= -1.5:  40%|████      | 20/50 [2:07:14<3:10:56, 381.87s/it]\n",
      "V= -1.5:  42%|████▏     | 21/50 [2:13:36<3:04:33, 381.84s/it]\n",
      "V= -1.5:  44%|████▍     | 22/50 [2:19:58<2:58:11, 381.85s/it]\n",
      "V= -1.5:  46%|████▌     | 23/50 [2:26:19<2:51:46, 381.72s/it]\n",
      "V= -1.5:  48%|████▊     | 24/50 [2:32:41<2:45:25, 381.73s/it]\n",
      "V= -1.5:  50%|█████     | 25/50 [2:39:02<2:39:03, 381.72s/it]\n",
      "V= -1.5:  52%|█████▏    | 26/50 [2:45:24<2:32:42, 381.76s/it]\n",
      "V= -1.5:  54%|█████▍    | 27/50 [2:51:46<2:26:21, 381.82s/it]\n",
      "V= -1.5:  56%|█████▌    | 28/50 [2:58:08<2:19:57, 381.72s/it]\n",
      "V= -1.5:  58%|█████▊    | 29/50 [3:04:29<2:13:35, 381.71s/it]\n",
      "V= -1.5:  60%|██████    | 30/50 [3:10:51<2:07:14, 381.75s/it]\n",
      "V= -1.5:  62%|██████▏   | 31/50 [3:17:13<2:00:51, 381.65s/it]\n",
      "V= -1.5:  64%|██████▍   | 32/50 [3:23:35<1:54:30, 381.71s/it]\n",
      "V= -1.5:  66%|██████▌   | 33/50 [3:29:56<1:48:10, 381.77s/it]\n",
      "V= -1.5:  68%|██████▊   | 34/50 [3:36:18<1:41:46, 381.65s/it]\n",
      "V= -1.5:  70%|███████   | 35/50 [3:42:40<1:35:25, 381.70s/it]\n",
      "V= -1.5:  72%|███████▏  | 36/50 [3:49:01<1:29:02, 381.62s/it]\n",
      "V= -1.5:  74%|███████▍  | 37/50 [3:55:23<1:22:42, 381.72s/it]\n",
      "V= -1.5:  76%|███████▌  | 38/50 [4:01:45<1:16:20, 381.73s/it]\n",
      "V= -1.5:  78%|███████▊  | 39/50 [4:08:06<1:09:57, 381.63s/it]\n",
      "V= -1.5:  80%|████████  | 40/50 [4:14:28<1:03:37, 381.71s/it]\n",
      "V= -1.5:  82%|████████▏ | 41/50 [4:20:50<57:15, 381.74s/it]  \n",
      "V= -1.5:  84%|████████▍ | 42/50 [4:27:12<50:53, 381.72s/it]\n",
      "V= -1.5:  86%|████████▌ | 43/50 [4:33:33<44:32, 381.73s/it]\n",
      "V= -1.5:  88%|████████▊ | 44/50 [4:39:55<38:10, 381.79s/it]\n",
      "V= -1.5:  90%|█████████ | 45/50 [4:46:17<31:48, 381.68s/it]\n",
      "V= -1.5:  92%|█████████▏| 46/50 [4:52:39<25:26, 381.73s/it]\n",
      "V= -1.5:  94%|█████████▍| 47/50 [4:59:00<19:05, 381.67s/it]\n",
      "V= -1.5:  96%|█████████▌| 48/50 [5:05:22<12:43, 381.69s/it]\n",
      "V= -1.5:  98%|█████████▊| 49/50 [5:11:44<06:21, 381.72s/it]\n",
      " 80%|████████  | 4/5 [29:32:54<7:17:35, 26255.59s/it] s/it]\n",
      "V= -2.0:   0%|          | 0/50 [00:00<?, ?it/s]\n",
      "V= -2.0:   2%|▏         | 1/50 [06:21<5:11:56, 381.97s/it]\n",
      "V= -2.0:   4%|▍         | 2/50 [12:43<5:05:32, 381.93s/it]\n",
      "V= -2.0:   6%|▌         | 3/50 [19:05<4:59:03, 381.78s/it]\n",
      "V= -2.0:   8%|▊         | 4/50 [25:26<4:52:41, 381.78s/it]\n",
      "V= -2.0:  10%|█         | 5/50 [31:48<4:46:18, 381.75s/it]\n",
      "V= -2.0:  12%|█▏        | 6/50 [38:10<4:39:57, 381.77s/it]\n",
      "V= -2.0:  14%|█▍        | 7/50 [44:32<4:33:36, 381.78s/it]\n",
      "V= -2.0:  16%|█▌        | 8/50 [50:53<4:27:07, 381.60s/it]\n",
      "V= -2.0:  18%|█▊        | 9/50 [57:15<4:20:50, 381.72s/it]\n",
      "V= -2.0:  20%|██        | 10/50 [1:03:36<4:14:24, 381.61s/it]\n",
      "V= -2.0:  22%|██▏       | 11/50 [1:09:57<4:07:57, 381.47s/it]\n",
      "V= -2.0:  24%|██▍       | 12/50 [1:16:19<4:01:40, 381.58s/it]\n",
      "V= -2.0:  26%|██▌       | 13/50 [1:22:41<3:55:16, 381.51s/it]\n",
      "V= -2.0:  28%|██▊       | 14/50 [1:29:03<3:48:58, 381.61s/it]\n",
      "V= -2.0:  30%|███       | 15/50 [1:35:24<3:42:38, 381.68s/it]\n",
      "V= -2.0:  32%|███▏      | 16/50 [1:41:46<3:36:15, 381.63s/it]\n",
      "V= -2.0:  34%|███▍      | 17/50 [1:48:08<3:29:56, 381.70s/it]\n",
      "V= -2.0:  36%|███▌      | 18/50 [1:54:30<3:23:37, 381.79s/it]\n",
      "V= -2.0:  38%|███▊      | 19/50 [2:00:54<3:17:37, 382.50s/it]\n",
      "V= -2.0:  40%|████      | 20/50 [2:07:16<3:11:11, 382.38s/it]\n",
      "V= -2.0:  42%|████▏     | 21/50 [2:13:38<3:04:42, 382.17s/it]\n",
      "V= -2.0:  44%|████▍     | 22/50 [2:20:00<2:58:20, 382.17s/it]\n",
      "V= -2.0:  46%|████▌     | 23/50 [2:26:22<2:51:56, 382.11s/it]\n",
      "V= -2.0:  48%|████▊     | 24/50 [2:32:43<2:45:30, 381.95s/it]\n",
      "V= -2.0:  50%|█████     | 25/50 [2:39:05<2:39:08, 381.93s/it]\n",
      "V= -2.0:  52%|█████▏    | 26/50 [2:45:27<2:32:46, 381.96s/it]\n",
      "V= -2.0:  54%|█████▍    | 27/50 [2:51:49<2:26:23, 381.88s/it]\n",
      "V= -2.0:  56%|█████▌    | 28/50 [2:58:11<2:20:02, 381.93s/it]\n",
      "V= -2.0:  58%|█████▊    | 29/50 [3:04:33<2:13:38, 381.86s/it]\n",
      "V= -2.0:  60%|██████    | 30/50 [3:10:55<2:07:17, 381.90s/it]\n",
      "V= -2.0:  62%|██████▏   | 31/50 [3:17:17<2:00:58, 382.00s/it]\n",
      "V= -2.0:  64%|██████▍   | 32/50 [3:23:38<1:54:33, 381.84s/it]\n",
      "V= -2.0:  66%|██████▌   | 33/50 [3:30:01<1:48:12, 381.92s/it]\n",
      "V= -2.0:  68%|██████▊   | 34/50 [3:36:23<1:41:51, 381.97s/it]\n",
      "V= -2.0:  70%|███████   | 35/50 [3:42:44<1:35:28, 381.92s/it]\n",
      "V= -2.0:  72%|███████▏  | 36/50 [3:49:06<1:29:06, 381.89s/it]\n",
      "V= -2.0:  74%|███████▍  | 37/50 [3:55:28<1:22:43, 381.78s/it]\n",
      "V= -2.0:  76%|███████▌  | 38/50 [4:01:50<1:16:21, 381.83s/it]\n",
      "V= -2.0:  78%|███████▊  | 39/50 [4:08:12<1:10:00, 381.84s/it]\n",
      "V= -2.0:  80%|████████  | 40/50 [4:14:33<1:03:37, 381.76s/it]\n",
      "V= -2.0:  82%|████████▏ | 41/50 [4:20:55<57:16, 381.81s/it]  \n",
      "V= -2.0:  84%|████████▍ | 42/50 [4:27:17<50:54, 381.87s/it]\n",
      "V= -2.0:  86%|████████▌ | 43/50 [4:33:38<44:32, 381.74s/it]\n",
      "V= -2.0:  88%|████████▊ | 44/50 [4:40:01<38:11, 381.86s/it]\n",
      "V= -2.0:  90%|█████████ | 45/50 [4:46:22<31:48, 381.73s/it]\n",
      "V= -2.0:  92%|█████████▏| 46/50 [4:52:44<25:26, 381.74s/it]\n",
      "V= -2.0:  94%|█████████▍| 47/50 [4:59:06<19:05, 381.76s/it]\n",
      "V= -2.0:  96%|█████████▌| 48/50 [5:05:27<12:43, 381.69s/it]\n",
      "V= -2.0:  98%|█████████▊| 49/50 [5:11:49<06:21, 381.82s/it]\n",
      "100%|██████████| 5/5 [34:51:06<00:00, 24106.41s/it]  4s/it]\n"
     ]
    }
   ],
   "source": [
    "min_V = -0.\n",
    "max_V = -2.\n",
    "points = 5\n",
    "epsilons = [3,3]\n",
    "n_trials = 50\n",
    "solution_VQD, energy_classical, V = hamiltonian_varying_V(min_V, max_V, points, epsilons, n_trials)"
   ]
  },
  {
   "cell_type": "code",
   "execution_count": 37,
   "metadata": {},
   "outputs": [
    {
     "data": {
      "text/plain": [
       "{-0.0: {'mean': 2.2544600000000004, 'std': 3.6059371187529052},\n",
       " -0.5: {'mean': 2.201132, 'std': 3.5924339523749076},\n",
       " -1.0: {'mean': 2.3685160000000005, 'std': 3.2362400972956262},\n",
       " -1.5: {'mean': 2.262069, 'std': 3.6215824729514305},\n",
       " -2.0: {'mean': 2.151896, 'std': 3.285247713884601}}"
      ]
     },
     "execution_count": 37,
     "metadata": {},
     "output_type": "execute_result"
    }
   ],
   "source": [
    "solution_VQD"
   ]
  },
  {
   "cell_type": "code",
   "execution_count": 38,
   "metadata": {},
   "outputs": [],
   "source": [
    "import seaborn as sns\n",
    "sns.set()"
   ]
  },
  {
   "cell_type": "code",
   "execution_count": 39,
   "metadata": {},
   "outputs": [],
   "source": [
    "mean = []\n",
    "std = []\n",
    "for _, sol in solution_VQD.items():\n",
    "    mean.append(sol['mean'])\n",
    "    std.append(sol['std'])"
   ]
  },
  {
   "cell_type": "code",
   "execution_count": 40,
   "metadata": {},
   "outputs": [
    {
     "data": {
      "image/png": "[encoded data removed]",
      "text/plain": [
       "<Figure size 432x288 with 1 Axes>"
      ]
     },
     "metadata": {},
     "output_type": "display_data"
    }
   ],
   "source": [
    "plt.errorbar(V,\n",
    "             np.array(mean)/2, \n",
    "             yerr=np.array(std)/2,\n",
    "             fmt='ro', ecolor='green',\n",
    "             label='VQD')\n",
    "\n",
    "plt.plot(V, energy_classical/2, 'b-', label=\"Exact\")\n",
    "plt.xlabel('V')\n",
    "plt.ylabel('Gap')\n",
    "plt.legend()\n",
    "plt.savefig('Var_V.png')\n",
    "plt.show()"
   ]
  },
  {
   "cell_type": "markdown",
   "metadata": {},
   "source": [
    "# Plot both optimizers"
   ]
  },
  {
   "cell_type": "code",
   "execution_count": 51,
   "metadata": {},
   "outputs": [
    {
     "data": {
      "text/plain": [
       "array([-0. , -0.5, -1. , -1.5, -2. ])"
      ]
     },
     "execution_count": 51,
     "metadata": {},
     "output_type": "execute_result"
    }
   ],
   "source": [
    "V"
   ]
  },
  {
   "cell_type": "code",
   "execution_count": 52,
   "metadata": {},
   "outputs": [],
   "source": [
    "spsa_dict = {-0.0: {'mean': 2.2544600000000004, 'std': 3.6059371187529052},\n",
    " -0.5: {'mean': 2.201132, 'std': 3.5924339523749076},\n",
    " -1.0: {'mean': 2.3685160000000005, 'std': 3.2362400972956262},\n",
    " -1.5: {'mean': 2.262069, 'std': 3.6215824729514305},\n",
    " -2.0: {'mean': 2.151896, 'std': 3.285247713884601}}\n",
    "\n",
    "\n",
    "cobyla_dict = {-0.0: {'mean': 0.2738039999999999, 'std': 0.5017597014348602},\n",
    " -0.5: {'mean': 1.1608589999999999, 'std': 0.7228235554884747},\n",
    " -1.0: {'mean': 2.0350799999999993, 'std': 0.8327042377699295},\n",
    " -1.5: {'mean': 3.137112, 'std': 0.6724548732487554},\n",
    " -2.0: {'mean': 4.314758, 'std': 0.5284894406097439}}\n",
    "\n",
    "mean_spsa = []\n",
    "std_spsa = []\n",
    "mean_cobyla = []\n",
    "std_cobyla = []\n",
    "\n",
    "x_axis = np.array([-0. , -0.5, -1. , -1.5, -2. ])\n",
    "for sol in x_axis:\n",
    "    mean_spsa.append(spsa_dict[sol]['mean'])\n",
    "    std_spsa.append(spsa_dict[sol]['std'])\n",
    "    \n",
    "    mean_cobyla.append(cobyla_dict[sol]['mean'])\n",
    "    std_cobyla.append(cobyla_dict[sol]['std'])"
   ]
  },
  {
   "cell_type": "code",
   "execution_count": 54,
   "metadata": {},
   "outputs": [
    {
     "data": {
      "image/png": "[encoded data removed]",
      "text/plain": [
       "<Figure size 432x288 with 1 Axes>"
      ]
     },
     "metadata": {},
     "output_type": "display_data"
    }
   ],
   "source": [
    "from matplotlib.ticker import MaxNLocator\n",
    "\n",
    "x_axis = np.array([-0. , -0.5, -1. , -1.5, -2. ])\n",
    "energy_classical = np.array([0., 1., 2., 3., 4.])\n",
    "\n",
    "plt.errorbar(x_axis,\n",
    "             np.array(mean_spsa)/2, \n",
    "             yerr=np.array(std_spsa)/2,\n",
    "             fmt='o', color='black', \n",
    "             ecolor='gray', elinewidth=2,\n",
    "             label='SPSA')\n",
    "\n",
    "plt.errorbar(x_axis,\n",
    "             np.array(mean_cobyla)/2, \n",
    "             yerr=np.array(std_cobyla)/2,\n",
    "             fmt='o', color='red',\n",
    "             ecolor='green', elinewidth=2,\n",
    "             label='COBYLA')\n",
    "\n",
    "plt.plot(V, energy_classical/2, 'b-', label=\"Exact\")\n",
    "plt.xlabel('V')\n",
    "plt.ylabel('Gap')\n",
    "plt.legend()\n",
    "plt.savefig('Var_V_optimizers.png')\n",
    "plt.show()"
   ]
  },
  {
   "cell_type": "code",
   "execution_count": null,
   "metadata": {},
   "outputs": [],
   "source": []
  }
 ],
 "metadata": {
  "kernelspec": {
   "display_name": "Python 3",
   "language": "python",
   "name": "python3"
  },
  "language_info": {
   "codemirror_mode": {
    "name": "ipython",
    "version": 3
   },
   "file_extension": ".py",
   "mimetype": "text/x-python",
   "name": "python",
   "nbconvert_exporter": "python",
   "pygments_lexer": "ipython3",
   "version": "3.7.3"
  },
  "toc": {
   "base_numbering": 1,
   "nav_menu": {},
   "number_sections": true,
   "sideBar": true,
   "skip_h1_title": false,
   "title_cell": "Table of Contents",
   "title_sidebar": "Contents",
   "toc_cell": true,
   "toc_position": {},
   "toc_section_display": true,
   "toc_window_display": false
  }
 },
 "nbformat": 4,
 "nbformat_minor": 4
}
