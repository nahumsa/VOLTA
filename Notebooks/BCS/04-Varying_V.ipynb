{
 "cells": [
  {
   "cell_type": "markdown",
   "metadata": {
    "toc": true
   },
   "source": [
    "<h1>Table of Contents<span class=\"tocSkip\"></span></h1>\n",
    "<div class=\"toc\"><ul class=\"toc-item\"><li><span><a href=\"#BCS\" data-toc-modified-id=\"BCS-1\"><span class=\"toc-item-num\">1&nbsp;&nbsp;</span>BCS</a></span></li><li><span><a href=\"#Varying-V\" data-toc-modified-id=\"Varying-V-2\"><span class=\"toc-item-num\">2&nbsp;&nbsp;</span>Varying V</a></span></li></ul></div>"
   ]
  },
  {
   "cell_type": "markdown",
   "metadata": {},
   "source": [
    "# BCS"
   ]
  },
  {
   "cell_type": "markdown",
   "metadata": {},
   "source": [
    "Using the Paper by [Wu et al.](https://arxiv.org/abs/quant-ph/0108110), we have that:\n",
    "\n",
    "The BCS hamiltonian is:\n",
    "\n",
    "$$H_{BCS} = \\sum_{m=1}^N \\frac{\\epsilon_m}{2} ( n_m^F + n_{-m}^F ) + \\sum_{m,k=1}^N V^{+}_{ml} c^\\dagger_m c^\\dagger_{-m} c_{-l}c_l$$\n",
    "\n",
    "Where $n_{\\pm m}^F = c^\\dagger_{\\pm m} c_{\\pm m}$, and the matrix elements $V^+_{ml} = \\langle m, -m| V | l, -l \\rangle$.\n",
    "\n",
    "Which is mapped into:\n",
    "\n",
    "$$H_P = \\sum_{m=1}^N \\frac{\\epsilon_m}{2} \\sigma^Z_m + \\sum_{r= \\pm l} \\sum_{l>m=1}^N \\frac{V_{ml}^r}{2} ( \\sigma^x_m \\sigma^x_l + r \\sigma^y_m \\sigma^y_l )$$\n",
    "\n",
    "where $\\epsilon_m = \\epsilon_m + V^+_{mm}$ and $V^-_{ml} = 0$ for the BCS Hamiltonian, thus:\n",
    "\n",
    "$$H_P = \\sum_{m=1}^N \\frac{\\epsilon_m}{2} \\sigma^Z_m +  \\sum_{l>m=1}^N \\frac{V_{ml}}{2} ( \\sigma^x_m \\sigma^x_l +  \\sigma^y_m \\sigma^y_l )$$\n",
    "\n",
    "$l \\ \\mathrm{and} \\ m$ now denote both state and qubit indices. In this case the qubit state space $H_P = Span \\{ |0 \\rangle, \\sigma^+_m |0 \\rangle, \\sigma_l^+ \\sigma_m^+ |0 \\rangle, \\dots   \\}$ is mapped into a subspace where $n_m^F = n^F_{-m}$. Considering $V_{ml} = V$, we have that:\n",
    "\n",
    "$$\n",
    "H_p = \\hbar \\bigg[ \\sum_{m=1}^N \\frac{\\epsilon_m}{2} \\sigma_z^m + \\frac{V}{2} \\sum_{l>m=1}^N (\\sigma_x^m \\sigma_x^l + \\sigma_y^m \\sigma_y^l) \\bigg]\n",
    "$$\n",
    "\n",
    "This leads to a spectrum of $E_0^{\\pm} = \\pm(\\epsilon_0 + \\epsilon_1)/2$, $E_1^{\\pm} = \\pm \\sqrt{\\epsilon^2 + 4V^2}/2$, where $\\epsilon^2 = (\\epsilon_0 - \\epsilon_1)^2$.\n",
    "The eigenvalues are calculated in this [notebook](https://colab.research.google.com/drive/18IyDfCYlMx957260MSwvJtUeTcAJFnza?usp=sharing):\n",
    "\n",
    "[Aqua Operator Flow Reference](https://github.com/dongreenberg/aqua_talks/blob/master/Understanding%20Aqua's%20Operator%20Flow.ipynb)"
   ]
  },
  {
   "cell_type": "code",
   "execution_count": 2,
   "metadata": {},
   "outputs": [],
   "source": [
    "import sys\n",
    "sys.path.append('../../')\n",
    "\n",
    "# Python imports\n",
    "import numpy as np\n",
    "import matplotlib.pyplot as plt\n",
    "\n",
    "# Qiskit\n",
    "from qiskit import BasicAer\n",
    "from qiskit.aqua import QuantumInstance\n",
    "from qiskit.aqua.components.optimizers import COBYLA, SPSA\n",
    "from qiskit.circuit.library import TwoLocal\n",
    "\n",
    "# VOLTA\n",
    "from VOLTA.VQD import VQD\n",
    "from VOLTA.utils import classical_solver\n",
    "from VOLTA.Hamiltonians import BCS_hamiltonian\n",
    "\n",
    "%load_ext autoreload\n",
    "%autoreload 2"
   ]
  },
  {
   "cell_type": "code",
   "execution_count": 3,
   "metadata": {
    "scrolled": true
   },
   "outputs": [
    {
     "name": "stdout",
     "output_type": "stream",
     "text": [
      "SummedOp([\n",
      "  1.5 * ZI,\n",
      "  1.5 * IZ,\n",
      "  -1.25 * XX,\n",
      "  -1.25 * YY\n",
      "])\n"
     ]
    }
   ],
   "source": [
    "EPSILONS = [3, 3]\n",
    "V = -2.5\n",
    "hamiltonian = BCS_hamiltonian(EPSILONS, V)\n",
    "print(hamiltonian)"
   ]
  },
  {
   "cell_type": "code",
   "execution_count": 4,
   "metadata": {
    "scrolled": false
   },
   "outputs": [
    {
     "name": "stdout",
     "output_type": "stream",
     "text": [
      "Eigenvalues: [-3.  -2.5  2.5  3. ]\n"
     ]
    }
   ],
   "source": [
    "eigenvalues, eigenvectors = classical_solver(hamiltonian)\n",
    "print(f\"Eigenvalues: {eigenvalues}\")"
   ]
  },
  {
   "cell_type": "markdown",
   "metadata": {},
   "source": [
    "# Varying V"
   ]
  },
  {
   "cell_type": "code",
   "execution_count": 6,
   "metadata": {},
   "outputs": [],
   "source": [
    "from tqdm import tqdm\n",
    "\n",
    "def hamiltonian_varying_V(min_V, max_V, points, epsilons, n_trials):\n",
    "    solution_VQD = {}\n",
    "    energies_Classical = []\n",
    "    \n",
    "    V = np.linspace(min_V, max_V, points)\n",
    "    \n",
    "    backend = QuantumInstance(backend=BasicAer.get_backend('qasm_simulator'),\n",
    "                              shots=10000)\n",
    "    \n",
    "    optimizer = SPSA(maxiter=250, c1=.7, last_avg=25) \n",
    "    \n",
    "    for v in tqdm(V):\n",
    "        hamiltonian = BCS_hamiltonian(epsilons, v)\n",
    "        ansatz = TwoLocal(hamiltonian.num_qubits, ['ry','rz'], 'cx', reps=3)\n",
    "        \n",
    "        es_1 = []\n",
    "        es_2 = []\n",
    "\n",
    "        for _ in tqdm(range(n_trials), desc=f\"V= {v}\"):\n",
    "\n",
    "            # Run algorithm\n",
    "            Algo = VQD(hamiltonian=hamiltonian,\n",
    "                        ansatz=ansatz,\n",
    "                        n_excited_states=2,\n",
    "                        beta=10.,\n",
    "                        optimizer=optimizer,\n",
    "                        backend=backend)\n",
    "\n",
    "            Algo.run(0)      \n",
    "            vqd_energies = Algo.energies\n",
    "            es_1.append(vqd_energies[1])\n",
    "            es_2.append(vqd_energies[2])\n",
    "        es_1 = np.array(es_1)/2\n",
    "        es_2 = np.array(es_2)/2\n",
    "    \n",
    "        solution_VQD[v] = {'mean':np.mean(es_2 - es_1), 'std':np.std(es_2 - es_1)}\n",
    "        \n",
    "        classical, _ = classical_solver(hamiltonian)\n",
    "        energies_Classical.append(classical[2]- classical[1])\n",
    "    \n",
    "    return solution_VQD, np.array(energies_Classical)/2, V"
   ]
  },
  {
   "cell_type": "code",
   "execution_count": null,
   "metadata": {
    "scrolled": true
   },
   "outputs": [
    {
     "name": "stderr",
     "output_type": "stream",
     "text": [
      "  0%|          | 0/5 [00:00<?, ?it/s]\n",
      "V= -0.0:   0%|          | 0/50 [00:00<?, ?it/s]\n",
      "V= -0.0:   2%|▏         | 1/50 [09:15<7:33:17, 555.06s/it]\n",
      "V= -0.0:   4%|▍         | 2/50 [20:09<7:47:56, 584.92s/it]\n",
      "V= -0.0:   6%|▌         | 3/50 [31:05<7:54:51, 606.20s/it]\n",
      "V= -0.0:   8%|▊         | 4/50 [41:54<7:54:41, 619.16s/it]\n",
      "V= -0.0:  10%|█         | 5/50 [52:56<7:53:48, 631.74s/it]\n",
      "V= -0.0:  12%|█▏        | 6/50 [1:03:39<7:45:48, 635.19s/it]\n",
      "V= -0.0:  14%|█▍        | 7/50 [1:14:35<7:39:41, 641.42s/it]\n",
      "V= -0.0:  16%|█▌        | 8/50 [1:25:37<7:33:24, 647.73s/it]\n",
      "V= -0.0:  18%|█▊        | 9/50 [1:36:19<7:21:23, 645.93s/it]\n",
      "V= -0.0:  20%|██        | 10/50 [1:47:17<7:13:00, 649.51s/it]\n",
      "V= -0.0:  22%|██▏       | 11/50 [1:58:12<7:03:13, 651.12s/it]\n",
      "V= -0.0:  24%|██▍       | 12/50 [2:08:52<6:50:20, 647.92s/it]\n",
      "V= -0.0:  26%|██▌       | 13/50 [2:19:46<6:40:39, 649.71s/it]\n",
      "V= -0.0:  28%|██▊       | 14/50 [2:30:47<6:31:55, 653.20s/it]\n",
      "V= -0.0:  30%|███       | 15/50 [2:41:48<6:22:17, 655.35s/it]\n",
      "V= -0.0:  32%|███▏      | 16/50 [2:55:47<6:42:37, 710.53s/it]"
     ]
    }
   ],
   "source": [
    "min_V = -0.\n",
    "max_V = -2.5\n",
    "points = 5\n",
    "epsilons = [3,3]\n",
    "n_trials = 50\n",
    "solution_VQD, energy_classical, V = hamiltonian_varying_V(min_V, max_V, points, epsilons, n_trials)"
   ]
  },
  {
   "cell_type": "code",
   "execution_count": null,
   "metadata": {},
   "outputs": [],
   "source": [
    "solution_VQD"
   ]
  },
  {
   "cell_type": "code",
   "execution_count": null,
   "metadata": {},
   "outputs": [],
   "source": [
    "mean = []\n",
    "std = []\n",
    "for _, sol in solution_VQD.items():\n",
    "    mean.append(sol['mean'])\n",
    "    std.append(sol['std'])"
   ]
  },
  {
   "cell_type": "code",
   "execution_count": null,
   "metadata": {},
   "outputs": [],
   "source": [
    "plt.errorbar(V,\n",
    "             np.array(mean), \n",
    "             yerr=np.array(std),\n",
    "             fmt='ro', ecolor='green',\n",
    "             label='VQD')\n",
    "\n",
    "plt.plot(V, energy_classical, 'b-', label=\"Exact\")\n",
    "plt.xlabel('V')\n",
    "plt.ylabel('Gap')\n",
    "plt.legend()\n",
    "plt.savefig('Var_V.png')\n",
    "plt.show()"
   ]
  },
  {
   "cell_type": "code",
   "execution_count": null,
   "metadata": {},
   "outputs": [],
   "source": []
  }
 ],
 "metadata": {
  "kernelspec": {
   "display_name": "Python 3",
   "language": "python",
   "name": "python3"
  },
  "language_info": {
   "codemirror_mode": {
    "name": "ipython",
    "version": 3
   },
   "file_extension": ".py",
   "mimetype": "text/x-python",
   "name": "python",
   "nbconvert_exporter": "python",
   "pygments_lexer": "ipython3",
   "version": "3.7.3"
  },
  "toc": {
   "base_numbering": 1,
   "nav_menu": {},
   "number_sections": true,
   "sideBar": true,
   "skip_h1_title": false,
   "title_cell": "Table of Contents",
   "title_sidebar": "Contents",
   "toc_cell": true,
   "toc_position": {},
   "toc_section_display": true,
   "toc_window_display": false
  }
 },
 "nbformat": 4,
 "nbformat_minor": 4
}
