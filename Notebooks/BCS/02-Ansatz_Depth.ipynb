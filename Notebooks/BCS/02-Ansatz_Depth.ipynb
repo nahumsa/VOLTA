{
 "cells": [
  {
   "cell_type": "markdown",
   "metadata": {
    "toc": true
   },
   "source": [
    "<h1>Table of Contents<span class=\"tocSkip\"></span></h1>\n",
    "<div class=\"toc\"><ul class=\"toc-item\"><li><span><a href=\"#BCS\" data-toc-modified-id=\"BCS-1\"><span class=\"toc-item-num\">1&nbsp;&nbsp;</span>BCS</a></span></li><li><span><a href=\"#Varying-Depth-size\" data-toc-modified-id=\"Varying-Depth-size-2\"><span class=\"toc-item-num\">2&nbsp;&nbsp;</span>Varying Depth size</a></span></li></ul></div>"
   ]
  },
  {
   "cell_type": "markdown",
   "metadata": {},
   "source": [
    "# BCS"
   ]
  },
  {
   "cell_type": "markdown",
   "metadata": {},
   "source": [
    "Using the Paper by [Wu et al.](https://arxiv.org/abs/quant-ph/0108110), we have that:\n",
    "\n",
    "The BCS hamiltonian is:\n",
    "\n",
    "$$H_{BCS} = \\sum_{m=1}^N \\frac{\\epsilon_m}{2} ( n_m^F + n_{-m}^F ) + \\sum_{m,k=1}^N V^{+}_{ml} c^\\dagger_m c^\\dagger_{-m} c_{-l}c_l$$\n",
    "\n",
    "Where $n_{\\pm m}^F = c^\\dagger_{\\pm m} c_{\\pm m}$, and the matrix elements $V^+_{ml} = \\langle m, -m| V | l, -l \\rangle$.\n",
    "\n",
    "Which is mapped into:\n",
    "\n",
    "$$H_P = \\sum_{m=1}^N \\frac{\\epsilon_m}{2} \\sigma^Z_m + \\sum_{r= \\pm l} \\sum_{l>m=1}^N \\frac{V_{ml}^r}{2} ( \\sigma^x_m \\sigma^x_l + r \\sigma^y_m \\sigma^y_l )$$\n",
    "\n",
    "where $\\epsilon_m = \\epsilon_m + V^+_{mm}$ and $V^-_{ml} = 0$ for the BCS Hamiltonian, thus:\n",
    "\n",
    "$$H_P = \\sum_{m=1}^N \\frac{\\epsilon_m}{2} \\sigma^Z_m +  \\sum_{l>m=1}^N \\frac{V_{ml}}{2} ( \\sigma^x_m \\sigma^x_l +  \\sigma^y_m \\sigma^y_l )$$\n",
    "\n",
    "$l \\ \\mathrm{and} \\ m$ now denote both state and qubit indices. In this case the qubit state space $H_P = Span \\{ |0 \\rangle, \\sigma^+_m |0 \\rangle, \\sigma_l^+ \\sigma_m^+ |0 \\rangle, \\dots   \\}$ is mapped into a subspace where $n_m^F = n^F_{-m}$. Considering $V_{ml} = V$, we have that:\n",
    "\n",
    "$$\n",
    "H_p = \\hbar \\bigg[ \\sum_{m=1}^N \\frac{\\epsilon_m}{2} \\sigma_z^m + \\frac{V}{2} \\sum_{l>m=1}^N (\\sigma_x^m \\sigma_x^l + \\sigma_y^m \\sigma_y^l) \\bigg]\n",
    "$$\n",
    "[Aqua Operator Flow Reference](https://github.com/dongreenberg/aqua_talks/blob/master/Understanding%20Aqua's%20Operator%20Flow.ipynb)"
   ]
  },
  {
   "cell_type": "code",
   "execution_count": 70,
   "metadata": {},
   "outputs": [
    {
     "name": "stdout",
     "output_type": "stream",
     "text": [
      "The autoreload extension is already loaded. To reload it, use:\n",
      "  %reload_ext autoreload\n"
     ]
    }
   ],
   "source": [
    "import sys\n",
    "sys.path.append('../../')\n",
    "\n",
    "# Python imports\n",
    "import numpy as np\n",
    "import matplotlib.pyplot as plt\n",
    "\n",
    "# Qiskit\n",
    "from qiskit import BasicAer\n",
    "from qiskit.aqua.components.optimizers import COBYLA\n",
    "from qiskit.circuit.library import TwoLocal\n",
    "\n",
    "# VOLTA\n",
    "from VOLTA.VQD import VQD\n",
    "from VOLTA.utils import classical_solver\n",
    "from VOLTA.Hamiltonians import BCS_hamiltonian\n",
    "\n",
    "%load_ext autoreload\n",
    "%autoreload 2"
   ]
  },
  {
   "cell_type": "code",
   "execution_count": 82,
   "metadata": {
    "scrolled": true
   },
   "outputs": [
    {
     "name": "stdout",
     "output_type": "stream",
     "text": [
      "SummedOp([\n",
      "  1.5 * ZI,\n",
      "  1.5 * IZ,\n",
      "  -1.0 * XX,\n",
      "  -1.0 * YY\n",
      "])\n"
     ]
    }
   ],
   "source": [
    "EPSILONS = [3., 3.]\n",
    "V = -2\n",
    "hamiltonian = BCS_hamiltonian(EPSILONS, V)\n",
    "print(hamiltonian)"
   ]
  },
  {
   "cell_type": "code",
   "execution_count": 83,
   "metadata": {
    "scrolled": false
   },
   "outputs": [
    {
     "name": "stdout",
     "output_type": "stream",
     "text": [
      "Eigenvalues: [-3. -2.  2.  3.]\n"
     ]
    }
   ],
   "source": [
    "eigenvalues, eigenvectors = classical_solver(hamiltonian)\n",
    "print(f\"Eigenvalues: {eigenvalues}\")"
   ]
  },
  {
   "cell_type": "markdown",
   "metadata": {},
   "source": [
    "# Varying Depth size"
   ]
  },
  {
   "cell_type": "code",
   "execution_count": 16,
   "metadata": {},
   "outputs": [
    {
     "name": "stderr",
     "output_type": "stream",
     "text": [
      "100%|██████████| 20/20 [35:02<00:00, 101.55s/it]\n",
      "100%|██████████| 20/20 [49:20<00:00, 148.68s/it]\n",
      "100%|██████████| 20/20 [1:09:23<00:00, 225.94s/it]\n",
      "100%|██████████| 20/20 [1:25:46<00:00, 247.97s/it]\n"
     ]
    }
   ],
   "source": [
    "from tqdm import tqdm\n",
    "from qiskit.aqua import QuantumInstance\n",
    "\n",
    "# Parameters Variables\n",
    "n_trials = 20\n",
    "max_depth = 5\n",
    "\n",
    "# Auxiliary Variables\n",
    "solution_dict = {}\n",
    "\n",
    "# Define Optimizer\n",
    "optimizer = COBYLA()\n",
    "\n",
    "# Define Backend\n",
    "backend = QuantumInstance(backend=BasicAer.get_backend('qasm_simulator'),\n",
    "                          shots=10000)\n",
    "\n",
    "for depth in range(1,max_depth):\n",
    "    # Ansatz with diferent depth\n",
    "    ansatz = TwoLocal(hamiltonian.num_qubits, ['ry','rz'], 'cx', reps=depth)\n",
    "    es_1 = []\n",
    "    es_2 = []\n",
    "    \n",
    "    for _ in tqdm(range(n_trials)):\n",
    "\n",
    "        # Run algorithm\n",
    "        Algo = VQD(hamiltonian=hamiltonian,\n",
    "                    ansatz=ansatz,\n",
    "                    n_excited_states=2,\n",
    "                    beta=10.,\n",
    "                    optimizer=optimizer,\n",
    "                    backend=backend)\n",
    "\n",
    "        Algo.run(0)      \n",
    "        vqd_energies = Algo.energies\n",
    "        es_1.append(vqd_energies[1])\n",
    "        es_2.append(vqd_energies[2])\n",
    "    es_1 = np.array(es_1)\n",
    "    es_2 = np.array(es_2)\n",
    "    \n",
    "    # Maybe use a pd.dataframe\n",
    "    solution_dict[depth] = {'mean':np.mean(es_2 - es_1), 'std':np.std(es_2 - es_1)}"
   ]
  },
  {
   "cell_type": "code",
   "execution_count": 19,
   "metadata": {},
   "outputs": [],
   "source": [
    "mean = []\n",
    "std = []\n",
    "for i in range(1,max_depth):\n",
    "    mean.append(solution_dict[i]['mean'])\n",
    "    std.append(solution_dict[i]['std'])"
   ]
  },
  {
   "cell_type": "code",
   "execution_count": 26,
   "metadata": {},
   "outputs": [
    {
     "data": {
      "text/plain": [
       "{1: {'mean': 2.90006, 'std': 1.9713680550318347},\n",
       " 2: {'mean': 4.19897, 'std': 0.5724704438658821},\n",
       " 3: {'mean': 4.048035, 'std': 0.5554115584636317},\n",
       " 4: {'mean': 4.117395, 'std': 0.4589107380253812}}"
      ]
     },
     "execution_count": 26,
     "metadata": {},
     "output_type": "execute_result"
    }
   ],
   "source": [
    "solution_dict"
   ]
  },
  {
   "cell_type": "code",
   "execution_count": 39,
   "metadata": {},
   "outputs": [],
   "source": [
    "import seaborn as sns\n",
    "sns.set()"
   ]
  },
  {
   "cell_type": "code",
   "execution_count": 49,
   "metadata": {},
   "outputs": [
    {
     "data": {
      "image/png": "[encoded data removed]",
      "text/plain": [
       "<Figure size 432x288 with 1 Axes>"
      ]
     },
     "metadata": {},
     "output_type": "display_data"
    }
   ],
   "source": [
    "from matplotlib.ticker import MaxNLocator\n",
    "\n",
    "x_axis = [i for i in range(1,max_depth)]\n",
    "plt.errorbar(x_axis,\n",
    "             np.array(mean)/2, \n",
    "             yerr=np.array(std)/2,\n",
    "             fmt='ro', ecolor='green')\n",
    "\n",
    "plt.hlines(y=2, xmin=0.5, xmax=4.5, \n",
    "           label='Expected value',color='b')\n",
    "plt.title('Varying Depth', size=18)\n",
    "plt.xlabel('Depth', size= 14)\n",
    "plt.ylabel('Gap', size=14)\n",
    "plt.xticks(x_axis)\n",
    "plt.legend()\n",
    "plt.show()"
   ]
  },
  {
   "cell_type": "code",
   "execution_count": null,
   "metadata": {},
   "outputs": [],
   "source": []
  }
 ],
 "metadata": {
  "kernelspec": {
   "display_name": "Python 3",
   "language": "python",
   "name": "python3"
  },
  "language_info": {
   "codemirror_mode": {
    "name": "ipython",
    "version": 3
   },
   "file_extension": ".py",
   "mimetype": "text/x-python",
   "name": "python",
   "nbconvert_exporter": "python",
   "pygments_lexer": "ipython3",
   "version": "3.6.8"
  },
  "toc": {
   "base_numbering": 1,
   "nav_menu": {},
   "number_sections": true,
   "sideBar": true,
   "skip_h1_title": false,
   "title_cell": "Table of Contents",
   "title_sidebar": "Contents",
   "toc_cell": true,
   "toc_position": {},
   "toc_section_display": true,
   "toc_window_display": false
  }
 },
 "nbformat": 4,
 "nbformat_minor": 4
}
