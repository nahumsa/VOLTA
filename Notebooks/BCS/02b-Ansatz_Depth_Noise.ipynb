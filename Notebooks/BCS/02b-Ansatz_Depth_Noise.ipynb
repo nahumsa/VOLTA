{
 "cells": [
  {
   "cell_type": "markdown",
   "metadata": {
    "toc": true
   },
   "source": [
    "<h1>Table of Contents<span class=\"tocSkip\"></span></h1>\n",
    "<div class=\"toc\"><ul class=\"toc-item\"><li><span><a href=\"#BCS\" data-toc-modified-id=\"BCS-1\"><span class=\"toc-item-num\">1&nbsp;&nbsp;</span>BCS</a></span></li><li><span><a href=\"#Varying-Depth-size\" data-toc-modified-id=\"Varying-Depth-size-2\"><span class=\"toc-item-num\">2&nbsp;&nbsp;</span>Varying Depth size</a></span></li><li><span><a href=\"#Plot-both-optimizers\" data-toc-modified-id=\"Plot-both-optimizers-3\"><span class=\"toc-item-num\">3&nbsp;&nbsp;</span>Plot both optimizers</a></span><ul class=\"toc-item\"><li><span><a href=\"#Continous-plot\" data-toc-modified-id=\"Continous-plot-3.1\"><span class=\"toc-item-num\">3.1&nbsp;&nbsp;</span>Continous plot</a></span></li></ul></li></ul></div>"
   ]
  },
  {
   "cell_type": "markdown",
   "metadata": {},
   "source": [
    "# BCS"
   ]
  },
  {
   "cell_type": "markdown",
   "metadata": {},
   "source": [
    "Using the Paper by [Wu et al.](https://arxiv.org/abs/quant-ph/0108110), we have that:\n",
    "\n",
    "The BCS hamiltonian is:\n",
    "\n",
    "$$H_{BCS} = \\sum_{m=1}^N \\frac{\\epsilon_m}{2} ( n_m^F + n_{-m}^F ) + \\sum_{m,k=1}^N V^{+}_{ml} c^\\dagger_m c^\\dagger_{-m} c_{-l}c_l$$\n",
    "\n",
    "Where $n_{\\pm m}^F = c^\\dagger_{\\pm m} c_{\\pm m}$, and the matrix elements $V^+_{ml} = \\langle m, -m| V | l, -l \\rangle$.\n",
    "\n",
    "Which is mapped into:\n",
    "\n",
    "$$H_P = \\sum_{m=1}^N \\frac{\\epsilon_m}{2} \\sigma^Z_m + \\sum_{r= \\pm l} \\sum_{l>m=1}^N \\frac{V_{ml}^r}{2} ( \\sigma^x_m \\sigma^x_l + r \\sigma^y_m \\sigma^y_l )$$\n",
    "\n",
    "where $\\epsilon_m = \\epsilon_m + V^+_{mm}$ and $V^-_{ml} = 0$ for the BCS Hamiltonian, thus:\n",
    "\n",
    "$$H_P = \\sum_{m=1}^N \\frac{\\epsilon_m}{2} \\sigma^Z_m +  \\sum_{l>m=1}^N \\frac{V_{ml}}{2} ( \\sigma^x_m \\sigma^x_l +  \\sigma^y_m \\sigma^y_l )$$\n",
    "\n",
    "$l \\ \\mathrm{and} \\ m$ now denote both state and qubit indices. In this case the qubit state space $H_P = Span \\{ |0 \\rangle, \\sigma^+_m |0 \\rangle, \\sigma_l^+ \\sigma_m^+ |0 \\rangle, \\dots   \\}$ is mapped into a subspace where $n_m^F = n^F_{-m}$. Considering $V_{ml} = V$, we have that:\n",
    "\n",
    "$$\n",
    "H_p = \\hbar \\bigg[ \\sum_{m=1}^N \\frac{\\epsilon_m}{2} \\sigma_z^m + \\frac{V}{2} \\sum_{l>m=1}^N (\\sigma_x^m \\sigma_x^l + \\sigma_y^m \\sigma_y^l) \\bigg]\n",
    "$$\n",
    "[Aqua Operator Flow Reference](https://github.com/dongreenberg/aqua_talks/blob/master/Understanding%20Aqua's%20Operator%20Flow.ipynb)"
   ]
  },
  {
   "cell_type": "code",
   "execution_count": 1,
   "metadata": {},
   "outputs": [],
   "source": [
    "import sys\n",
    "sys.path.append('../../')\n",
    "\n",
    "# Python imports\n",
    "import numpy as np\n",
    "import matplotlib.pyplot as plt\n",
    "\n",
    "# Qiskit\n",
    "from qiskit import BasicAer, Aer\n",
    "from qiskit.aqua.components.optimizers import COBYLA, SPSA\n",
    "from qiskit.circuit.library import TwoLocal\n",
    "\n",
    "# VOLTA\n",
    "from VOLTA.VQD import VQD\n",
    "from VOLTA.utils import classical_solver\n",
    "from VOLTA.Hamiltonians import BCS_hamiltonian\n",
    "\n",
    "%load_ext autoreload\n",
    "%autoreload 2"
   ]
  },
  {
   "cell_type": "code",
   "execution_count": 2,
   "metadata": {
    "scrolled": true
   },
   "outputs": [
    {
     "name": "stdout",
     "output_type": "stream",
     "text": [
      "SummedOp([\n",
      "  1.5 * ZI,\n",
      "  1.5 * IZ,\n",
      "  -1.0 * XX,\n",
      "  -1.0 * YY\n",
      "])\n"
     ]
    }
   ],
   "source": [
    "EPSILONS = [3., 3.]\n",
    "V = -2\n",
    "hamiltonian = BCS_hamiltonian(EPSILONS, V)\n",
    "print(hamiltonian)"
   ]
  },
  {
   "cell_type": "code",
   "execution_count": 3,
   "metadata": {
    "scrolled": false
   },
   "outputs": [
    {
     "name": "stdout",
     "output_type": "stream",
     "text": [
      "Eigenvalues: [-3. -2.  2.  3.]\n"
     ]
    }
   ],
   "source": [
    "eigenvalues, eigenvectors = classical_solver(hamiltonian)\n",
    "print(f\"Eigenvalues: {eigenvalues}\")"
   ]
  },
  {
   "cell_type": "markdown",
   "metadata": {},
   "source": [
    "# Varying Depth size"
   ]
  },
  {
   "cell_type": "code",
   "execution_count": null,
   "metadata": {},
   "outputs": [
    {
     "name": "stdout",
     "output_type": "stream",
     "text": [
      "NoiseModel:\n",
      "  Basis gates: ['cx', 'id', 'u2', 'u3']\n",
      "  Instructions with noise: ['reset', 'measure', 'cx', 'u3', 'u2']\n",
      "  Qubits with noise: [0, 1, 2, 3]\n",
      "  Specific qubit errors: [('reset', [0]), ('reset', [1]), ('reset', [2]), ('reset', [3]), ('measure', [0]), ('measure', [1]), ('measure', [2]), ('measure', [3]), ('u2', [0]), ('u2', [1]), ('u2', [2]), ('u2', [3]), ('u3', [0]), ('u3', [1]), ('u3', [2]), ('u3', [3]), ('cx', [0, 0]), ('cx', [0, 1]), ('cx', [0, 2]), ('cx', [0, 3]), ('cx', [1, 0]), ('cx', [1, 1]), ('cx', [1, 2]), ('cx', [1, 3]), ('cx', [2, 0]), ('cx', [2, 1]), ('cx', [2, 2]), ('cx', [2, 3]), ('cx', [3, 0]), ('cx', [3, 1]), ('cx', [3, 2]), ('cx', [3, 3])]\n"
     ]
    }
   ],
   "source": [
    "from qiskit.providers.aer.noise import depolarizing_error\n",
    "from qiskit.providers.aer.noise import thermal_relaxation_error\n",
    "from qiskit.providers.aer.noise import NoiseModel\n",
    "\n",
    "# Defining noise model\n",
    "\n",
    "# T1 and T2 values for qubits 0-n\n",
    "n_qubits = 4\n",
    "\n",
    "# T1s = np.random.normal(50e3, 10e3, n_qubits) # Sampled from normal distribution mean 50 microsec\n",
    "# T2s = np.random.normal(70e3, 10e3, n_qubits)  # Sampled from normal distribution mean 50 microsec\n",
    "\n",
    "T1s = [30e3]*n_qubits\n",
    "T2s = [20e3]*n_qubits\n",
    "\n",
    "# Truncate random T2s <= T1s\n",
    "T2s = np.array([min(T2s[j], 2 * T1s[j]) for j in range(n_qubits)])\n",
    "\n",
    "# Instruction times (in nanoseconds)\n",
    "time_u1 = 0   # virtual gate\n",
    "time_u2 = 50  # (single X90 pulse)\n",
    "time_u3 = 100 # (two X90 pulses)\n",
    "time_cx = 300\n",
    "time_reset = 1000  # 1 microsecond\n",
    "time_measure = 1000 # 1 microsecond\n",
    "\n",
    "# QuantumError objects\n",
    "errors_reset = [thermal_relaxation_error(t1, t2, time_reset)\n",
    "                for t1, t2 in zip(T1s, T2s)]\n",
    "errors_measure = [thermal_relaxation_error(t1, t2, time_measure)\n",
    "                  for t1, t2 in zip(T1s, T2s)]\n",
    "errors_u1  = [thermal_relaxation_error(t1, t2, time_u1)\n",
    "              for t1, t2 in zip(T1s, T2s)]\n",
    "errors_u2  = [thermal_relaxation_error(t1, t2, time_u2)\n",
    "              for t1, t2 in zip(T1s, T2s)]\n",
    "errors_u3  = [thermal_relaxation_error(t1, t2, time_u3)\n",
    "              for t1, t2 in zip(T1s, T2s)]\n",
    "errors_cx = [[thermal_relaxation_error(t1a, t2a, time_cx).expand(\n",
    "             thermal_relaxation_error(t1b, t2b, time_cx))\n",
    "              for t1a, t2a in zip(T1s, T2s)]\n",
    "               for t1b, t2b in zip(T1s, T2s)]\n",
    "\n",
    "# Add errors to noise model\n",
    "noise_thermal = NoiseModel()\n",
    "\n",
    "for j in range(n_qubits):\n",
    "    noise_thermal.add_quantum_error(errors_reset[j], \"reset\", [j])\n",
    "    noise_thermal.add_quantum_error(errors_measure[j], \"measure\", [j])\n",
    "    noise_thermal.add_quantum_error(errors_u1[j], \"u1\", [j])\n",
    "    noise_thermal.add_quantum_error(errors_u2[j], \"u2\", [j])\n",
    "    noise_thermal.add_quantum_error(errors_u3[j], \"u3\", [j])\n",
    "    for k in range(n_qubits):\n",
    "        noise_thermal.add_quantum_error(errors_cx[j][k], \"cx\", [j, k])\n",
    "\n",
    "print(noise_thermal)"
   ]
  },
  {
   "cell_type": "code",
   "execution_count": null,
   "metadata": {},
   "outputs": [
    {
     "name": "stderr",
     "output_type": "stream",
     "text": [
      "Depth 1:  50%|█████     | 5/10 [2:32:19<2:32:22, 1828.40s/it]"
     ]
    }
   ],
   "source": [
    "from tqdm import tqdm\n",
    "from qiskit.aqua import QuantumInstance\n",
    "\n",
    "# Parameters Variables\n",
    "n_trials = 10\n",
    "max_depth = 7\n",
    "\n",
    "# Auxiliary Variables\n",
    "solution_dict = {}\n",
    "\n",
    "# Define Optimizer\n",
    "# optimizer = COBYLA()\n",
    "optimizer = SPSA(maxiter=250, c1=.7, last_avg=25) \n",
    "\n",
    "# Define Backend\n",
    "backend = QuantumInstance(backend= Aer.get_backend('qasm_simulator'),\n",
    "                          noise_model=noise_thermal,\n",
    "                          shots=10000)\n",
    "\n",
    "for depth in range(1,max_depth):\n",
    "    # Ansatz with diferent depth\n",
    "    ansatz = TwoLocal(hamiltonian.num_qubits, ['ry','rz'], 'cx', reps=depth)\n",
    "    es_1 = []\n",
    "    es_2 = []\n",
    "    \n",
    "    for _ in tqdm(range(n_trials), desc=f\"Depth {depth}\"):\n",
    "\n",
    "        # Run algorithm\n",
    "        Algo = VQD(hamiltonian=hamiltonian,\n",
    "                    ansatz=ansatz,\n",
    "                    n_excited_states=2,\n",
    "                    beta=10.,\n",
    "                    optimizer=optimizer,\n",
    "                    backend=backend)\n",
    "\n",
    "        Algo.run(0)      \n",
    "        vqd_energies = Algo.energies\n",
    "        es_1.append(vqd_energies[1])\n",
    "        es_2.append(vqd_energies[2])\n",
    "    es_1 = np.array(es_1)\n",
    "    es_2 = np.array(es_2)\n",
    "    \n",
    "    # Maybe use a pd.dataframe\n",
    "    solution_dict[depth] = {'mean':np.mean(es_2 - es_1), 'std':np.std(es_2 - es_1)}"
   ]
  },
  {
   "cell_type": "code",
   "execution_count": null,
   "metadata": {},
   "outputs": [],
   "source": [
    "mean = []\n",
    "std = []\n",
    "for i in range(1,max_depth):\n",
    "    mean.append(solution_dict[i]['mean'])\n",
    "    std.append(solution_dict[i]['std'])"
   ]
  },
  {
   "cell_type": "code",
   "execution_count": null,
   "metadata": {},
   "outputs": [],
   "source": [
    "solution_dict"
   ]
  },
  {
   "cell_type": "code",
   "execution_count": null,
   "metadata": {},
   "outputs": [],
   "source": [
    "import seaborn as sns\n",
    "sns.set()"
   ]
  },
  {
   "cell_type": "code",
   "execution_count": null,
   "metadata": {},
   "outputs": [],
   "source": [
    "from matplotlib.ticker import MaxNLocator\n",
    "\n",
    "x_axis = [i for i in range(1,max_depth)]\n",
    "plt.errorbar(x_axis,\n",
    "             np.array(mean)/2, \n",
    "             yerr=np.array(std)/2,\n",
    "             fmt='ro', ecolor='green')\n",
    "\n",
    "plt.hlines(y=2, xmin=0.5, xmax=6.5, \n",
    "           label='Expected value',color='b')\n",
    "plt.title('Varying Depth', size=18)\n",
    "plt.xlabel('Depth', size= 14)\n",
    "plt.ylabel('Gap', size=14)\n",
    "plt.xticks(x_axis)\n",
    "plt.legend()\n",
    "plt.show()"
   ]
  },
  {
   "cell_type": "markdown",
   "metadata": {
    "heading_collapsed": true
   },
   "source": [
    "# Plot both optimizers"
   ]
  },
  {
   "cell_type": "code",
   "execution_count": 53,
   "metadata": {
    "hidden": true
   },
   "outputs": [],
   "source": [
    "spsa_dict = {1: {'mean': 7.63536, 'std': 2.024100436737268},\n",
    " 2: {'mean': 6.421452, 'std': 3.009174019443874},\n",
    " 3: {'mean': 5.842042, 'std': 3.040774217602484},\n",
    " 4: {'mean': 5.632112000000001, 'std': 3.7485136763063838},\n",
    " 5: {'mean': 5.302354, 'std': 4.1340626645086065},\n",
    " 6: {'mean': 4.079198, 'std': 3.6543650323135477}}\n",
    "\n",
    "\n",
    "cobyla_dict = {1: {'mean': 2.1433459999999998, 'std': 2.167278391458744},\n",
    "     2: {'mean': 3.9974700000000003, 'std': 0.8313654816625478},\n",
    "     3: {'mean': 4.234878, 'std': 0.4082247583329558},\n",
    "     4: {'mean': 3.965828, 'std': 0.6320480140115939},\n",
    "     5: {'mean': 4.150304, 'std': 0.39219715295244073},\n",
    "     6: {'mean': 4.206206, 'std': 0.4295148125082534}}\n",
    "\n",
    "mean_spsa = []\n",
    "std_spsa = []\n",
    "mean_cobyla = []\n",
    "std_cobyla = []\n",
    "\n",
    "for i in range(1,max_depth):\n",
    "    mean_spsa.append(spsa_dict[i]['mean'])\n",
    "    std_spsa.append(spsa_dict[i]['std'])\n",
    "    mean_cobyla.append(cobyla_dict[i]['mean'])\n",
    "    std_cobyla.append(cobyla_dict[i]['std'])"
   ]
  },
  {
   "cell_type": "code",
   "execution_count": null,
   "metadata": {
    "hidden": true
   },
   "outputs": [],
   "source": [
    "from matplotlib.ticker import MaxNLocator\n",
    "\n",
    "x_axis = [i for i in range(1,max_depth)]\n",
    "plt.errorbar(x_axis,\n",
    "             np.array(mean_spsa)/2, \n",
    "             yerr=np.array(std_spsa)/2,\n",
    "             fmt='o', color='black', \n",
    "             ecolor='gray', elinewidth=2,\n",
    "             label='SPSA')\n",
    "plt.errorbar(x_axis,\n",
    "             np.array(mean_cobyla)/2, \n",
    "             yerr=np.array(std_cobyla)/2,\n",
    "             fmt='o', color='red',\n",
    "             ecolor='green', elinewidth=2,\n",
    "             label='COBYLA')\n",
    "\n",
    "plt.hlines(y=2, xmin=0.5, xmax=6.5, \n",
    "           label='Expected value',color='b')\n",
    "\n",
    "plt.title('Varying Depth', size=18)\n",
    "plt.xlabel('Depth', size= 14)\n",
    "plt.ylabel('Gap', size=14)\n",
    "plt.ylim(0., 6.5)\n",
    "plt.xticks(x_axis)\n",
    "plt.legend()\n",
    "plt.savefig('Depth.png')\n",
    "plt.show()"
   ]
  },
  {
   "cell_type": "markdown",
   "metadata": {
    "hidden": true
   },
   "source": [
    "## Continous plot"
   ]
  },
  {
   "cell_type": "code",
   "execution_count": 56,
   "metadata": {
    "hidden": true
   },
   "outputs": [
    {
     "data": {
      "image/png": "[encoded data removed]",
      "text/plain": [
       "<Figure size 432x288 with 1 Axes>"
      ]
     },
     "metadata": {},
     "output_type": "display_data"
    }
   ],
   "source": [
    "plt.plot(x_axis, np.array(mean_spsa)/2,  'or')\n",
    "plt.fill_between(x_axis, np.array(mean_spsa)/2 - np.array(std_spsa)/2 , np.array(mean_spsa)/2 + np.array(std_spsa)/2,\n",
    "                 color='gray', alpha=0.2)\n",
    "plt.show()"
   ]
  },
  {
   "cell_type": "code",
   "execution_count": null,
   "metadata": {
    "hidden": true
   },
   "outputs": [],
   "source": []
  }
 ],
 "metadata": {
  "kernelspec": {
   "display_name": "Python 3",
   "language": "python",
   "name": "python3"
  },
  "language_info": {
   "codemirror_mode": {
    "name": "ipython",
    "version": 3
   },
   "file_extension": ".py",
   "mimetype": "text/x-python",
   "name": "python",
   "nbconvert_exporter": "python",
   "pygments_lexer": "ipython3",
   "version": "3.7.3"
  },
  "toc": {
   "base_numbering": 1,
   "nav_menu": {},
   "number_sections": true,
   "sideBar": true,
   "skip_h1_title": false,
   "title_cell": "Table of Contents",
   "title_sidebar": "Contents",
   "toc_cell": true,
   "toc_position": {},
   "toc_section_display": true,
   "toc_window_display": false
  }
 },
 "nbformat": 4,
 "nbformat_minor": 4
}
