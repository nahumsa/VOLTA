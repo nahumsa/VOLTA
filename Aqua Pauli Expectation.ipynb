{
 "cells": [
  {
   "cell_type": "markdown",
   "metadata": {
    "toc": true
   },
   "source": [
    "<h1>Table of Contents<span class=\"tocSkip\"></span></h1>\n",
    "<div class=\"toc\"><ul class=\"toc-item\"></ul></div>"
   ]
  },
  {
   "cell_type": "code",
   "execution_count": 65,
   "metadata": {},
   "outputs": [
    {
     "name": "stdout",
     "output_type": "stream",
     "text": [
      "7\n"
     ]
    }
   ],
   "source": [
    "import qiskit\n",
    "import numpy as np\n",
    "from qiskit.aqua.operators import PauliExpectation, CircuitSampler, ExpectationFactory\n",
    "from qiskit.aqua.operators import CircuitStateFn, StateFn, ListOp\n",
    "from qiskit.aqua.operators import I, X, Y, Z\n",
    "\n",
    "hamiltonian = (X^X^X^X^X^X^X) #+ (I^I^Z) + (I^Z^Z)\n",
    "n_qubits = hamiltonian.to_circuit().num_qubits\n",
    "print(n_qubits)"
   ]
  },
  {
   "cell_type": "code",
   "execution_count": 66,
   "metadata": {},
   "outputs": [],
   "source": [
    "backend = qiskit.BasicAer.get_backend('statevector_simulator')\n",
    "sampler = CircuitSampler(backend=backend)"
   ]
  },
  {
   "cell_type": "markdown",
   "metadata": {},
   "source": [
    "[StateFn doc](https://qiskit.org/documentation/stubs/qiskit.aqua.operators.state_fns.StateFn.html) -> Seems to act like a statevector.\n",
    "\n",
    "[ExpectationFactory doc](https://qiskit.org/documentation/stubs/qiskit.aqua.operators.expectations.ExpectationFactory.html)\n",
    " -> ExpectationFactory adds sampling noise."
   ]
  },
  {
   "cell_type": "code",
   "execution_count": 67,
   "metadata": {},
   "outputs": [],
   "source": [
    "# this leads to better results\n",
    "# observable_meas = StateFn(hamiltonian, is_measurement=True)\n",
    "\n",
    "# But why not use this like the qiskit's implementation of VQE\n",
    "expectation = ExpectationFactory.build(operator=hamiltonian,backend=backend)\n",
    "observable_meas = expectation.convert(StateFn(hamiltonian, is_measurement=True))"
   ]
  },
  {
   "cell_type": "code",
   "execution_count": 68,
   "metadata": {},
   "outputs": [],
   "source": [
    "from qiskit.circuit.library import TwoLocal\n",
    "\n",
    "def _get_ansatz(n_qubits):\n",
    "    return TwoLocal(n_qubits, ['ry','rz'], 'cx', reps=1)\n",
    "\n",
    "def get_num_parameters(n_qubits):\n",
    "    return len(_get_ansatz(n_qubits).parameters)\n",
    "\n",
    "def get_var_form(params, n_qubits=2):\n",
    "    \"\"\"Get an hardware-efficient ansatz for n_qubits\n",
    "    given parameters.\n",
    "    \"\"\"\n",
    "    \n",
    "    # Define variational Form\n",
    "    var_form = _get_ansatz(n_qubits)\n",
    "    \n",
    "    # Get Parameters from the variational form\n",
    "    var_form_params = sorted(var_form.parameters, key=lambda p: p.name)\n",
    "    \n",
    "    # Check if the number of parameters is compatible\n",
    "    assert len(var_form_params) == len(params), \"The number of parameters don't match\"\n",
    "    \n",
    "    # Create a dictionary with the parameters and values\n",
    "    param_dict = dict(zip(var_form_params, params))\n",
    "    \n",
    "    # Assing those values for the ansatz\n",
    "    wave_function = var_form.assign_parameters(param_dict)\n",
    "    \n",
    "    return wave_function"
   ]
  },
  {
   "cell_type": "code",
   "execution_count": 71,
   "metadata": {},
   "outputs": [],
   "source": [
    "# n_qubits = 3\n",
    "n_params = get_num_parameters(n_qubits)\n",
    "params = [0]*n_params\n",
    "wavefunction = get_var_form(params, n_qubits)"
   ]
  },
  {
   "cell_type": "code",
   "execution_count": 72,
   "metadata": {},
   "outputs": [],
   "source": [
    "ansatz_circuit_op = CircuitStateFn(wavefunction)\n",
    "expect_op = observable_meas.compose(ansatz_circuit_op).reduce()\n",
    "sampled_expect_op = sampler.convert(expect_op)\n",
    "means = np.real(sampled_expect_op.eval())"
   ]
  },
  {
   "cell_type": "code",
   "execution_count": 73,
   "metadata": {},
   "outputs": [
    {
     "data": {
      "text/plain": [
       "0.0"
      ]
     },
     "execution_count": 73,
     "metadata": {},
     "output_type": "execute_result"
    }
   ],
   "source": [
    "means"
   ]
  },
  {
   "cell_type": "code",
   "execution_count": null,
   "metadata": {},
   "outputs": [],
   "source": []
  }
 ],
 "metadata": {
  "kernelspec": {
   "display_name": "Python 3",
   "language": "python",
   "name": "python3"
  },
  "language_info": {
   "codemirror_mode": {
    "name": "ipython",
    "version": 3
   },
   "file_extension": ".py",
   "mimetype": "text/x-python",
   "name": "python",
   "nbconvert_exporter": "python",
   "pygments_lexer": "ipython3",
   "version": "3.6.8"
  },
  "toc": {
   "base_numbering": 1,
   "nav_menu": {},
   "number_sections": true,
   "sideBar": true,
   "skip_h1_title": false,
   "title_cell": "Table of Contents",
   "title_sidebar": "Contents",
   "toc_cell": true,
   "toc_position": {},
   "toc_section_display": true,
   "toc_window_display": false
  }
 },
 "nbformat": 4,
 "nbformat_minor": 2
}
