{
 "cells": [
  {
   "cell_type": "markdown",
   "metadata": {
    "toc": true
   },
   "source": [
    "<h1>Table of Contents<span class=\"tocSkip\"></span></h1>\n",
    "<div class=\"toc\"><ul class=\"toc-item\"></ul></div>"
   ]
  },
  {
   "cell_type": "code",
   "execution_count": 3,
   "metadata": {},
   "outputs": [],
   "source": [
    "import qiskit\n",
    "import numpy as np\n",
    "from qiskit.aqua.operators import PauliExpectation, CircuitSampler, ExpectationFactory\n",
    "from qiskit.aqua.operators import CircuitStateFn, StateFn, ListOp"
   ]
  },
  {
   "cell_type": "code",
   "execution_count": 20,
   "metadata": {},
   "outputs": [],
   "source": [
    "from typing import Union\n",
    "import qiskit\n",
    "import numpy as np\n",
    "from qiskit.aqua.utils.backend_utils import is_aer_provider\n",
    "from qiskit.aqua.operators import (PauliExpectation, CircuitSampler, ExpectationFactory,\n",
    "                                   CircuitStateFn, StateFn, ListOp)\n",
    "\n",
    "def sample_hamiltonian(hamiltonian: qiskit.aqua.operators.OperatorBase,\n",
    "                       backend: Union[qiskit.providers.BaseBackend, qiskit.aqua.QuantumInstance],\n",
    "                       ansatz: qiskit.QuantumCircuit):\n",
    "    \n",
    "    sampler = CircuitSampler(backend, param_qobj=is_aer_provider(backend.backend))\n",
    "    expectation = ExpectationFactory.build(operator=hamiltonian,backend=backend)\n",
    "    observable_meas = expectation.convert(StateFn(hamiltonian, is_measurement=True))\n",
    "    \n",
    "    ansatz_circuit_op = CircuitStateFn(wavefunction)\n",
    "    \n",
    "    expect_op = observable_meas.compose(ansatz_circuit_op).reduce()\n",
    "    sampled_expect_op = sampler.convert(expect_op)\n",
    "    \n",
    "    return np.real(sampled_expect_op.eval())"
   ]
  },
  {
   "cell_type": "code",
   "execution_count": 43,
   "metadata": {},
   "outputs": [
    {
     "data": {
      "text/plain": [
       "1.9921875"
      ]
     },
     "execution_count": 43,
     "metadata": {},
     "output_type": "execute_result"
    }
   ],
   "source": [
    "from Ansatz import get_num_parameters, get_var_form\n",
    "from qiskit.aqua.operators import I, X, Y, Z\n",
    "from qiskit.aqua import QuantumInstance\n",
    "\n",
    "n_qubits = 2\n",
    "n_params = get_num_parameters(n_qubits)\n",
    "params = [0.]*n_params\n",
    "wavefunction = get_var_form(params, n_qubits)\n",
    "\n",
    "hamiltonian = 1/2*((Z^Z) + (Z^I) + (X^X))\n",
    "\n",
    "backend = QuantumInstance(backend=qiskit.BasicAer.get_backend('qasm_simulator'))\n",
    "sample_hamiltonian(hamiltonian, backend, wavefunction)"
   ]
  },
  {
   "cell_type": "code",
   "execution_count": 25,
   "metadata": {},
   "outputs": [],
   "source": [
    "# Variational Form\n",
    "\n",
    "backend = qiskit.BasicAer.get_backend('qasm_simulator')\n",
    "sampler = CircuitSampler(backend=backend)\n",
    "\n",
    "expectation = ExpectationFactory.build(operator=hamiltonian,backend=backend)\n",
    "observable_meas = expectation.convert(StateFn(hamiltonian, is_measurement=True))\n"
   ]
  },
  {
   "cell_type": "code",
   "execution_count": 13,
   "metadata": {},
   "outputs": [
    {
     "name": "stdout",
     "output_type": "stream",
     "text": [
      "ComposedOp([\n",
      "  OperatorMeasurement(ZZ),\n",
      "       ┌─────┐┌───┐\n",
      "  q_0: ┤ SDG ├┤ H ├\n",
      "       ├─────┤├───┤\n",
      "  q_1: ┤ SDG ├┤ H ├\n",
      "       └─────┘└───┘\n",
      "])\n"
     ]
    }
   ],
   "source": [
    "print(observable_meas)"
   ]
  },
  {
   "cell_type": "code",
   "execution_count": 11,
   "metadata": {},
   "outputs": [],
   "source": [
    "ansatz_circuit_op = CircuitStateFn(wavefunction)\n",
    "expect_op = observable_meas.compose(ansatz_circuit_op).reduce()\n",
    "sampled_expect_op = sampler.convert(expect_op)\n",
    "means = np.real(sampled_expect_op.eval())"
   ]
  },
  {
   "cell_type": "code",
   "execution_count": 12,
   "metadata": {
    "scrolled": true
   },
   "outputs": [
    {
     "data": {
      "text/plain": [
       "1.0"
      ]
     },
     "execution_count": 12,
     "metadata": {},
     "output_type": "execute_result"
    }
   ],
   "source": [
    "means"
   ]
  },
  {
   "cell_type": "code",
   "execution_count": null,
   "metadata": {},
   "outputs": [],
   "source": []
  }
 ],
 "metadata": {
  "kernelspec": {
   "display_name": "Python 3",
   "language": "python",
   "name": "python3"
  },
  "language_info": {
   "codemirror_mode": {
    "name": "ipython",
    "version": 3
   },
   "file_extension": ".py",
   "mimetype": "text/x-python",
   "name": "python",
   "nbconvert_exporter": "python",
   "pygments_lexer": "ipython3",
   "version": "3.6.8"
  },
  "toc": {
   "base_numbering": 1,
   "nav_menu": {},
   "number_sections": true,
   "sideBar": true,
   "skip_h1_title": false,
   "title_cell": "Table of Contents",
   "title_sidebar": "Contents",
   "toc_cell": true,
   "toc_position": {},
   "toc_section_display": true,
   "toc_window_display": false
  }
 },
 "nbformat": 4,
 "nbformat_minor": 2
}
