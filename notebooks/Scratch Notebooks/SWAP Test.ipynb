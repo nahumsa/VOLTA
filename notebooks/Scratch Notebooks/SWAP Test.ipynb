{
 "cells": [
  {
   "cell_type": "markdown",
   "metadata": {
    "toc": true
   },
   "source": [
    "<h1>Table of Contents<span class=\"tocSkip\"></span></h1>\n",
    "<div class=\"toc\"><ul class=\"toc-item\"></ul></div>"
   ]
  },
  {
   "cell_type": "code",
   "execution_count": 135,
   "metadata": {},
   "outputs": [],
   "source": [
    "def dswap_test_circuit(qc1: QuantumCircuit, qc2: QuantumCircuit) -> QuantumCircuit:\n",
    "    \"\"\" Construct the destructive SWAP test circuit given two circuits.\n",
    "\n",
    "    Args:\n",
    "        qc1(qiskit.QuantumCircuit): Quantum circuit for the \n",
    "        first state.\n",
    "        qc2(qiskit.QuantumCircuit): Quantum circuit for the \n",
    "        second state.\n",
    "    Output:\n",
    "        (qiskit.QuantumCircuit): swap test circuit.\n",
    "    \"\"\"\n",
    "    # Helper variables\n",
    "    n_total = qc1.num_qubits + qc2.num_qubits\n",
    "    range_qc1 = [i  for i in range(qc1.num_qubits)]\n",
    "    range_qc2 = [i + qc1.num_qubits for i in range(qc2.num_qubits)]\n",
    "    \n",
    "    # Constructing the SWAP test circuit\n",
    "    qc_swap = QuantumCircuit(n_total , n_total)\n",
    "    qc_swap.append(qc1, range_qc1)\n",
    "    qc_swap.append(qc2, range_qc2)\n",
    "    \n",
    "    \n",
    "    for index, qubit in enumerate(range_qc1):\n",
    "        qc_swap.cx(qubit, range_qc2[index])\n",
    "        qc_swap.h(qubit)\n",
    "    \n",
    "    \n",
    "    for index, qubit in enumerate(range_qc1):\n",
    "        qc_swap.measure(qubit, 2*index)\n",
    "        \n",
    "    for index, qubit in enumerate(range_qc2):\n",
    "        qc_swap.measure(range_qc2[index] , 2*index + 1)\n",
    "    return qc_swap"
   ]
  },
  {
   "cell_type": "code",
   "execution_count": 138,
   "metadata": {},
   "outputs": [],
   "source": [
    "import textwrap\n",
    "import qiskit\n",
    "from qiskit import QuantumCircuit, execute\n",
    "from typing import Union\n",
    "from qiskit.aqua import QuantumInstance\n",
    "from qiskit.providers import BaseBackend\n",
    "\n",
    "def measure_dswap_test(qc1: QuantumCircuit, qc2: QuantumCircuit,\n",
    "                     backend: Union[BaseBackend,QuantumInstance],\n",
    "                     num_shots: int=10000) -> float:\n",
    "    \"\"\"Returns the fidelity from a destructive SWAP test.\n",
    "\n",
    "    Args:\n",
    "        qc1 (QuantumCircuit): Quantum Circuit for the first state.\n",
    "        qc2 (QuantumCircuit): Quantum Circuit for the second state.\n",
    "        backend (Union[BaseBackend,QuantumInstance]): Backend.\n",
    "        num_shots (int, optional): Number of shots. Defaults to 10000.\n",
    "\n",
    "    Returns:\n",
    "        float: result of the overlap betweeen the first and second state.\n",
    "    \"\"\"\n",
    "    n = qc1.num_qubits \n",
    "    swap_circuit = dswap_test_circuit(qc1, qc2)\n",
    "\n",
    "    # Check if the backend is a quantum instance.\n",
    "    if qiskit.aqua.quantum_instance.QuantumInstance == type(backend):\n",
    "        count = backend.execute(swap_circuit).get_counts()\n",
    "    else:\n",
    "        count = execute(swap_circuit, backend=backend, shots=num_shots).result().get_counts()\n",
    "    \n",
    "    result = 0\n",
    "    for meas, counts in count.items():\n",
    "        split_meas = textwrap.wrap(meas, 2)\n",
    "        for m in split_meas:\n",
    "            if m == '11':\n",
    "                result -= counts\n",
    "            else:\n",
    "                result += counts\n",
    "\n",
    "    total = sum(count.values())\n",
    "    \n",
    "    return result/(n*total)"
   ]
  },
  {
   "cell_type": "code",
   "execution_count": 139,
   "metadata": {},
   "outputs": [
    {
     "data": {
      "text/plain": [
       "1.0"
      ]
     },
     "execution_count": 139,
     "metadata": {},
     "output_type": "execute_result"
    }
   ],
   "source": [
    "from qiskit import QuantumCircuit, execute\n",
    "\n",
    "qc1 = QuantumCircuit(n)\n",
    "qc2 = QuantumCircuit(n)\n",
    "\n",
    "backend = BasicAer.get_backend('qasm_simulator')\n",
    "measure_dswap_test(qc1, qc2, backend)"
   ]
  },
  {
   "cell_type": "code",
   "execution_count": 140,
   "metadata": {},
   "outputs": [],
   "source": [
    "from qiskit import BasicAer\n",
    "backend = BasicAer.get_backend('qasm_simulator')\n",
    "num_shots = 10000\n",
    "count = execute(swap_circuit, backend=backend, shots=num_shots).result().get_counts()"
   ]
  },
  {
   "cell_type": "code",
   "execution_count": 127,
   "metadata": {},
   "outputs": [
    {
     "data": {
      "text/plain": [
       "1.0"
      ]
     },
     "execution_count": 127,
     "metadata": {},
     "output_type": "execute_result"
    }
   ],
   "source": [
    "import textwrap\n",
    "result = 0\n",
    "for meas, counts in count.items():\n",
    "    split_meas = textwrap.wrap(meas, 2)\n",
    "    for m in split_meas:\n",
    "        if m == '11':\n",
    "            result -= counts\n",
    "        else:\n",
    "            result += counts\n",
    "\n",
    "total = sum(count.values())\n",
    "result/(n*total)"
   ]
  },
  {
   "cell_type": "code",
   "execution_count": null,
   "metadata": {},
   "outputs": [],
   "source": []
  }
 ],
 "metadata": {
  "kernelspec": {
   "display_name": "Python 3",
   "language": "python",
   "name": "python3"
  },
  "language_info": {
   "codemirror_mode": {
    "name": "ipython",
    "version": 3
   },
   "file_extension": ".py",
   "mimetype": "text/x-python",
   "name": "python",
   "nbconvert_exporter": "python",
   "pygments_lexer": "ipython3",
   "version": "3.6.8"
  },
  "toc": {
   "base_numbering": 1,
   "nav_menu": {},
   "number_sections": true,
   "sideBar": true,
   "skip_h1_title": false,
   "title_cell": "Table of Contents",
   "title_sidebar": "Contents",
   "toc_cell": true,
   "toc_position": {},
   "toc_section_display": true,
   "toc_window_display": false
  }
 },
 "nbformat": 4,
 "nbformat_minor": 2
}
