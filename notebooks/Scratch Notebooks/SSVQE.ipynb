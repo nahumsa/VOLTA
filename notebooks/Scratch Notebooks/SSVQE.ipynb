{
 "cells": [
  {
   "cell_type": "markdown",
   "metadata": {
    "toc": true
   },
   "source": [
    "<h1>Table of Contents<span class=\"tocSkip\"></span></h1>\n",
    "<div class=\"toc\"><ul class=\"toc-item\"><li><span><a href=\"#Defining-the-Hamiltonian\" data-toc-modified-id=\"Defining-the-Hamiltonian-1\"><span class=\"toc-item-num\">1&nbsp;&nbsp;</span>Defining the Hamiltonian</a></span></li><li><span><a href=\"#Generating-the-initial-states\" data-toc-modified-id=\"Generating-the-initial-states-2\"><span class=\"toc-item-num\">2&nbsp;&nbsp;</span>Generating the initial states</a></span></li><li><span><a href=\"#Creating-first-Unitary\" data-toc-modified-id=\"Creating-first-Unitary-3\"><span class=\"toc-item-num\">3&nbsp;&nbsp;</span>Creating first Unitary</a></span></li><li><span><a href=\"#Create-First-Objective-Function\" data-toc-modified-id=\"Create-First-Objective-Function-4\"><span class=\"toc-item-num\">4&nbsp;&nbsp;</span>Create First Objective Function</a></span></li><li><span><a href=\"#First-Optimization-Step\" data-toc-modified-id=\"First-Optimization-Step-5\"><span class=\"toc-item-num\">5&nbsp;&nbsp;</span>First Optimization Step</a></span></li><li><span><a href=\"#Second-Optimization\" data-toc-modified-id=\"Second-Optimization-6\"><span class=\"toc-item-num\">6&nbsp;&nbsp;</span>Second Optimization</a></span></li></ul></div>"
   ]
  },
  {
   "cell_type": "code",
   "execution_count": 1,
   "metadata": {},
   "outputs": [],
   "source": [
    "import sys\n",
    "sys.path.append('../../')\n",
    "\n",
    "import numpy as np\n",
    "from qiskit import QuantumCircuit\n",
    "from qiskit.aqua.operators import I, X, Y, Z\n",
    "import matplotlib.pyplot as plt\n",
    "\n",
    "from VOLTA.Observables import sample_hamiltonian\n",
    "from VOLTA.Hamiltonians import BCS_hamiltonian"
   ]
  },
  {
   "cell_type": "markdown",
   "metadata": {},
   "source": [
    "# Defining the Hamiltonian"
   ]
  },
  {
   "cell_type": "code",
   "execution_count": 2,
   "metadata": {},
   "outputs": [
    {
     "name": "stdout",
     "output_type": "stream",
     "text": [
      "SummedOp([\n",
      "  1.5 * ZI,\n",
      "  1.5 * IZ,\n",
      "  -1.0 * XX,\n",
      "  -1.0 * YY\n",
      "])\n"
     ]
    }
   ],
   "source": [
    "EPSILONS = [3, 3]\n",
    "V = -2\n",
    "hamiltonian = BCS_hamiltonian(EPSILONS, V)\n",
    "print(hamiltonian)"
   ]
  },
  {
   "cell_type": "code",
   "execution_count": 3,
   "metadata": {},
   "outputs": [
    {
     "name": "stdout",
     "output_type": "stream",
     "text": [
      "Eigenvalues: [-3. -2.  2.  3.]\n"
     ]
    }
   ],
   "source": [
    "eigenvalues, _ = np.linalg.eigh(hamiltonian.to_matrix())\n",
    "print(f\"Eigenvalues: {eigenvalues}\")"
   ]
  },
  {
   "cell_type": "markdown",
   "metadata": {},
   "source": [
    "# Generating the initial states"
   ]
  },
  {
   "cell_type": "code",
   "execution_count": 4,
   "metadata": {},
   "outputs": [],
   "source": [
    "def create_circuit(n: int) -> list:\n",
    "    return [QuantumCircuit(n) for _ in range(2**n - 1)]"
   ]
  },
  {
   "cell_type": "code",
   "execution_count": 5,
   "metadata": {},
   "outputs": [],
   "source": [
    "n = hamiltonian.num_qubits\n",
    "init_states = create_circuit(n)"
   ]
  },
  {
   "cell_type": "code",
   "execution_count": 6,
   "metadata": {},
   "outputs": [],
   "source": [
    "def copy_unitary(list_states: list) -> list:\n",
    "    out_states = []\n",
    "    for state in list_states:\n",
    "        out_states.append(state.copy())\n",
    "    return out_states"
   ]
  },
  {
   "cell_type": "code",
   "execution_count": 7,
   "metadata": {},
   "outputs": [],
   "source": [
    "import textwrap\n",
    "\n",
    "def apply_initialization(list_states: list) -> None:\n",
    "    for ind, state in enumerate(list_states):\n",
    "        b = bin(ind)[2:]\n",
    "        if len(b) != n:\n",
    "            b = '0'*(n - len(b)) + b\n",
    "        spl = textwrap.wrap(b, 1)\n",
    "        for qubit, val in enumerate(spl):\n",
    "            if val == '1':\n",
    "                state.x(qubit)"
   ]
  },
  {
   "cell_type": "code",
   "execution_count": 8,
   "metadata": {},
   "outputs": [],
   "source": [
    "apply_initialization(init_states)"
   ]
  },
  {
   "cell_type": "code",
   "execution_count": 9,
   "metadata": {},
   "outputs": [],
   "source": [
    "initialization = copy_unitary(init_states)"
   ]
  },
  {
   "cell_type": "markdown",
   "metadata": {},
   "source": [
    "# Creating first Unitary"
   ]
  },
  {
   "cell_type": "code",
   "execution_count": 10,
   "metadata": {},
   "outputs": [],
   "source": [
    "from qiskit.circuit.library import TwoLocal\n",
    "ansatz = TwoLocal(hamiltonian.num_qubits, ['ry','rz'], 'cx', reps=2)"
   ]
  },
  {
   "cell_type": "code",
   "execution_count": 11,
   "metadata": {},
   "outputs": [],
   "source": [
    "def apply_ansatz(ansatz: QuantumCircuit, list_states: list) -> None:\n",
    "    for states in list_states:\n",
    "        states.append(ansatz, range(n))"
   ]
  },
  {
   "cell_type": "code",
   "execution_count": 12,
   "metadata": {},
   "outputs": [],
   "source": [
    "apply_ansatz(ansatz, init_states)"
   ]
  },
  {
   "cell_type": "code",
   "execution_count": 13,
   "metadata": {
    "scrolled": true
   },
   "outputs": [
    {
     "data": {
      "image/png": "[encoded data removed]",
      "text/plain": [
       "<Figure size 562.032x144.48 with 1 Axes>"
      ]
     },
     "execution_count": 13,
     "metadata": {},
     "output_type": "execute_result"
    }
   ],
   "source": [
    "init_states[2].draw('mpl')"
   ]
  },
  {
   "cell_type": "markdown",
   "metadata": {},
   "source": [
    "# Create First Objective Function"
   ]
  },
  {
   "cell_type": "code",
   "execution_count": 14,
   "metadata": {},
   "outputs": [],
   "source": [
    "def _apply_varform_params(ansatz, params: list):\n",
    "        \"\"\"Get an hardware-efficient ansatz for n_qubits\n",
    "        given parameters.\n",
    "        \"\"\"\n",
    "        # Define variational Form\n",
    "        var_form = ansatz\n",
    "\n",
    "        # Get Parameters from the variational form\n",
    "        var_form_params = sorted(var_form.parameters, key=lambda p: p.name)\n",
    "\n",
    "        # Check if the number of parameters is compatible\n",
    "        assert len(var_form_params) == len(params), \"The number of parameters don't match\"\n",
    "\n",
    "        # Create a dictionary with the parameters and values\n",
    "        param_dict = dict(zip(var_form_params, params))\n",
    "\n",
    "        # Assing those values for the ansatz\n",
    "        wave_function = var_form.assign_parameters(param_dict)\n",
    "\n",
    "        return wave_function"
   ]
  },
  {
   "cell_type": "code",
   "execution_count": 19,
   "metadata": {},
   "outputs": [],
   "source": [
    "from qiskit import BasicAer\n",
    "from qiskit.aqua import QuantumInstance\n",
    "\n",
    "def cost_function(params:list) -> float:\n",
    "        backend = BasicAer.get_backend('qasm_simulator')\n",
    "        backend = QuantumInstance(backend, shots=10000)\n",
    "        cost = 0\n",
    "        # Define Ansatz\n",
    "        for state in init_states:\n",
    "            qc = _apply_varform_params(state, params)\n",
    "\n",
    "            # Hamiltonian\n",
    "            hamiltonian_eval = sample_hamiltonian(hamiltonian=hamiltonian, \n",
    "                                                 ansatz=qc, \n",
    "                                                 backend=backend)\n",
    "            cost += hamiltonian_eval\n",
    "\n",
    "        return cost"
   ]
  },
  {
   "cell_type": "markdown",
   "metadata": {},
   "source": [
    "# First Optimization Step"
   ]
  },
  {
   "cell_type": "code",
   "execution_count": 16,
   "metadata": {},
   "outputs": [],
   "source": [
    "from qiskit.aqua.components.optimizers import COBYLA\n",
    "optimizer = COBYLA(maxiter=1000)"
   ]
  },
  {
   "cell_type": "code",
   "execution_count": null,
   "metadata": {},
   "outputs": [],
   "source": [
    "n_parameters = len(init_states[0].parameters)\n",
    "\n",
    "params = np.random.rand(n_parameters)\n",
    "\n",
    "optimal_params, mean_energy, n_iters = optimizer.optimize(num_vars=n_parameters, \n",
    "                                                        objective_function=cost_function, \n",
    "                                                        initial_point=params)"
   ]
  },
  {
   "cell_type": "code",
   "execution_count": 20,
   "metadata": {},
   "outputs": [
    {
     "data": {
      "text/plain": [
       "-2.8811"
      ]
     },
     "execution_count": 20,
     "metadata": {},
     "output_type": "execute_result"
    }
   ],
   "source": [
    "mean_energy"
   ]
  },
  {
   "cell_type": "code",
   "execution_count": 21,
   "metadata": {},
   "outputs": [],
   "source": [
    "# Optimized first ansatz\n",
    "ansatz_1 = _apply_varform_params(ansatz, optimal_params)\n",
    "ansatz_1.name = 'U(θ)'"
   ]
  },
  {
   "cell_type": "markdown",
   "metadata": {},
   "source": [
    "# Second Optimization"
   ]
  },
  {
   "cell_type": "code",
   "execution_count": 22,
   "metadata": {
    "code_folding": []
   },
   "outputs": [],
   "source": [
    "apply_ansatz(ansatz_1, init_states)"
   ]
  },
  {
   "cell_type": "code",
   "execution_count": 23,
   "metadata": {
    "scrolled": true
   },
   "outputs": [
    {
     "data": {
      "text/html": [
       "<pre style=\"word-wrap: normal;white-space: pre;background: #fff0;line-height: 1.1;font-family: &quot;Courier New&quot;,Courier,monospace\">     ┌───┐»\n",
       "q_0: ┤ X ├»\n",
       "     └───┘»\n",
       "q_1: ─────»\n",
       "          »\n",
       "«     ┌────────────────────────────────────────────────────────────────────────┐»\n",
       "«q_0: ┤0                                                                       ├»\n",
       "«     │  nlocal(θ[0],θ[10],θ[11],θ[1],θ[2],θ[3],θ[4],θ[5],θ[6],θ[7],θ[8],θ[9]) │»\n",
       "«q_1: ┤1                                                                       ├»\n",
       "«     └────────────────────────────────────────────────────────────────────────┘»\n",
       "«     ┌───────┐\n",
       "«q_0: ┤0      ├\n",
       "«     │  U(θ) │\n",
       "«q_1: ┤1      ├\n",
       "«     └───────┘</pre>"
      ],
      "text/plain": [
       "     ┌───┐»\n",
       "q_0: ┤ X ├»\n",
       "     └───┘»\n",
       "q_1: ─────»\n",
       "          »\n",
       "«     ┌────────────────────────────────────────────────────────────────────────┐»\n",
       "«q_0: ┤0                                                                       ├»\n",
       "«     │  nlocal(θ[0],θ[10],θ[11],θ[1],θ[2],θ[3],θ[4],θ[5],θ[6],θ[7],θ[8],θ[9]) │»\n",
       "«q_1: ┤1                                                                       ├»\n",
       "«     └────────────────────────────────────────────────────────────────────────┘»\n",
       "«     ┌───────┐\n",
       "«q_0: ┤0      ├\n",
       "«     │  U(θ) │\n",
       "«q_1: ┤1      ├\n",
       "«     └───────┘"
      ]
     },
     "execution_count": 23,
     "metadata": {},
     "output_type": "execute_result"
    }
   ],
   "source": [
    "init_states[2].draw()"
   ]
  },
  {
   "cell_type": "code",
   "execution_count": 35,
   "metadata": {},
   "outputs": [],
   "source": [
    "from qiskit.aqua import QuantumInstance\n",
    "def cost_function_ind(ind: int, params:list) -> float:\n",
    "        backend = BasicAer.get_backend('qasm_simulator')\n",
    "        backend = QuantumInstance(backend, shots=10000)\n",
    "        cost = 0\n",
    "        \n",
    "        # Define Ansatz\n",
    "        qc = _apply_varform_params(init_states[ind], params)\n",
    "\n",
    "        # Hamiltonian\n",
    "        hamiltonian_eval = sample_hamiltonian(hamiltonian=hamiltonian, \n",
    "                                             ansatz=qc, \n",
    "                                             backend=backend)\n",
    "        cost += hamiltonian_eval\n",
    "\n",
    "        \n",
    "        return - cost"
   ]
  },
  {
   "cell_type": "code",
   "execution_count": 45,
   "metadata": {},
   "outputs": [],
   "source": [
    "from functools import partial\n",
    "cost = partial(cost_function_ind, 2)\n",
    "\n",
    "n_parameters = len(init_states[0].parameters)\n",
    "\n",
    "params = np.random.rand(n_parameters)\n",
    "\n",
    "optimal_params, energy_gs, n_iters = optimizer.optimize(num_vars=n_parameters, \n",
    "                                                        objective_function=cost, \n",
    "                                                        initial_point=params)"
   ]
  },
  {
   "cell_type": "code",
   "execution_count": 46,
   "metadata": {},
   "outputs": [
    {
     "data": {
      "text/plain": [
       "-2.8605999999999994"
      ]
     },
     "execution_count": 46,
     "metadata": {},
     "output_type": "execute_result"
    }
   ],
   "source": [
    "energy_gs"
   ]
  },
  {
   "cell_type": "code",
   "execution_count": 47,
   "metadata": {},
   "outputs": [
    {
     "data": {
      "text/plain": [
       "array([-3., -2.,  2.,  3.])"
      ]
     },
     "execution_count": 47,
     "metadata": {},
     "output_type": "execute_result"
    }
   ],
   "source": [
    "eigenvalues"
   ]
  },
  {
   "cell_type": "code",
   "execution_count": 24,
   "metadata": {},
   "outputs": [],
   "source": [
    "# Optimized second ansatz\n",
    "ansatz_2 = _apply_varform_params(ansatz, optimal_params)\n",
    "ansatz_2.name = 'V(ϕ)'"
   ]
  },
  {
   "cell_type": "code",
   "execution_count": null,
   "metadata": {},
   "outputs": [],
   "source": []
  }
 ],
 "metadata": {
  "kernelspec": {
   "display_name": "Python 3",
   "language": "python",
   "name": "python3"
  },
  "language_info": {
   "codemirror_mode": {
    "name": "ipython",
    "version": 3
   },
   "file_extension": ".py",
   "mimetype": "text/x-python",
   "name": "python",
   "nbconvert_exporter": "python",
   "pygments_lexer": "ipython3",
   "version": "3.6.8"
  },
  "toc": {
   "base_numbering": 1,
   "nav_menu": {},
   "number_sections": true,
   "sideBar": true,
   "skip_h1_title": false,
   "title_cell": "Table of Contents",
   "title_sidebar": "Contents",
   "toc_cell": true,
   "toc_position": {},
   "toc_section_display": true,
   "toc_window_display": false
  }
 },
 "nbformat": 4,
 "nbformat_minor": 2
}
