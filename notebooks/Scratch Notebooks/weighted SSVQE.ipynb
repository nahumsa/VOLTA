{
 "cells": [
  {
   "cell_type": "markdown",
   "metadata": {
    "toc": true
   },
   "source": [
    "<h1>Table of Contents<span class=\"tocSkip\"></span></h1>\n",
    "<div class=\"toc\"><ul class=\"toc-item\"><li><span><a href=\"#Defining-the-Hamiltonian\" data-toc-modified-id=\"Defining-the-Hamiltonian-1\"><span class=\"toc-item-num\">1&nbsp;&nbsp;</span>Defining the Hamiltonian</a></span></li><li><span><a href=\"#Generating-the-initial-states\" data-toc-modified-id=\"Generating-the-initial-states-2\"><span class=\"toc-item-num\">2&nbsp;&nbsp;</span>Generating the initial states</a></span></li><li><span><a href=\"#Creating-first-Unitary\" data-toc-modified-id=\"Creating-first-Unitary-3\"><span class=\"toc-item-num\">3&nbsp;&nbsp;</span>Creating first Unitary</a></span></li><li><span><a href=\"#Create-First-Objective-Function\" data-toc-modified-id=\"Create-First-Objective-Function-4\"><span class=\"toc-item-num\">4&nbsp;&nbsp;</span>Create First Objective Function</a></span></li><li><span><a href=\"#First-Optimization-Step\" data-toc-modified-id=\"First-Optimization-Step-5\"><span class=\"toc-item-num\">5&nbsp;&nbsp;</span>First Optimization Step</a></span></li><li><span><a href=\"#Second-Optimization\" data-toc-modified-id=\"Second-Optimization-6\"><span class=\"toc-item-num\">6&nbsp;&nbsp;</span>Second Optimization</a></span></li></ul></div>"
   ]
  },
  {
   "cell_type": "code",
   "execution_count": 22,
   "metadata": {},
   "outputs": [],
   "source": [
    "import sys\n",
    "sys.path.append('../../')\n",
    "\n",
    "import numpy as np\n",
    "from qiskit import QuantumCircuit\n",
    "from qiskit.opflow import I, X, Y, Z\n",
    "import matplotlib.pyplot as plt\n",
    "\n",
    "from volta.observables import sample_hamiltonian\n",
    "from volta.hamiltonians import BCS_hamiltonian"
   ]
  },
  {
   "cell_type": "markdown",
   "metadata": {},
   "source": [
    "# Defining the Hamiltonian"
   ]
  },
  {
   "cell_type": "code",
   "execution_count": 188,
   "metadata": {},
   "outputs": [
    {
     "name": "stdout",
     "output_type": "stream",
     "text": [
      "0.5 * ZI\n",
      "+ 0.5 * ZZ\n"
     ]
    }
   ],
   "source": [
    "EPSILONS = [3, 3, 3, 3]\n",
    "V = -2\n",
    "hamiltonian = 1 / 2 * (Z ^ I) + 1 / 2 * (Z ^ Z) #BCS_hamiltonian(EPSILONS, V)\n",
    "print(hamiltonian)"
   ]
  },
  {
   "cell_type": "code",
   "execution_count": 189,
   "metadata": {},
   "outputs": [
    {
     "name": "stdout",
     "output_type": "stream",
     "text": [
      "Eigenvalues: [-1.  0.  0.  1.]\n"
     ]
    }
   ],
   "source": [
    "eigenvalues, _ = np.linalg.eigh(hamiltonian.to_matrix())\n",
    "print(f\"Eigenvalues: {eigenvalues}\")"
   ]
  },
  {
   "cell_type": "markdown",
   "metadata": {},
   "source": [
    "# Generating the initial states"
   ]
  },
  {
   "cell_type": "code",
   "execution_count": 190,
   "metadata": {},
   "outputs": [],
   "source": [
    "def create_circuit(n: int) -> list:\n",
    "    return [QuantumCircuit(n) for _ in range(2)]"
   ]
  },
  {
   "cell_type": "code",
   "execution_count": 191,
   "metadata": {},
   "outputs": [],
   "source": [
    "n = hamiltonian.num_qubits\n",
    "init_states = create_circuit(n)"
   ]
  },
  {
   "cell_type": "code",
   "execution_count": 192,
   "metadata": {},
   "outputs": [],
   "source": [
    "def copy_unitary(list_states: list) -> list:\n",
    "    out_states = []\n",
    "    for state in list_states:\n",
    "        out_states.append(state.copy())\n",
    "    return out_states"
   ]
  },
  {
   "cell_type": "code",
   "execution_count": 193,
   "metadata": {},
   "outputs": [],
   "source": [
    "import textwrap\n",
    "\n",
    "def apply_initialization(list_states: list) -> None:\n",
    "    for ind, state in enumerate(list_states):\n",
    "        b = bin(ind)[2:]\n",
    "        if len(b) != n:\n",
    "            b = '0'*(n - len(b)) + b\n",
    "        spl = textwrap.wrap(b, 1)\n",
    "        for qubit, val in enumerate(spl):\n",
    "            if val == '1':\n",
    "                state.x(qubit)"
   ]
  },
  {
   "cell_type": "code",
   "execution_count": 194,
   "metadata": {},
   "outputs": [],
   "source": [
    "apply_initialization(init_states)"
   ]
  },
  {
   "cell_type": "code",
   "execution_count": 195,
   "metadata": {},
   "outputs": [],
   "source": [
    "initialization = copy_unitary(init_states)"
   ]
  },
  {
   "cell_type": "markdown",
   "metadata": {},
   "source": [
    "# Creating first Unitary"
   ]
  },
  {
   "cell_type": "code",
   "execution_count": 196,
   "metadata": {},
   "outputs": [],
   "source": [
    "from qiskit.circuit.library import TwoLocal\n",
    "ansatz = TwoLocal(hamiltonian.num_qubits, ['ry','rz'], 'cx', reps=2)"
   ]
  },
  {
   "cell_type": "code",
   "execution_count": 197,
   "metadata": {},
   "outputs": [],
   "source": [
    "def apply_ansatz(ansatz: QuantumCircuit, list_states: list) -> None:\n",
    "    for states in list_states:\n",
    "        states.append(ansatz, range(n))"
   ]
  },
  {
   "cell_type": "code",
   "execution_count": 198,
   "metadata": {},
   "outputs": [],
   "source": [
    "apply_ansatz(ansatz, init_states)"
   ]
  },
  {
   "cell_type": "code",
   "execution_count": 199,
   "metadata": {
    "scrolled": true
   },
   "outputs": [
    {
     "data": {
      "image/png": "[encoded data removed]",
      "text/plain": [
       "<Figure size 568.052x144.48 with 1 Axes>"
      ]
     },
     "execution_count": 199,
     "metadata": {},
     "output_type": "execute_result"
    }
   ],
   "source": [
    "init_states[-1].draw('mpl')"
   ]
  },
  {
   "cell_type": "markdown",
   "metadata": {},
   "source": [
    "# Create First Objective Function"
   ]
  },
  {
   "cell_type": "code",
   "execution_count": 200,
   "metadata": {},
   "outputs": [],
   "source": [
    "def _apply_varform_params(ansatz, params: list):\n",
    "        \"\"\"Get an hardware-efficient ansatz for n_qubits\n",
    "        given parameters.\n",
    "        \"\"\"\n",
    "        # Define variational Form\n",
    "        var_form = ansatz\n",
    "\n",
    "        # Get Parameters from the variational form\n",
    "        var_form_params = sorted(var_form.parameters, key=lambda p: p.name)\n",
    "\n",
    "        # Check if the number of parameters is compatible\n",
    "        assert len(var_form_params) == len(params), \"The number of parameters don't match\"\n",
    "\n",
    "        # Create a dictionary with the parameters and values\n",
    "        param_dict = dict(zip(var_form_params, params))\n",
    "\n",
    "        # Assing those values for the ansatz\n",
    "        wave_function = var_form.assign_parameters(param_dict)\n",
    "\n",
    "        return wave_function"
   ]
  },
  {
   "cell_type": "code",
   "execution_count": 201,
   "metadata": {},
   "outputs": [],
   "source": [
    "from qiskit import BasicAer\n",
    "from qiskit.utils import QuantumInstance\n",
    "\n",
    "def cost_function(params:list) -> float:\n",
    "        backend = BasicAer.get_backend('qasm_simulator')\n",
    "        backend = QuantumInstance(backend, shots=10000)\n",
    "        cost = 0\n",
    "        \n",
    "        w = np.arange(len(init_states), 0, -1)\n",
    "        \n",
    "        for i, state in enumerate(init_states):\n",
    "            qc = _apply_varform_params(state, params)\n",
    "\n",
    "            # Hamiltonian\n",
    "            hamiltonian_eval = sample_hamiltonian(hamiltonian=hamiltonian, \n",
    "                                                 ansatz=qc, \n",
    "                                                 backend=backend)\n",
    "            cost += w[i] * hamiltonian_eval\n",
    "\n",
    "        return cost"
   ]
  },
  {
   "cell_type": "markdown",
   "metadata": {},
   "source": [
    "# First Optimization Step"
   ]
  },
  {
   "cell_type": "code",
   "execution_count": 202,
   "metadata": {},
   "outputs": [],
   "source": [
    "from qiskit.aqua.components.optimizers import COBYLA\n",
    "optimizer = COBYLA()"
   ]
  },
  {
   "cell_type": "code",
   "execution_count": 203,
   "metadata": {},
   "outputs": [],
   "source": [
    "n_parameters = len(init_states[0].parameters)\n",
    "\n",
    "params = np.random.rand(n_parameters)\n",
    "\n",
    "optimal_params, mean_energy, n_iters = optimizer.optimize(num_vars=n_parameters, \n",
    "                                                        objective_function=cost_function, \n",
    "                                                        initial_point=params)"
   ]
  },
  {
   "cell_type": "code",
   "execution_count": 210,
   "metadata": {},
   "outputs": [
    {
     "data": {
      "text/plain": [
       "(-1.9984, -1.0)"
      ]
     },
     "execution_count": 210,
     "metadata": {},
     "output_type": "execute_result"
    }
   ],
   "source": [
    "mean_energy, sum(eigenvalues[:2])"
   ]
  },
  {
   "cell_type": "code",
   "execution_count": 205,
   "metadata": {},
   "outputs": [],
   "source": [
    "# Optimized first ansatz\n",
    "ansatz_1 = _apply_varform_params(ansatz, optimal_params)\n",
    "ansatz_1.name = 'U(θ)'"
   ]
  },
  {
   "cell_type": "code",
   "execution_count": 206,
   "metadata": {},
   "outputs": [],
   "source": [
    "def cost_function_ind(ind: int, params:list) -> float:\n",
    "        backend = BasicAer.get_backend('qasm_simulator')\n",
    "        backend = QuantumInstance(backend, shots=10000)\n",
    "        cost = 0\n",
    "        \n",
    "        # Define Ansatz\n",
    "        qc = _apply_varform_params(init_states[ind], params)\n",
    "\n",
    "        # Hamiltonian\n",
    "        hamiltonian_eval = sample_hamiltonian(hamiltonian=hamiltonian, \n",
    "                                             ansatz=qc, \n",
    "                                             backend=backend)\n",
    "        cost += hamiltonian_eval\n",
    "\n",
    "        \n",
    "        return cost"
   ]
  },
  {
   "cell_type": "code",
   "execution_count": 207,
   "metadata": {},
   "outputs": [],
   "source": [
    "energies = []\n",
    "for i in range(len(init_states)):\n",
    "    energies.append(cost_function_ind(ind=i, params=optimal_params))\n",
    "energies = np.array(energies)"
   ]
  },
  {
   "cell_type": "code",
   "execution_count": 208,
   "metadata": {},
   "outputs": [
    {
     "name": "stdout",
     "output_type": "stream",
     "text": [
      "Value for the 0 state: -0.9996\t expected energy -1.0\n",
      "Value for the 1 state: 0.0004\t expected energy 0.0\n"
     ]
    }
   ],
   "source": [
    "for i in range(len(init_states)):\n",
    "    print(f\"Value for the {i} state: {energies[i]}\\t expected energy {eigenvalues[i]}\")"
   ]
  },
  {
   "cell_type": "code",
   "execution_count": null,
   "metadata": {},
   "outputs": [],
   "source": []
  }
 ],
 "metadata": {
  "kernelspec": {
   "display_name": "Python 3",
   "language": "python",
   "name": "python3"
  },
  "language_info": {
   "codemirror_mode": {
    "name": "ipython",
    "version": 3
   },
   "file_extension": ".py",
   "mimetype": "text/x-python",
   "name": "python",
   "nbconvert_exporter": "python",
   "pygments_lexer": "ipython3",
   "version": "3.6.8"
  },
  "toc": {
   "base_numbering": 1,
   "nav_menu": {},
   "number_sections": true,
   "sideBar": true,
   "skip_h1_title": false,
   "title_cell": "Table of Contents",
   "title_sidebar": "Contents",
   "toc_cell": true,
   "toc_position": {},
   "toc_section_display": true,
   "toc_window_display": false
  }
 },
 "nbformat": 4,
 "nbformat_minor": 2
}
