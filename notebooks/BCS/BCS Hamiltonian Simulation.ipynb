{
 "cells": [
  {
   "cell_type": "markdown",
   "metadata": {},
   "source": [
    "# Hamiltonian Simulation using SuzukiTrotter"
   ]
  },
  {
   "cell_type": "markdown",
   "metadata": {
    "toc": true
   },
   "source": [
    "<h1>Table of Contents<span class=\"tocSkip\"></span></h1>\n",
    "<div class=\"toc\"><ul class=\"toc-item\"><li><span><a href=\"#Hamiltonian-Simulation-using-SuzukiTrotter\" data-toc-modified-id=\"Hamiltonian-Simulation-using-SuzukiTrotter-1\"><span class=\"toc-item-num\">1&nbsp;&nbsp;</span>Hamiltonian Simulation using SuzukiTrotter</a></span></li><li><span><a href=\"#Defining-the-Hamiltonian\" data-toc-modified-id=\"Defining-the-Hamiltonian-2\"><span class=\"toc-item-num\">2&nbsp;&nbsp;</span>Defining the Hamiltonian</a></span></li><li><span><a href=\"#Hamiltonian-Simulation\" data-toc-modified-id=\"Hamiltonian-Simulation-3\"><span class=\"toc-item-num\">3&nbsp;&nbsp;</span>Hamiltonian Simulation</a></span></li></ul></div>"
   ]
  },
  {
   "cell_type": "markdown",
   "metadata": {},
   "source": [
    "# Defining the Hamiltonian"
   ]
  },
  {
   "cell_type": "code",
   "execution_count": null,
   "metadata": {},
   "outputs": [],
   "source": [
    "import numpy as np\n",
    "from qiskit.aqua.operators import I, X, Y, Z\n",
    "import matplotlib.pyplot as plt\n",
    "%load_ext autoreload\n",
    "%autoreload 2\n",
    "\n",
    "def BCS_hamiltonian(epsilons, V):\n",
    "    return ((1/2*epsilons[0]*I^Z) + (1/2*epsilons[1]*Z^I) + V*(1/2*(X^X) + 1/2*(Y^Y)))"
   ]
  },
  {
   "cell_type": "code",
   "execution_count": 10,
   "metadata": {},
   "outputs": [
    {
     "name": "stdout",
     "output_type": "stream",
     "text": [
      "SummedOp([\n",
      "  0.5 * IZ,\n",
      "  0.5 * ZI,\n",
      "  XX,\n",
      "  YY\n",
      "])\n"
     ]
    }
   ],
   "source": [
    "EPSILONS = [1,1]\n",
    "V = 2\n",
    "hamiltonian = BCS_hamiltonian(EPSILONS, V)\n",
    "print(hamiltonian)"
   ]
  },
  {
   "cell_type": "markdown",
   "metadata": {},
   "source": [
    "# Hamiltonian Simulation"
   ]
  },
  {
   "cell_type": "code",
   "execution_count": 11,
   "metadata": {},
   "outputs": [],
   "source": [
    "from qiskit.aqua.operators import PauliTrotterEvolution, CircuitSampler, MatrixEvolution, Suzuki\n",
    "from qiskit.aqua.operators import StateFn, Plus, Zero, One, Minus, PauliExpectation, CX\n",
    "from qiskit.circuit import Parameter\n",
    "from qiskit import BasicAer"
   ]
  },
  {
   "cell_type": "code",
   "execution_count": 12,
   "metadata": {},
   "outputs": [
    {
     "name": "stdout",
     "output_type": "stream",
     "text": [
      "Time:\n",
      " [0.0, 0.05555555555555555, 0.1111111111111111, 0.16666666666666666, 0.2222222222222222, 0.2777777777777778, 0.3333333333333333, 0.38888888888888884, 0.4444444444444444, 0.5]\n",
      "Sampled energies after Trotterization:\n",
      " [0.5 0.5 0.5 0.5 0.5 0.5 0.5 0.5 0.5 0.5]\n"
     ]
    }
   ],
   "source": [
    "# Initial State \n",
    "init_state = (Plus^Zero)\n",
    "\n",
    "# Time evolution operator\n",
    "evolution_param = Parameter(\"t\")\n",
    "evolution_op = (evolution_param * hamiltonian).exp_i()\n",
    "\n",
    "# Measurement of the Hamiltonian with the time evolved state\n",
    "evo_and_meas = StateFn(hamiltonian).adjoint() @ evolution_op @ init_state\n",
    "\n",
    "# Trotterization\n",
    "trotterized_op = PauliTrotterEvolution(trotter_mode=Suzuki(order=2, reps=1)).convert(evo_and_meas)\n",
    "\n",
    "# Diagonalize the measurement\n",
    "diagonalized_meas_op = PauliExpectation().convert(trotterized_op)\n",
    "\n",
    "# Create an array to represent time and apply to the circuit\n",
    "n_points = 10\n",
    "time_array = list(np.linspace(0, 1/V, n_points))\n",
    "expectations = diagonalized_meas_op.bind_parameters({evolution_param: time_array})\n",
    "\n",
    "# Define Backend\n",
    "backend = BasicAer.get_backend(\"statevector_simulator\")\n",
    "\n",
    "# Use CircuitSampler for getting energy values\n",
    "sampler = CircuitSampler(backend=backend)\n",
    "sampled_expectations = sampler.convert(expectations)\n",
    "sampled_energies = sampled_expectations.eval()\n",
    "print(f\"Time:\\n {time_array}\")\n",
    "print(f\"Sampled energies after Trotterization:\\n {np.real(sampled_energies)}\")"
   ]
  },
  {
   "cell_type": "code",
   "execution_count": 13,
   "metadata": {},
   "outputs": [
    {
     "data": {
      "image/png": "[encoded data removed]",
      "text/plain": [
       "<Figure size 432x288 with 1 Axes>"
      ]
     },
     "metadata": {
      "needs_background": "light"
     },
     "output_type": "display_data"
    }
   ],
   "source": [
    "plt.plot(time_array, np.real(sampled_energies))\n",
    "plt.show()"
   ]
  },
  {
   "cell_type": "code",
   "execution_count": null,
   "metadata": {},
   "outputs": [],
   "source": []
  }
 ],
 "metadata": {
  "kernelspec": {
   "display_name": "Python 3",
   "language": "python",
   "name": "python3"
  },
  "language_info": {
   "codemirror_mode": {
    "name": "ipython",
    "version": 3
   },
   "file_extension": ".py",
   "mimetype": "text/x-python",
   "name": "python",
   "nbconvert_exporter": "python",
   "pygments_lexer": "ipython3",
   "version": "3.6.8"
  },
  "toc": {
   "base_numbering": 1,
   "nav_menu": {},
   "number_sections": true,
   "sideBar": true,
   "skip_h1_title": false,
   "title_cell": "Table of Contents",
   "title_sidebar": "Contents",
   "toc_cell": true,
   "toc_position": {},
   "toc_section_display": true,
   "toc_window_display": false
  }
 },
 "nbformat": 4,
 "nbformat_minor": 2
}
