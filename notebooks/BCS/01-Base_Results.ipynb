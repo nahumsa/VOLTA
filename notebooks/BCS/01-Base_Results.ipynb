{
 "cells": [
  {
   "cell_type": "markdown",
   "metadata": {
    "toc": true
   },
   "source": [
    "<h1>Table of Contents<span class=\"tocSkip\"></span></h1>\n",
    "<div class=\"toc\"><ul class=\"toc-item\"><li><span><a href=\"#BCS\" data-toc-modified-id=\"BCS-1\"><span class=\"toc-item-num\">1&nbsp;&nbsp;</span>BCS</a></span></li><li><span><a href=\"#VQD-Example\" data-toc-modified-id=\"VQD-Example-2\"><span class=\"toc-item-num\">2&nbsp;&nbsp;</span>VQD Example</a></span><ul class=\"toc-item\"><li><span><a href=\"#Without-Noise\" data-toc-modified-id=\"Without-Noise-2.1\"><span class=\"toc-item-num\">2.1&nbsp;&nbsp;</span>Without Noise</a></span></li><li><span><a href=\"#With-Noise\" data-toc-modified-id=\"With-Noise-2.2\"><span class=\"toc-item-num\">2.2&nbsp;&nbsp;</span>With Noise</a></span><ul class=\"toc-item\"><li><span><a href=\"#Creating-the-noise-model\" data-toc-modified-id=\"Creating-the-noise-model-2.2.1\"><span class=\"toc-item-num\">2.2.1&nbsp;&nbsp;</span>Creating the noise model</a></span></li><li><span><a href=\"#Running-the-algorithm\" data-toc-modified-id=\"Running-the-algorithm-2.2.2\"><span class=\"toc-item-num\">2.2.2&nbsp;&nbsp;</span>Running the algorithm</a></span></li></ul></li></ul></li><li><span><a href=\"#Do-statistics\" data-toc-modified-id=\"Do-statistics-3\"><span class=\"toc-item-num\">3&nbsp;&nbsp;</span>Do statistics</a></span><ul class=\"toc-item\"><li><span><a href=\"#Plots\" data-toc-modified-id=\"Plots-3.1\"><span class=\"toc-item-num\">3.1&nbsp;&nbsp;</span>Plots</a></span></li></ul></li></ul></div>"
   ]
  },
  {
   "cell_type": "markdown",
   "metadata": {},
   "source": [
    "# BCS"
   ]
  },
  {
   "cell_type": "markdown",
   "metadata": {},
   "source": [
    "Using the Paper by [Wu et al.](https://arxiv.org/abs/quant-ph/0108110), we have that:\n",
    "\n",
    "The BCS hamiltonian is:\n",
    "\n",
    "$$H_{BCS} = \\sum_{m=1}^N \\frac{\\epsilon_m}{2} ( n_m^F + n_{-m}^F ) + \\sum_{m,k=1}^N V^{+}_{ml} c^\\dagger_m c^\\dagger_{-m} c_{-l}c_l$$\n",
    "\n",
    "Where $n_{\\pm m}^F = c^\\dagger_{\\pm m} c_{\\pm m}$, and the matrix elements $V^+_{ml} = \\langle m, -m| V | l, -l \\rangle$.\n",
    "\n",
    "Which is mapped into:\n",
    "\n",
    "$$H_P = \\sum_{m=1}^N \\frac{\\epsilon_m}{2} \\sigma^Z_m + \\sum_{r= \\pm l} \\sum_{l>m=1}^N \\frac{V_{ml}^r}{2} ( \\sigma^x_m \\sigma^x_l + r \\sigma^y_m \\sigma^y_l )$$\n",
    "\n",
    "where $\\epsilon_m = \\epsilon_m + V^+_{mm}$ and $V^-_{ml} = 0$ for the BCS Hamiltonian, thus:\n",
    "\n",
    "$$H_P = \\sum_{m=1}^N \\frac{\\epsilon_m}{2} \\sigma^Z_m +  \\sum_{l>m=1}^N \\frac{V_{ml}}{2} ( \\sigma^x_m \\sigma^x_l +  \\sigma^y_m \\sigma^y_l )$$\n",
    "\n",
    "$l \\ \\mathrm{and} \\ m$ now denote both state and qubit indices. In this case the qubit state space $H_P = Span \\{ |0 \\rangle, \\sigma^+_m |0 \\rangle, \\sigma_l^+ \\sigma_m^+ |0 \\rangle, \\dots   \\}$ is mapped into a subspace where $n_m^F = n^F_{-m}$. Considering $V_{ml} = V$, we have that:\n",
    "\n",
    "$$\n",
    "H_p = \\hbar \\bigg[ \\sum_{m=1}^N \\frac{\\epsilon_m}{2} \\sigma_z^m + \\frac{V}{2} \\sum_{l>m=1}^N (\\sigma_x^m \\sigma_x^l + \\sigma_y^m \\sigma_y^l) \\bigg]\n",
    "$$\n",
    "\n",
    "This leads to a spectrum of $E_0^{\\pm} = \\pm(\\epsilon_0 + \\epsilon_1)/2$, $E_1^{\\pm} = \\pm \\sqrt{\\epsilon^2 + 4V^2}/2$, where $\\epsilon^2 = (\\epsilon_0 - \\epsilon_1)^2$.\n",
    "The eigenvalues are calculated in this [notebook](https://colab.research.google.com/drive/18IyDfCYlMx957260MSwvJtUeTcAJFnza?usp=sharing):\n",
    "\n",
    "[Aqua Operator Flow Reference](https://github.com/dongreenberg/aqua_talks/blob/master/Understanding%20Aqua's%20Operator%20Flow.ipynb)"
   ]
  },
  {
   "cell_type": "code",
   "execution_count": 1,
   "metadata": {},
   "outputs": [
    {
     "name": "stderr",
     "output_type": "stream",
     "text": [
      "/home/nahum/anaconda3/lib/python3.6/site-packages/qiskit/__init__.py:67: DeprecationWarning: Using Qiskit with Python 3.6 is deprecated as of the 0.17.0 release. Support for running Qiskit with Python 3.6 will be removed in a future release.\n",
      "  DeprecationWarning,\n",
      "/home/nahum/anaconda3/lib/python3.6/site-packages/qiskit/aqua/__init__.py:86: DeprecationWarning: The package qiskit.aqua is deprecated. It was moved/refactored to qiskit-terra For more information see <https://github.com/Qiskit/qiskit-aqua/blob/main/README.md#migration-guide>\n",
      "  warn_package('aqua', 'qiskit-terra')\n"
     ]
    }
   ],
   "source": [
    "import sys\n",
    "sys.path.append('../../')\n",
    "\n",
    "# Python imports\n",
    "import numpy as np\n",
    "import matplotlib.pyplot as plt\n",
    "import seaborn as sns\n",
    "sns.set()\n",
    "\n",
    "# Qiskit\n",
    "from qiskit import BasicAer\n",
    "from qiskit.aqua.components.optimizers import COBYLA, SPSA, L_BFGS_B\n",
    "from qiskit.circuit.library import TwoLocal\n",
    "\n",
    "# VOLTA\n",
    "from volta.vqd import VQD\n",
    "from volta.utils import classical_solver\n",
    "from volta.hamiltonians import BCS_hamiltonian\n",
    "\n",
    "%load_ext autoreload\n",
    "%autoreload 2"
   ]
  },
  {
   "cell_type": "code",
   "execution_count": 8,
   "metadata": {
    "scrolled": true
   },
   "outputs": [
    {
     "name": "stdout",
     "output_type": "stream",
     "text": [
      "Hamiltonian: SummedOp([\n",
      "  1.5 * ZI,\n",
      "  1.5 * IZ,\n",
      "  -1.0 * XX,\n",
      "  -1.0 * YY\n",
      "])\n",
      "\n",
      "Eigenvalues: [-3. -2.  2.  3.]\n"
     ]
    }
   ],
   "source": [
    "EPSILONS = [3, 3]\n",
    "V = -2\n",
    "hamiltonian = BCS_hamiltonian(EPSILONS, V)\n",
    "print(f\"Hamiltonian: {hamiltonian}\\n\")\n",
    "eigenvalues, eigenvectors = classical_solver(hamiltonian)\n",
    "print(f\"Eigenvalues: {eigenvalues}\")"
   ]
  },
  {
   "cell_type": "code",
   "execution_count": 9,
   "metadata": {},
   "outputs": [],
   "source": [
    "from itertools import product\n",
    "# Get the ideal count\n",
    "ideal_dict = {}\n",
    "\n",
    "bin_combinations = list(product(['0','1'], repeat=hamiltonian.num_qubits))\n",
    "for i, eigvect in enumerate(np.abs(eigenvectors)**2):\n",
    "    dic = {}\n",
    "    for ind, val in enumerate(bin_combinations):\n",
    "        val = ''.join(val)\n",
    "        dic[val] = eigvect[ind]\n",
    "    ideal_dict[i] = dic"
   ]
  },
  {
   "cell_type": "markdown",
   "metadata": {},
   "source": [
    "# VQD Example"
   ]
  },
  {
   "cell_type": "markdown",
   "metadata": {
    "heading_collapsed": true
   },
   "source": [
    "## Without Noise"
   ]
  },
  {
   "cell_type": "code",
   "execution_count": null,
   "metadata": {
    "hidden": true,
    "scrolled": true
   },
   "outputs": [],
   "source": [
    "from qiskit.aqua import QuantumInstance\n",
    "\n",
    "# Define Optimizer\n",
    "# optimizer = COBYLA()\n",
    "optimizer = SPSA(maxiter=250, c1=.7, last_avg=25)\n",
    "# optimizer = L_BFGS_B()\n",
    "\n",
    "# Define Backend\n",
    "# backend = BasicAer.get_backend('qasm_simulator')\n",
    "backend = QuantumInstance(backend=BasicAer.get_backend('qasm_simulator'),\n",
    "                          shots=10000)\n",
    "\n",
    "# Define ansatz\n",
    "ansatz = TwoLocal(hamiltonian.num_qubits, ['ry','rz'], 'cx', reps=3)\n",
    "\n",
    "# Run algorithm\n",
    "Algo = VQD(hamiltonian=hamiltonian,\n",
    "            ansatz=ansatz,\n",
    "            n_excited_states=3,\n",
    "            beta=10.,\n",
    "            optimizer=optimizer,\n",
    "            backend=backend)\n",
    "\n",
    "Algo.run()      \n",
    "vqd_energies = Algo.energies\n",
    "vqd_states = Algo.states"
   ]
  },
  {
   "cell_type": "code",
   "execution_count": null,
   "metadata": {
    "hidden": true
   },
   "outputs": [],
   "source": [
    "from copy import copy\n",
    "# Create states and measure them\n",
    "states = []\n",
    "for ind, state in enumerate(vqd_states):\n",
    "    states.append(copy(state))\n",
    "    states[ind].measure_all()"
   ]
  },
  {
   "cell_type": "code",
   "execution_count": null,
   "metadata": {
    "hidden": true
   },
   "outputs": [],
   "source": [
    "from qiskit import execute\n",
    "from qiskit.visualization import plot_histogram\n",
    "\n",
    "\n",
    "\n",
    "fig, axs = plt.subplots(2, 2, figsize=(30,15))\n",
    "\n",
    "for i, ax in zip(range(len(states)), axs.flat):\n",
    "    count = execute(states[i], backend=backend, shots=10000).result().get_counts()\n",
    "    plot_histogram([ideal_dict[i], count],legend=['Ideal','Result'], ax=ax)"
   ]
  },
  {
   "cell_type": "code",
   "execution_count": null,
   "metadata": {
    "hidden": true,
    "scrolled": true
   },
   "outputs": [],
   "source": [
    "print(f'Ideal eigenvalues: {eigenvalues}')\n",
    "print(f'Obtained eigenvalues: {vqd_energies}')"
   ]
  },
  {
   "cell_type": "code",
   "execution_count": null,
   "metadata": {
    "hidden": true,
    "scrolled": true
   },
   "outputs": [],
   "source": [
    "n_1_sim, n_2_sim = 1, 2\n",
    "n_1_vqd, n_2_vqd = 1, 2\n",
    "print(f\"Gap Exact: {(eigenvalues[n_2_sim] - eigenvalues[n_1_sim])/2}\")\n",
    "print(f\"Gap VQD: {(vqd_energies[n_2_vqd] - vqd_energies[n_1_vqd])/2}\")"
   ]
  },
  {
   "cell_type": "markdown",
   "metadata": {},
   "source": [
    "## With Noise"
   ]
  },
  {
   "cell_type": "markdown",
   "metadata": {},
   "source": [
    "### Creating the noise model"
   ]
  },
  {
   "cell_type": "markdown",
   "metadata": {},
   "source": [
    "Thermal relaxation constant $T_1$ and dephasing constant $T_2^*$."
   ]
  },
  {
   "cell_type": "code",
   "execution_count": 10,
   "metadata": {},
   "outputs": [],
   "source": [
    "from qiskit.providers.aer.noise import depolarizing_error\n",
    "from qiskit.providers.aer.noise import thermal_relaxation_error\n",
    "from qiskit.providers.aer.noise import NoiseModel"
   ]
  },
  {
   "cell_type": "code",
   "execution_count": 34,
   "metadata": {},
   "outputs": [
    {
     "name": "stdout",
     "output_type": "stream",
     "text": [
      "NoiseModel:\n",
      "  Basis gates: ['cx', 'id', 'u2', 'u3']\n",
      "  Instructions with noise: ['u2', 'cx', 'measure', 'reset', 'u3']\n",
      "  Qubits with noise: [0, 1, 2, 3]\n",
      "  Specific qubit errors: [('reset', [0]), ('reset', [1]), ('reset', [2]), ('reset', [3]), ('measure', [0]), ('measure', [1]), ('measure', [2]), ('measure', [3]), ('u2', [0]), ('u2', [1]), ('u2', [2]), ('u2', [3]), ('u3', [0]), ('u3', [1]), ('u3', [2]), ('u3', [3]), ('cx', [0, 0]), ('cx', [0, 1]), ('cx', [0, 2]), ('cx', [0, 3]), ('cx', [1, 0]), ('cx', [1, 1]), ('cx', [1, 2]), ('cx', [1, 3]), ('cx', [2, 0]), ('cx', [2, 1]), ('cx', [2, 2]), ('cx', [2, 3]), ('cx', [3, 0]), ('cx', [3, 1]), ('cx', [3, 2]), ('cx', [3, 3])]\n"
     ]
    }
   ],
   "source": [
    "from qiskit.providers.aer.noise import depolarizing_error\n",
    "from qiskit.providers.aer.noise import thermal_relaxation_error\n",
    "from qiskit.providers.aer.noise import NoiseModel\n",
    "\n",
    "# T1 and T2 values for qubits 0-n\n",
    "n_qubits = 4\n",
    "T1s = np.random.normal(50e3, 10e3, n_qubits) # Sampled from normal distribution mean 50 microsec\n",
    "T2s = np.random.normal(70e3, 10e3, n_qubits)  # Sampled from normal distribution mean 50 microsec\n",
    "\n",
    "T1s = [30e3]*n_qubits\n",
    "T2s = [20e3]*n_qubits\n",
    "\n",
    "# Truncate random T2s <= T1s\n",
    "T2s = np.array([min(T2s[j], 2 * T1s[j]) for j in range(n_qubits)])\n",
    "\n",
    "# Instruction times (in nanoseconds)\n",
    "time_u1 = 0   # virtual gate\n",
    "time_u2 = 50  # (single X90 pulse)\n",
    "time_u3 = 100 # (two X90 pulses)\n",
    "time_cx = 300\n",
    "time_reset = 1000  # 1 microsecond\n",
    "time_measure = 1000 # 1 microsecond\n",
    "\n",
    "# QuantumError objects\n",
    "errors_reset = [thermal_relaxation_error(t1, t2, time_reset)\n",
    "                for t1, t2 in zip(T1s, T2s)]\n",
    "errors_measure = [thermal_relaxation_error(t1, t2, time_measure)\n",
    "                  for t1, t2 in zip(T1s, T2s)]\n",
    "errors_u1  = [thermal_relaxation_error(t1, t2, time_u1)\n",
    "              for t1, t2 in zip(T1s, T2s)]\n",
    "errors_u2  = [thermal_relaxation_error(t1, t2, time_u2)\n",
    "              for t1, t2 in zip(T1s, T2s)]\n",
    "errors_u3  = [thermal_relaxation_error(t1, t2, time_u3)\n",
    "              for t1, t2 in zip(T1s, T2s)]\n",
    "errors_cx = [[thermal_relaxation_error(t1a, t2a, time_cx).expand(\n",
    "             thermal_relaxation_error(t1b, t2b, time_cx))\n",
    "              for t1a, t2a in zip(T1s, T2s)]\n",
    "               for t1b, t2b in zip(T1s, T2s)]\n",
    "\n",
    "# Add errors to noise model\n",
    "noise_thermal = NoiseModel()\n",
    "\n",
    "for j in range(n_qubits):\n",
    "    noise_thermal.add_quantum_error(errors_reset[j], \"reset\", [j])\n",
    "    noise_thermal.add_quantum_error(errors_measure[j], \"measure\", [j])\n",
    "    noise_thermal.add_quantum_error(errors_u1[j], \"u1\", [j])\n",
    "    noise_thermal.add_quantum_error(errors_u2[j], \"u2\", [j])\n",
    "    noise_thermal.add_quantum_error(errors_u3[j], \"u3\", [j])\n",
    "    for k in range(n_qubits):\n",
    "        noise_thermal.add_quantum_error(errors_cx[j][k], \"cx\", [j, k])\n",
    "\n",
    "print(noise_thermal)"
   ]
  },
  {
   "cell_type": "markdown",
   "metadata": {},
   "source": [
    "### Running the algorithm"
   ]
  },
  {
   "cell_type": "code",
   "execution_count": 13,
   "metadata": {},
   "outputs": [
    {
     "name": "stdout",
     "output_type": "stream",
     "text": [
      "Calculating excited state 0\n",
      "Calculating excited state 1\n",
      "Calculating excited state 2\n",
      "Calculating excited state 3\n"
     ]
    }
   ],
   "source": [
    "from qiskit.aqua import QuantumInstance\n",
    "from qiskit import Aer\n",
    "\n",
    "# Define Optimizer\n",
    "# optimizer = COBYLA()\n",
    "optimizer = SPSA(maxiter=250, c1=.7, last_avg=25)\n",
    "\n",
    "# Define Backend\n",
    "backend = QuantumInstance(backend=Aer.get_backend('qasm_simulator'),\n",
    "                          noise_model=noise_thermal,\n",
    "                          shots=10000)\n",
    "\n",
    "# Define ansatz\n",
    "ansatz = TwoLocal(hamiltonian.num_qubits, ['ry','rz'], 'cx', reps=3)\n",
    "\n",
    "# Run algorithm\n",
    "Algo = VQD(hamiltonian=hamiltonian,\n",
    "            ansatz=ansatz,\n",
    "            n_excited_states=3,\n",
    "            beta=10.,\n",
    "            optimizer=optimizer,\n",
    "            backend=backend)\n",
    "\n",
    "Algo.run()      \n",
    "vqd_energies = Algo.energies\n",
    "vqd_states = Algo.states"
   ]
  },
  {
   "cell_type": "code",
   "execution_count": 14,
   "metadata": {},
   "outputs": [],
   "source": [
    "from copy import copy\n",
    "# Create states and measure them\n",
    "states = []\n",
    "for ind, state in enumerate(vqd_states):\n",
    "    states.append(copy(state))\n",
    "    states[ind].measure_all()"
   ]
  },
  {
   "cell_type": "code",
   "execution_count": 35,
   "metadata": {},
   "outputs": [
    {
     "data": {
      "image/png": "[encoded data removed]",
      "text/plain": [
       "<Figure size 2160x1080 with 4 Axes>"
      ]
     },
     "metadata": {},
     "output_type": "display_data"
    }
   ],
   "source": [
    "from qiskit import execute\n",
    "from qiskit.visualization import plot_histogram\n",
    "\n",
    "import seaborn as sns\n",
    "sns.set()\n",
    "\n",
    "fig, axs = plt.subplots(2, 2, figsize=(30,15))\n",
    "\n",
    "backend = QuantumInstance(backend=Aer.get_backend('qasm_simulator'),\n",
    "                          noise_model=noise_thermal,\n",
    "                          shots=10000)\n",
    "\n",
    "for i, ax in zip(range(len(states)), axs.flat):\n",
    "    count = backend.execute(states[i]).get_counts()\n",
    "    plot_histogram([ideal_dict[i], count],legend=['Ideal','Result'], ax=ax)\n"
   ]
  },
  {
   "cell_type": "code",
   "execution_count": 24,
   "metadata": {},
   "outputs": [
    {
     "name": "stdout",
     "output_type": "stream",
     "text": [
      "Ideal eigenvalues: [-3. -2.  2.  3.]\n",
      "Obtained eigenvalues: [-2.91044870110064, -1.360832647934979, 2.6843205753260877, 4.0395452305270965]\n"
     ]
    }
   ],
   "source": [
    "print(f'Ideal eigenvalues: {eigenvalues}')\n",
    "print(f'Obtained eigenvalues: {vqd_energies}')"
   ]
  },
  {
   "cell_type": "code",
   "execution_count": 25,
   "metadata": {},
   "outputs": [
    {
     "name": "stdout",
     "output_type": "stream",
     "text": [
      "Gap Exact: 2.0\n",
      "Gap VQD: 2.0225766116305333\n"
     ]
    }
   ],
   "source": [
    "n_1_sim, n_2_sim = 1, 2\n",
    "n_1_vqd, n_2_vqd = 1, 2\n",
    "print(f\"Gap Exact: {(eigenvalues[n_2_sim] - eigenvalues[n_1_sim])/2}\")\n",
    "print(f\"Gap VQD: {(vqd_energies[n_2_vqd] - vqd_energies[n_1_vqd])/2}\")"
   ]
  },
  {
   "cell_type": "markdown",
   "metadata": {
    "heading_collapsed": true
   },
   "source": [
    "# Do statistics"
   ]
  },
  {
   "cell_type": "code",
   "execution_count": 87,
   "metadata": {
    "hidden": true
   },
   "outputs": [
    {
     "name": "stderr",
     "output_type": "stream",
     "text": [
      "100%|██████████| 50/50 [2:15:41<00:00, 144.26s/it]  \n"
     ]
    }
   ],
   "source": [
    "from tqdm import tqdm\n",
    "from qiskit.aqua import QuantumInstance\n",
    "\n",
    "es_1 = []\n",
    "es_2 = []\n",
    "\n",
    "n = 50\n",
    "\n",
    "for _ in tqdm(range(n)):\n",
    "    # Define Optimizer\n",
    "    optimizer = COBYLA()\n",
    "\n",
    "    # Define Backend\n",
    "    # backend = BasicAer.get_backend('qasm_simulator')\n",
    "    backend = QuantumInstance(backend=BasicAer.get_backend('qasm_simulator'),\n",
    "                              shots=10000)\n",
    "\n",
    "    # Define ansatz\n",
    "    ansatz = TwoLocal(hamiltonian.num_qubits, ['ry','rz'], 'cx', reps=2)\n",
    "\n",
    "    # Run algorithm\n",
    "    Algo = VQD(hamiltonian=hamiltonian,\n",
    "                ansatz=ansatz,\n",
    "                n_excited_states=2,\n",
    "                beta=10.,\n",
    "                optimizer=optimizer,\n",
    "                backend=backend)\n",
    "\n",
    "    Algo.run(0)      \n",
    "    vqd_energies = Algo.energies\n",
    "    es_1.append(vqd_energies[1])\n",
    "    es_2.append(vqd_energies[2])"
   ]
  },
  {
   "cell_type": "code",
   "execution_count": 88,
   "metadata": {
    "hidden": true
   },
   "outputs": [],
   "source": [
    "np.savetxt(\"groundstate.txt\", es_1)\n",
    "np.savetxt(\"excitedstate.txt\", es_2)"
   ]
  },
  {
   "cell_type": "code",
   "execution_count": 89,
   "metadata": {
    "hidden": true
   },
   "outputs": [
    {
     "name": "stdout",
     "output_type": "stream",
     "text": [
      "Ground State: -1.807 +/- 0.324 | Expected: -2.0\n",
      "Excited State: 2.443 +/- 0.424 | Expected: 2.0\n"
     ]
    }
   ],
   "source": [
    "print(f\"Ground State: {np.round(np.mean(es_1),3)} +/- {np.round(np.std(es_1),3)} | Expected: {eigenvalues[1]}\")\n",
    "print(f\"Excited State: {np.round(np.mean(es_2),3)} +/- {np.round(np.std(es_2),3)} | Expected: {eigenvalues[2]}\")"
   ]
  },
  {
   "cell_type": "code",
   "execution_count": 90,
   "metadata": {
    "hidden": true
   },
   "outputs": [
    {
     "data": {
      "text/plain": [
       "2.1245"
      ]
     },
     "execution_count": 90,
     "metadata": {},
     "output_type": "execute_result"
    }
   ],
   "source": [
    "np.round(np.mean(es_2) - np.mean(es_1), 3)/2"
   ]
  },
  {
   "cell_type": "markdown",
   "metadata": {
    "hidden": true
   },
   "source": [
    "## Plots"
   ]
  },
  {
   "cell_type": "code",
   "execution_count": 94,
   "metadata": {
    "hidden": true
   },
   "outputs": [
    {
     "data": {
      "image/png": "[encoded data removed]",
      "text/plain": [
       "<Figure size 432x288 with 1 Axes>"
      ]
     },
     "metadata": {
      "needs_background": "light"
     },
     "output_type": "display_data"
    }
   ],
   "source": [
    "import seaborn as sns\n",
    "\n",
    "sns.boxplot(x=es_1)\n",
    "ax=sns.swarmplot(x=es_1, color=\"0.25\")\n",
    "ax.set_title(\"1st Excited State\")\n",
    "ax.vlines(x=eigenvalues[1], ymin=-10, ymax=10, label='Expected Eigenvalue',color='r')\n",
    "plt.legend()\n",
    "plt.show()"
   ]
  },
  {
   "cell_type": "code",
   "execution_count": 92,
   "metadata": {
    "hidden": true
   },
   "outputs": [
    {
     "data": {
      "image/png": "[encoded data removed]",
      "text/plain": [
       "<Figure size 432x288 with 1 Axes>"
      ]
     },
     "metadata": {
      "needs_background": "light"
     },
     "output_type": "display_data"
    }
   ],
   "source": [
    "sns.boxplot(x=es_2)\n",
    "ax=sns.swarmplot(x=es_2, color=\"0.25\")\n",
    "ax.set_title(\"2nd Excited State\")\n",
    "ax.vlines(x=eigenvalues[2], ymin=-10, ymax=10, label='Expected Eigenvalue',color='r')\n",
    "plt.legend()\n",
    "plt.show()"
   ]
  },
  {
   "cell_type": "code",
   "execution_count": 93,
   "metadata": {
    "hidden": true
   },
   "outputs": [
    {
     "data": {
      "image/png": "[encoded data removed]",
      "text/plain": [
       "<Figure size 432x288 with 1 Axes>"
      ]
     },
     "metadata": {
      "needs_background": "light"
     },
     "output_type": "display_data"
    }
   ],
   "source": [
    "sns.boxplot(x=(np.array(es_2)- np.array(es_1))/2)\n",
    "ax=sns.swarmplot(x=(np.array(es_2)- np.array(es_1))/2, color=\"0.25\")\n",
    "ax.set_title(\"Gap\")\n",
    "ax.vlines(x=(eigenvalues[2] - eigenvalues[1])/2, ymin=-10, ymax=10, label='Expected value',color='r')\n",
    "plt.legend()\n",
    "plt.show()"
   ]
  },
  {
   "cell_type": "code",
   "execution_count": null,
   "metadata": {
    "hidden": true
   },
   "outputs": [],
   "source": []
  }
 ],
 "metadata": {
  "kernelspec": {
   "display_name": "Python 3",
   "language": "python",
   "name": "python3"
  },
  "language_info": {
   "codemirror_mode": {
    "name": "ipython",
    "version": 3
   },
   "file_extension": ".py",
   "mimetype": "text/x-python",
   "name": "python",
   "nbconvert_exporter": "python",
   "pygments_lexer": "ipython3",
   "version": "3.6.8"
  },
  "toc": {
   "base_numbering": 1,
   "nav_menu": {},
   "number_sections": true,
   "sideBar": true,
   "skip_h1_title": false,
   "title_cell": "Table of Contents",
   "title_sidebar": "Contents",
   "toc_cell": true,
   "toc_position": {},
   "toc_section_display": true,
   "toc_window_display": false
  }
 },
 "nbformat": 4,
 "nbformat_minor": 4
}
