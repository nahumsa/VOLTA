{
 "cells": [
  {
   "cell_type": "markdown",
   "metadata": {
    "toc": true
   },
   "source": [
    "<h1>Table of Contents<span class=\"tocSkip\"></span></h1>\n",
    "<div class=\"toc\"><ul class=\"toc-item\"><li><span><a href=\"#BCS\" data-toc-modified-id=\"BCS-1\"><span class=\"toc-item-num\">1&nbsp;&nbsp;</span>BCS</a></span></li><li><span><a href=\"#Varying-V\" data-toc-modified-id=\"Varying-V-2\"><span class=\"toc-item-num\">2&nbsp;&nbsp;</span>Varying V</a></span></li><li><span><a href=\"#Plot-both-optimizers\" data-toc-modified-id=\"Plot-both-optimizers-3\"><span class=\"toc-item-num\">3&nbsp;&nbsp;</span>Plot both optimizers</a></span></li></ul></div>"
   ]
  },
  {
   "cell_type": "markdown",
   "metadata": {},
   "source": [
    "# BCS"
   ]
  },
  {
   "cell_type": "markdown",
   "metadata": {},
   "source": [
    "Using the Paper by [Wu et al.](https://arxiv.org/abs/quant-ph/0108110), we have that:\n",
    "\n",
    "The BCS hamiltonian is:\n",
    "\n",
    "$$H_{BCS} = \\sum_{m=1}^N \\frac{\\epsilon_m}{2} ( n_m^F + n_{-m}^F ) + \\sum_{m,k=1}^N V^{+}_{ml} c^\\dagger_m c^\\dagger_{-m} c_{-l}c_l$$\n",
    "\n",
    "Where $n_{\\pm m}^F = c^\\dagger_{\\pm m} c_{\\pm m}$, and the matrix elements $V^+_{ml} = \\langle m, -m| V | l, -l \\rangle$.\n",
    "\n",
    "Which is mapped into:\n",
    "\n",
    "$$H_P = \\sum_{m=1}^N \\frac{\\epsilon_m}{2} \\sigma^Z_m + \\sum_{r= \\pm l} \\sum_{l>m=1}^N \\frac{V_{ml}^r}{2} ( \\sigma^x_m \\sigma^x_l + r \\sigma^y_m \\sigma^y_l )$$\n",
    "\n",
    "where $\\epsilon_m = \\epsilon_m + V^+_{mm}$ and $V^-_{ml} = 0$ for the BCS Hamiltonian, thus:\n",
    "\n",
    "$$H_P = \\sum_{m=1}^N \\frac{\\epsilon_m}{2} \\sigma^Z_m +  \\sum_{l>m=1}^N \\frac{V_{ml}}{2} ( \\sigma^x_m \\sigma^x_l +  \\sigma^y_m \\sigma^y_l )$$\n",
    "\n",
    "$l \\ \\mathrm{and} \\ m$ now denote both state and qubit indices. In this case the qubit state space $H_P = Span \\{ |0 \\rangle, \\sigma^+_m |0 \\rangle, \\sigma_l^+ \\sigma_m^+ |0 \\rangle, \\dots   \\}$ is mapped into a subspace where $n_m^F = n^F_{-m}$. Considering $V_{ml} = V$, we have that:\n",
    "\n",
    "$$\n",
    "H_p = \\hbar \\bigg[ \\sum_{m=1}^N \\frac{\\epsilon_m}{2} \\sigma_z^m + \\frac{V}{2} \\sum_{l>m=1}^N (\\sigma_x^m \\sigma_x^l + \\sigma_y^m \\sigma_y^l) \\bigg]\n",
    "$$\n",
    "\n",
    "This leads to a spectrum of $E_0^{\\pm} = \\pm(\\epsilon_0 + \\epsilon_1)/2$, $E_1^{\\pm} = \\pm \\sqrt{\\epsilon^2 + 4V^2}/2$, where $\\epsilon^2 = (\\epsilon_0 - \\epsilon_1)^2$.\n",
    "The eigenvalues are calculated in this [notebook](https://colab.research.google.com/drive/18IyDfCYlMx957260MSwvJtUeTcAJFnza?usp=sharing):\n",
    "\n",
    "[Aqua Operator Flow Reference](https://github.com/dongreenberg/aqua_talks/blob/master/Understanding%20Aqua's%20Operator%20Flow.ipynb)"
   ]
  },
  {
   "cell_type": "code",
   "execution_count": null,
   "metadata": {},
   "outputs": [],
   "source": [
    "import sys\n",
    "sys.path.append('../../')\n",
    "\n",
    "# Python imports\n",
    "import numpy as np\n",
    "import matplotlib.pyplot as plt\n",
    "\n",
    "# Qiskit\n",
    "from qiskit import BasicAer, Aer\n",
    "from qiskit.aqua import QuantumInstance\n",
    "from qiskit.aqua.components.optimizers import COBYLA, SPSA\n",
    "from qiskit.circuit.library import TwoLocal\n",
    "\n",
    "# VOLTA\n",
    "from VOLTA.VQD import VQD\n",
    "from VOLTA.utils import classical_solver\n",
    "from VOLTA.Hamiltonians import BCS_hamiltonian\n",
    "\n",
    "%load_ext autoreload\n",
    "%autoreload 2"
   ]
  },
  {
   "cell_type": "code",
   "execution_count": 3,
   "metadata": {
    "scrolled": true
   },
   "outputs": [
    {
     "name": "stdout",
     "output_type": "stream",
     "text": [
      "SummedOp([\n",
      "  1.5 * ZI,\n",
      "  1.5 * IZ,\n",
      "  -1.0 * XX,\n",
      "  -1.0 * YY\n",
      "])\n"
     ]
    }
   ],
   "source": [
    "EPSILONS = [3, 3]\n",
    "V = -2.\n",
    "hamiltonian = BCS_hamiltonian(EPSILONS, V)\n",
    "print(hamiltonian)"
   ]
  },
  {
   "cell_type": "code",
   "execution_count": 4,
   "metadata": {
    "scrolled": false
   },
   "outputs": [
    {
     "name": "stdout",
     "output_type": "stream",
     "text": [
      "Eigenvalues: [-3. -2.  2.  3.]\n"
     ]
    }
   ],
   "source": [
    "eigenvalues, eigenvectors = classical_solver(hamiltonian)\n",
    "print(f\"Eigenvalues: {eigenvalues}\")"
   ]
  },
  {
   "cell_type": "markdown",
   "metadata": {},
   "source": [
    "# Varying V"
   ]
  },
  {
   "cell_type": "code",
   "execution_count": 11,
   "metadata": {},
   "outputs": [],
   "source": [
    "from tqdm import tqdm\n",
    "\n",
    "def hamiltonian_varying_V(min_V, max_V, points, epsilons, n_trials):\n",
    "    solution_VQD = {}\n",
    "    energies_Classical = []\n",
    "    \n",
    "    V = np.linspace(min_V, max_V, points)\n",
    "    \n",
    "    backend = QuantumInstance(backend=BasicAer.get_backend('qasm_simulator'),\n",
    "                              shots=10000)\n",
    "    \n",
    "    optimizer = SPSA(maxiter=250, c1=.7, last_avg=25) \n",
    "    #optimizer = COBYLA()\n",
    "    \n",
    "    for v in tqdm(V):\n",
    "        hamiltonian = BCS_hamiltonian(epsilons, v)\n",
    "        ansatz = TwoLocal(hamiltonian.num_qubits, ['ry','rz'], 'cx', reps=3)\n",
    "        \n",
    "        es_1 = []\n",
    "        es_2 = []\n",
    "\n",
    "        for _ in tqdm(range(n_trials), desc=f\"V= {v}\"):\n",
    "\n",
    "            # Run algorithm\n",
    "            Algo = VQD(hamiltonian=hamiltonian,\n",
    "                        ansatz=ansatz,\n",
    "                        n_excited_states=2,\n",
    "                        beta=10.,\n",
    "                        optimizer=optimizer,\n",
    "                        backend=backend)\n",
    "\n",
    "            Algo.run(0)      \n",
    "            vqd_energies = Algo.energies\n",
    "            es_1.append(vqd_energies[1])\n",
    "            es_2.append(vqd_energies[2])\n",
    "        es_1 = np.array(es_1)\n",
    "        es_2 = np.array(es_2)\n",
    "    \n",
    "        solution_VQD[v] = {'mean':np.mean(es_2 - es_1), 'std':np.std(es_2 - es_1)}\n",
    "        \n",
    "        classical, _ = classical_solver(hamiltonian)\n",
    "        energies_Classical.append(classical[2]- classical[1])\n",
    "    \n",
    "    return solution_VQD, np.array(energies_Classical), V"
   ]
  },
  {
   "cell_type": "code",
   "execution_count": null,
   "metadata": {
    "scrolled": true
   },
   "outputs": [
    {
     "name": "stderr",
     "output_type": "stream",
     "text": [
      "  0%|          | 0/5 [00:00<?, ?it/s]\n",
      "V= -0.0:   0%|          | 0/50 [00:00<?, ?it/s]\n",
      "V= -0.0:   2%|▏         | 1/50 [21:18<17:24:05, 1278.49s/it]"
     ]
    }
   ],
   "source": [
    "min_V = -0.\n",
    "max_V = -2.\n",
    "points = 5\n",
    "epsilons = [3,3]\n",
    "n_trials = 50\n",
    "solution_VQD, energy_classical, V = hamiltonian_varying_V(min_V, max_V, points, epsilons, n_trials)"
   ]
  },
  {
   "cell_type": "code",
   "execution_count": null,
   "metadata": {},
   "outputs": [],
   "source": [
    "solution_VQD"
   ]
  },
  {
   "cell_type": "code",
   "execution_count": null,
   "metadata": {},
   "outputs": [],
   "source": [
    "import seaborn as sns\n",
    "sns.set()"
   ]
  },
  {
   "cell_type": "code",
   "execution_count": null,
   "metadata": {},
   "outputs": [],
   "source": [
    "mean = []\n",
    "std = []\n",
    "for _, sol in solution_VQD.items():\n",
    "    mean.append(sol['mean'])\n",
    "    std.append(sol['std'])"
   ]
  },
  {
   "cell_type": "code",
   "execution_count": null,
   "metadata": {},
   "outputs": [],
   "source": [
    "plt.errorbar(V,\n",
    "             np.array(mean)/2, \n",
    "             yerr=np.array(std)/2,\n",
    "             fmt='ro', ecolor='green',\n",
    "             label='VQD')\n",
    "\n",
    "plt.plot(V, energy_classical/2, 'b-', label=\"Exact\")\n",
    "plt.xlabel('V')\n",
    "plt.ylabel('Gap')\n",
    "plt.legend()\n",
    "plt.savefig('Var_V.png')\n",
    "plt.show()"
   ]
  },
  {
   "cell_type": "markdown",
   "metadata": {
    "heading_collapsed": true
   },
   "source": [
    "# Plot both optimizers"
   ]
  },
  {
   "cell_type": "code",
   "execution_count": 51,
   "metadata": {
    "hidden": true
   },
   "outputs": [
    {
     "data": {
      "text/plain": [
       "array([-0. , -0.5, -1. , -1.5, -2. ])"
      ]
     },
     "execution_count": 51,
     "metadata": {},
     "output_type": "execute_result"
    }
   ],
   "source": [
    "V"
   ]
  },
  {
   "cell_type": "code",
   "execution_count": 52,
   "metadata": {
    "hidden": true
   },
   "outputs": [],
   "source": [
    "spsa_dict = {-0.0: {'mean': 2.2544600000000004, 'std': 3.6059371187529052},\n",
    " -0.5: {'mean': 2.201132, 'std': 3.5924339523749076},\n",
    " -1.0: {'mean': 2.3685160000000005, 'std': 3.2362400972956262},\n",
    " -1.5: {'mean': 2.262069, 'std': 3.6215824729514305},\n",
    " -2.0: {'mean': 2.151896, 'std': 3.285247713884601}}\n",
    "\n",
    "\n",
    "cobyla_dict = {-0.0: {'mean': 0.2738039999999999, 'std': 0.5017597014348602},\n",
    " -0.5: {'mean': 1.1608589999999999, 'std': 0.7228235554884747},\n",
    " -1.0: {'mean': 2.0350799999999993, 'std': 0.8327042377699295},\n",
    " -1.5: {'mean': 3.137112, 'std': 0.6724548732487554},\n",
    " -2.0: {'mean': 4.314758, 'std': 0.5284894406097439}}\n",
    "\n",
    "mean_spsa = []\n",
    "std_spsa = []\n",
    "mean_cobyla = []\n",
    "std_cobyla = []\n",
    "\n",
    "x_axis = np.array([-0. , -0.5, -1. , -1.5, -2. ])\n",
    "for sol in x_axis:\n",
    "    mean_spsa.append(spsa_dict[sol]['mean'])\n",
    "    std_spsa.append(spsa_dict[sol]['std'])\n",
    "    \n",
    "    mean_cobyla.append(cobyla_dict[sol]['mean'])\n",
    "    std_cobyla.append(cobyla_dict[sol]['std'])"
   ]
  },
  {
   "cell_type": "code",
   "execution_count": 54,
   "metadata": {
    "hidden": true
   },
   "outputs": [
    {
     "data": {
      "image/png": "[encoded data removed]",
      "text/plain": [
       "<Figure size 432x288 with 1 Axes>"
      ]
     },
     "metadata": {},
     "output_type": "display_data"
    }
   ],
   "source": [
    "from matplotlib.ticker import MaxNLocator\n",
    "\n",
    "x_axis = np.array([-0. , -0.5, -1. , -1.5, -2. ])\n",
    "energy_classical = np.array([0., 1., 2., 3., 4.])\n",
    "\n",
    "plt.errorbar(x_axis,\n",
    "             np.array(mean_spsa)/2, \n",
    "             yerr=np.array(std_spsa)/2,\n",
    "             fmt='o', color='black', \n",
    "             ecolor='gray', elinewidth=2,\n",
    "             label='SPSA')\n",
    "\n",
    "plt.errorbar(x_axis,\n",
    "             np.array(mean_cobyla)/2, \n",
    "             yerr=np.array(std_cobyla)/2,\n",
    "             fmt='o', color='red',\n",
    "             ecolor='green', elinewidth=2,\n",
    "             label='COBYLA')\n",
    "\n",
    "plt.plot(V, energy_classical/2, 'b-', label=\"Exact\")\n",
    "plt.xlabel('V')\n",
    "plt.ylabel('Gap')\n",
    "plt.legend()\n",
    "plt.savefig('Var_V_optimizers.png')\n",
    "plt.show()"
   ]
  },
  {
   "cell_type": "code",
   "execution_count": null,
   "metadata": {
    "hidden": true
   },
   "outputs": [],
   "source": []
  }
 ],
 "metadata": {
  "kernelspec": {
   "display_name": "Python 3",
   "language": "python",
   "name": "python3"
  },
  "language_info": {
   "codemirror_mode": {
    "name": "ipython",
    "version": 3
   },
   "file_extension": ".py",
   "mimetype": "text/x-python",
   "name": "python",
   "nbconvert_exporter": "python",
   "pygments_lexer": "ipython3",
   "version": "3.7.3"
  },
  "toc": {
   "base_numbering": 1,
   "nav_menu": {},
   "number_sections": true,
   "sideBar": true,
   "skip_h1_title": false,
   "title_cell": "Table of Contents",
   "title_sidebar": "Contents",
   "toc_cell": true,
   "toc_position": {},
   "toc_section_display": true,
   "toc_window_display": false
  }
 },
 "nbformat": 4,
 "nbformat_minor": 4
}
