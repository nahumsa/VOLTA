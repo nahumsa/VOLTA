{
 "cells": [
  {
   "cell_type": "markdown",
   "metadata": {
    "toc": true
   },
   "source": [
    "<h1>Table of Contents<span class=\"tocSkip\"></span></h1>\n",
    "<div class=\"toc\"><ul class=\"toc-item\"><li><span><a href=\"#BCS\" data-toc-modified-id=\"BCS-1\"><span class=\"toc-item-num\">1&nbsp;&nbsp;</span>BCS</a></span></li><li><span><a href=\"#VQD-Example\" data-toc-modified-id=\"VQD-Example-2\"><span class=\"toc-item-num\">2&nbsp;&nbsp;</span>VQD Example</a></span></li><li><span><a href=\"#Varying-epislon\" data-toc-modified-id=\"Varying-epislon-3\"><span class=\"toc-item-num\">3&nbsp;&nbsp;</span>Varying epislon</a></span></li></ul></div>"
   ]
  },
  {
   "cell_type": "markdown",
   "metadata": {},
   "source": [
    "# BCS"
   ]
  },
  {
   "cell_type": "markdown",
   "metadata": {},
   "source": [
    "Using the Paper by [Wu et al.](https://arxiv.org/abs/quant-ph/0108110), we have that:\n",
    "\n",
    "The BCS hamiltonian is:\n",
    "\n",
    "$$H_{BCS} = \\sum_{m=1}^N \\frac{\\epsilon_m}{2} ( n_m^F + n_{-m}^F ) + \\sum_{m,k=1}^N V^{+}_{ml} c^\\dagger_m c^\\dagger_{-m} c_{-l}c_l$$\n",
    "\n",
    "Where $n_{\\pm m}^F = c^\\dagger_{\\pm m} c_{\\pm m}$, and the matrix elements $V^+_{ml} = \\langle m, -m| V | l, -l \\rangle$.\n",
    "\n",
    "Which is mapped into:\n",
    "\n",
    "$$H_P = \\sum_{m=1}^N \\frac{\\epsilon_m}{2} \\sigma^Z_m + \\sum_{r= \\pm l} \\sum_{l>m=1}^N \\frac{V_{ml}^r}{2} ( \\sigma^x_m \\sigma^x_l + r \\sigma^y_m \\sigma^y_l )$$\n",
    "\n",
    "where $\\epsilon_m = \\epsilon_m + V^+_{mm}$ and $V^-_{ml} = 0$ for the BCS Hamiltonian, thus:\n",
    "\n",
    "$$H_P = \\sum_{m=1}^N \\frac{\\epsilon_m}{2} \\sigma^Z_m +  \\sum_{l>m=1}^N \\frac{V_{ml}}{2} ( \\sigma^x_m \\sigma^x_l +  \\sigma^y_m \\sigma^y_l )$$\n",
    "\n",
    "$l \\ \\mathrm{and} \\ m$ now denote both state and qubit indices. In this case the qubit state space $H_P = Span \\{ |0 \\rangle, \\sigma^+_m |0 \\rangle, \\sigma_l^+ \\sigma_m^+ |0 \\rangle, \\dots   \\}$ is mapped into a subspace where $n_m^F = n^F_{-m}$. Considering $V_{ml} = V$, we have that:\n",
    "\n",
    "$$\n",
    "H_p = \\hbar \\bigg[ \\sum_{m=1}^N \\frac{\\epsilon_m}{2} \\sigma_z^m + \\frac{V}{2} \\sum_{l>m=1}^N (\\sigma_x^m \\sigma_x^l + \\sigma_y^m \\sigma_y^l) \\bigg]\n",
    "$$\n",
    "\n",
    "This leads to a spectrum of $E_0^{\\pm} = \\pm(\\epsilon_0 + \\epsilon_1)/2$, $E_1^{\\pm} = \\pm \\sqrt{\\epsilon^2 + 4V^2}/2$, where $\\epsilon^2 = (\\epsilon_0 - \\epsilon_1)^2$.\n",
    "The eigenvalues are calculated in this [notebook](https://colab.research.google.com/drive/18IyDfCYlMx957260MSwvJtUeTcAJFnza?usp=sharing):\n",
    "\n",
    "[Aqua Operator Flow Reference](https://github.com/dongreenberg/aqua_talks/blob/master/Understanding%20Aqua's%20Operator%20Flow.ipynb)"
   ]
  },
  {
   "cell_type": "code",
   "execution_count": 1,
   "metadata": {},
   "outputs": [
    {
     "name": "stderr",
     "output_type": "stream",
     "text": [
      "/home/nahum/anaconda3/lib/python3.6/site-packages/qiskit/__init__.py:67: DeprecationWarning: Using Qiskit with Python 3.6 is deprecated as of the 0.17.0 release. Support for running Qiskit with Python 3.6 will be removed in a future release.\n",
      "  DeprecationWarning,\n",
      "/home/nahum/anaconda3/lib/python3.6/site-packages/qiskit/aqua/__init__.py:86: DeprecationWarning: The package qiskit.aqua is deprecated. It was moved/refactored to qiskit-terra For more information see <https://github.com/Qiskit/qiskit-aqua/blob/main/README.md#migration-guide>\n",
      "  warn_package('aqua', 'qiskit-terra')\n"
     ]
    }
   ],
   "source": [
    "import sys\n",
    "sys.path.append('../../')\n",
    "\n",
    "# Python imports\n",
    "import numpy as np\n",
    "import matplotlib.pyplot as plt\n",
    "\n",
    "# Qiskit\n",
    "from qiskit import BasicAer\n",
    "from qiskit.aqua.components.optimizers import COBYLA, SPSA\n",
    "from qiskit.circuit.library import TwoLocal\n",
    "\n",
    "# VOLTA\n",
    "from volta.vqd import VQD\n",
    "from volta.utils import classical_solver\n",
    "from volta.hamiltonians import BCS_hamiltonian\n",
    "\n",
    "%load_ext autoreload\n",
    "%autoreload 2"
   ]
  },
  {
   "cell_type": "code",
   "execution_count": 27,
   "metadata": {
    "scrolled": true
   },
   "outputs": [
    {
     "name": "stdout",
     "output_type": "stream",
     "text": [
      "SummedOp([\n",
      "  1.5 * ZI,\n",
      "  1.5 * IZ,\n",
      "  -1.0 * XX,\n",
      "  -1.0 * YY\n",
      "])\n"
     ]
    }
   ],
   "source": [
    "EPSILONS = [3, 3]\n",
    "V = -2\n",
    "hamiltonian = BCS_hamiltonian(EPSILONS, V)\n",
    "print(hamiltonian)"
   ]
  },
  {
   "cell_type": "code",
   "execution_count": 28,
   "metadata": {
    "scrolled": false
   },
   "outputs": [
    {
     "name": "stdout",
     "output_type": "stream",
     "text": [
      "Eigenvalues: [-3. -2.  2.  3.]\n"
     ]
    }
   ],
   "source": [
    "eigenvalues, eigenvectors = classical_solver(hamiltonian)\n",
    "print(f\"Eigenvalues: {eigenvalues}\")"
   ]
  },
  {
   "cell_type": "code",
   "execution_count": 4,
   "metadata": {},
   "outputs": [],
   "source": [
    "from itertools import product\n",
    "# Get the ideal count\n",
    "ideal_dict = {}\n",
    "\n",
    "bin_combinations = list(product(['0','1'], repeat=hamiltonian.num_qubits))\n",
    "for i, eigvect in enumerate(np.abs(eigenvectors)**2):\n",
    "    dic = {}\n",
    "    for ind, val in enumerate(bin_combinations):\n",
    "        val = ''.join(val)\n",
    "        dic[val] = eigvect[ind]\n",
    "    ideal_dict[i] = dic"
   ]
  },
  {
   "cell_type": "markdown",
   "metadata": {},
   "source": [
    "# VQD Example"
   ]
  },
  {
   "cell_type": "code",
   "execution_count": 14,
   "metadata": {
    "scrolled": true
   },
   "outputs": [
    {
     "name": "stdout",
     "output_type": "stream",
     "text": [
      "Calculating excited state 0\n",
      "Calculating excited state 1\n",
      "Calculating excited state 2\n",
      "Calculating excited state 3\n"
     ]
    }
   ],
   "source": [
    "from qiskit.aqua import QuantumInstance\n",
    "\n",
    "# Define Optimizer\n",
    "# optimizer = COBYLA()\n",
    "optimizer = SPSA(maxiter=1000)\n",
    "\n",
    "# Define Backend\n",
    "# backend = BasicAer.get_backend('qasm_simulator')\n",
    "backend = QuantumInstance(backend=BasicAer.get_backend('qasm_simulator'),\n",
    "                          shots=10000)\n",
    "\n",
    "# Define ansatz\n",
    "ansatz = TwoLocal(hamiltonian.num_qubits, ['ry','rz'], 'cx', reps=2)\n",
    "\n",
    "# Run algorithm\n",
    "Algo = VQD(hamiltonian=hamiltonian,\n",
    "            ansatz=ansatz,\n",
    "            n_excited_states=3,\n",
    "            beta=10.,\n",
    "            optimizer=optimizer,\n",
    "            backend=backend)\n",
    "\n",
    "Algo.run()      \n",
    "vqd_energies = Algo.energies\n",
    "vqd_states = Algo.states"
   ]
  },
  {
   "cell_type": "code",
   "execution_count": 15,
   "metadata": {},
   "outputs": [],
   "source": [
    "from copy import copy\n",
    "# Create states and measure them\n",
    "states = []\n",
    "for ind, state in enumerate(vqd_states):\n",
    "    states.append(copy(state))\n",
    "    states[ind].measure_all()"
   ]
  },
  {
   "cell_type": "code",
   "execution_count": 16,
   "metadata": {},
   "outputs": [
    {
     "data": {
      "image/png": "[encoded data removed]",
      "text/plain": [
       "<Figure size 504x360 with 1 Axes>"
      ]
     },
     "execution_count": 16,
     "metadata": {},
     "output_type": "execute_result"
    }
   ],
   "source": [
    "from qiskit import execute\n",
    "from qiskit.visualization import plot_histogram\n",
    "\n",
    "backend = BasicAer.get_backend('qasm_simulator')\n",
    "count = execute(states[0], backend=backend, shots=10000).result().get_counts()\n",
    "plot_histogram([ideal_dict[0], count],legend=['Ideal','Result'])"
   ]
  },
  {
   "cell_type": "code",
   "execution_count": 17,
   "metadata": {},
   "outputs": [
    {
     "data": {
      "image/png": "[encoded data removed]",
      "text/plain": [
       "<Figure size 504x360 with 1 Axes>"
      ]
     },
     "execution_count": 17,
     "metadata": {},
     "output_type": "execute_result"
    }
   ],
   "source": [
    "count = execute(states[1], backend=backend, shots=10000).result().get_counts()\n",
    "plot_histogram([ideal_dict[1], count],legend=['Ideal','Result'])"
   ]
  },
  {
   "cell_type": "code",
   "execution_count": 18,
   "metadata": {},
   "outputs": [
    {
     "data": {
      "image/png": "[encoded data removed]",
      "text/plain": [
       "<Figure size 504x360 with 1 Axes>"
      ]
     },
     "execution_count": 18,
     "metadata": {},
     "output_type": "execute_result"
    }
   ],
   "source": [
    "count = execute(states[2], backend=backend, shots=10000).result().get_counts()\n",
    "plot_histogram([ideal_dict[2], count],legend=['Ideal','Result'])"
   ]
  },
  {
   "cell_type": "code",
   "execution_count": 19,
   "metadata": {},
   "outputs": [
    {
     "data": {
      "image/png": "[encoded data removed]",
      "text/plain": [
       "<Figure size 504x360 with 1 Axes>"
      ]
     },
     "execution_count": 19,
     "metadata": {},
     "output_type": "execute_result"
    }
   ],
   "source": [
    "count = execute(states[3], backend=backend, shots=10000).result().get_counts()\n",
    "plot_histogram([ideal_dict[3], count],legend=['Ideal','Result'])"
   ]
  },
  {
   "cell_type": "code",
   "execution_count": 20,
   "metadata": {},
   "outputs": [
    {
     "data": {
      "text/plain": [
       "array([-3., -2.,  2.,  3.])"
      ]
     },
     "execution_count": 20,
     "metadata": {},
     "output_type": "execute_result"
    }
   ],
   "source": [
    "eigenvalues"
   ]
  },
  {
   "cell_type": "code",
   "execution_count": 21,
   "metadata": {
    "scrolled": true
   },
   "outputs": [
    {
     "data": {
      "text/plain": [
       "[-3.0124999999999997, -1.9108999999999996, 2.4094000000000007, 3.863]"
      ]
     },
     "execution_count": 21,
     "metadata": {},
     "output_type": "execute_result"
    }
   ],
   "source": [
    "vqd_energies"
   ]
  },
  {
   "cell_type": "code",
   "execution_count": 23,
   "metadata": {},
   "outputs": [
    {
     "name": "stdout",
     "output_type": "stream",
     "text": [
      "Gap Exact: 2.0\n",
      "Gap VQD: 2.1601500000000002\n"
     ]
    }
   ],
   "source": [
    "n_1_sim, n_2_sim = 1, 2\n",
    "n_1_vqd, n_2_vqd = 1, 2\n",
    "print(f\"Gap Exact: {(eigenvalues[n_2_sim] - eigenvalues[n_1_sim])/2}\")\n",
    "print(f\"Gap VQD: {(vqd_energies[n_2_vqd] - vqd_energies[n_1_vqd])/2}\")"
   ]
  },
  {
   "cell_type": "markdown",
   "metadata": {},
   "source": [
    "# Varying epislon"
   ]
  },
  {
   "cell_type": "code",
   "execution_count": 10,
   "metadata": {},
   "outputs": [],
   "source": [
    "from tqdm import tqdm\n",
    "\n",
    "def hamiltonian_varying_eps(eps, V):\n",
    "    energies_VQD = []\n",
    "    energies_Classical = []\n",
    "    \n",
    "    for epsilons in tqdm(eps):\n",
    "        hamiltonian = BCS_hamiltonian(epsilons, V)\n",
    "        \n",
    "        optimizer = COBYLA(maxiter=10000)\n",
    "        backend = BasicAer.get_backend('qasm_simulator')\n",
    "\n",
    "        Algo = VQD(hamiltonian=hamiltonian,\n",
    "                    n_excited_states=1,\n",
    "                    beta=3.,\n",
    "                    optimizer=optimizer,\n",
    "                    backend=backend)\n",
    "        \n",
    "        Algo.run(0)      \n",
    "        uantum = Algo.energies\n",
    "        energies_VQD.append([quantum[1], quantum[2]])\n",
    "        classical = classical_solver(hamiltonian)\n",
    "        energies_Classical.append([classical[1], classical[2]])\n",
    "    \n",
    "    return energies_VQD, energies_Classical"
   ]
  },
  {
   "cell_type": "code",
   "execution_count": 21,
   "metadata": {},
   "outputs": [
    {
     "name": "stderr",
     "output_type": "stream",
     "text": [
      "100%|██████████| 5/5 [06:59<00:00, 85.62s/it]\n"
     ]
    }
   ],
   "source": [
    "eps = [[1, 1.5], [1, 2.], [1, 2.5]]\n",
    "V = -1.\n",
    "energy_vqd, energy_classical = hamiltonian_varying_eps(eps, V)"
   ]
  },
  {
   "cell_type": "code",
   "execution_count": 24,
   "metadata": {},
   "outputs": [
    {
     "data": {
      "image/png": "[encoded data removed]",
      "text/plain": [
       "<Figure size 432x288 with 1 Axes>"
      ]
     },
     "metadata": {
      "needs_background": "light"
     },
     "output_type": "display_data"
    }
   ],
   "source": [
    "plt.plot([str(v) for v in eps], [value[1] - value[0] for value in energy_vqd], 'ro', label=\"VQD\")\n",
    "plt.plot([str(v) for v in eps], [value[1] - value[0] for value in energy_classical], 'go', label=\"Exact\")\n",
    "plt.xlabel('$\\epsilon$')\n",
    "plt.ylabel('Gap')\n",
    "plt.legend()\n",
    "plt.show()"
   ]
  },
  {
   "cell_type": "code",
   "execution_count": null,
   "metadata": {},
   "outputs": [],
   "source": []
  }
 ],
 "metadata": {
  "kernelspec": {
   "display_name": "Python 3",
   "language": "python",
   "name": "python3"
  },
  "language_info": {
   "codemirror_mode": {
    "name": "ipython",
    "version": 3
   },
   "file_extension": ".py",
   "mimetype": "text/x-python",
   "name": "python",
   "nbconvert_exporter": "python",
   "pygments_lexer": "ipython3",
   "version": "3.6.8"
  },
  "toc": {
   "base_numbering": 1,
   "nav_menu": {},
   "number_sections": true,
   "sideBar": true,
   "skip_h1_title": false,
   "title_cell": "Table of Contents",
   "title_sidebar": "Contents",
   "toc_cell": true,
   "toc_position": {},
   "toc_section_display": true,
   "toc_window_display": false
  }
 },
 "nbformat": 4,
 "nbformat_minor": 4
}
