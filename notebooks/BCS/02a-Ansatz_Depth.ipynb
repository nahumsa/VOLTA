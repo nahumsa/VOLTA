{
 "cells": [
  {
   "cell_type": "markdown",
   "metadata": {
    "toc": true
   },
   "source": [
    "<h1>Table of Contents<span class=\"tocSkip\"></span></h1>\n",
    "<div class=\"toc\"><ul class=\"toc-item\"><li><span><a href=\"#BCS\" data-toc-modified-id=\"BCS-1\"><span class=\"toc-item-num\">1&nbsp;&nbsp;</span>BCS</a></span></li><li><span><a href=\"#Varying-Depth-size\" data-toc-modified-id=\"Varying-Depth-size-2\"><span class=\"toc-item-num\">2&nbsp;&nbsp;</span>Varying Depth size</a></span></li><li><span><a href=\"#Plot-both-optimizers\" data-toc-modified-id=\"Plot-both-optimizers-3\"><span class=\"toc-item-num\">3&nbsp;&nbsp;</span>Plot both optimizers</a></span><ul class=\"toc-item\"><li><span><a href=\"#Continous-plot\" data-toc-modified-id=\"Continous-plot-3.1\"><span class=\"toc-item-num\">3.1&nbsp;&nbsp;</span>Continous plot</a></span></li></ul></li></ul></div>"
   ]
  },
  {
   "cell_type": "markdown",
   "metadata": {},
   "source": [
    "# BCS"
   ]
  },
  {
   "cell_type": "markdown",
   "metadata": {},
   "source": [
    "Using the Paper by [Wu et al.](https://arxiv.org/abs/quant-ph/0108110), we have that:\n",
    "\n",
    "The BCS hamiltonian is:\n",
    "\n",
    "$$H_{BCS} = \\sum_{m=1}^N \\frac{\\epsilon_m}{2} ( n_m^F + n_{-m}^F ) + \\sum_{m,k=1}^N V^{+}_{ml} c^\\dagger_m c^\\dagger_{-m} c_{-l}c_l$$\n",
    "\n",
    "Where $n_{\\pm m}^F = c^\\dagger_{\\pm m} c_{\\pm m}$, and the matrix elements $V^+_{ml} = \\langle m, -m| V | l, -l \\rangle$.\n",
    "\n",
    "Which is mapped into:\n",
    "\n",
    "$$H_P = \\sum_{m=1}^N \\frac{\\epsilon_m}{2} \\sigma^Z_m + \\sum_{r= \\pm l} \\sum_{l>m=1}^N \\frac{V_{ml}^r}{2} ( \\sigma^x_m \\sigma^x_l + r \\sigma^y_m \\sigma^y_l )$$\n",
    "\n",
    "where $\\epsilon_m = \\epsilon_m + V^+_{mm}$ and $V^-_{ml} = 0$ for the BCS Hamiltonian, thus:\n",
    "\n",
    "$$H_P = \\sum_{m=1}^N \\frac{\\epsilon_m}{2} \\sigma^Z_m +  \\sum_{l>m=1}^N \\frac{V_{ml}}{2} ( \\sigma^x_m \\sigma^x_l +  \\sigma^y_m \\sigma^y_l )$$\n",
    "\n",
    "$l \\ \\mathrm{and} \\ m$ now denote both state and qubit indices. In this case the qubit state space $H_P = Span \\{ |0 \\rangle, \\sigma^+_m |0 \\rangle, \\sigma_l^+ \\sigma_m^+ |0 \\rangle, \\dots   \\}$ is mapped into a subspace where $n_m^F = n^F_{-m}$. Considering $V_{ml} = V$, we have that:\n",
    "\n",
    "$$\n",
    "H_p = \\hbar \\bigg[ \\sum_{m=1}^N \\frac{\\epsilon_m}{2} \\sigma_z^m + \\frac{V}{2} \\sum_{l>m=1}^N (\\sigma_x^m \\sigma_x^l + \\sigma_y^m \\sigma_y^l) \\bigg]\n",
    "$$\n",
    "[Aqua Operator Flow Reference](https://github.com/dongreenberg/aqua_talks/blob/master/Understanding%20Aqua's%20Operator%20Flow.ipynb)"
   ]
  },
  {
   "cell_type": "code",
   "execution_count": 7,
   "metadata": {},
   "outputs": [],
   "source": [
    "import sys\n",
    "sys.path.append('../../')\n",
    "\n",
    "# Python imports\n",
    "import numpy as np\n",
    "import matplotlib.pyplot as plt\n",
    "\n",
    "# Qiskit\n",
    "from qiskit import BasicAer\n",
    "from qiskit.aqua.components.optimizers import COBYLA, SPSA\n",
    "from qiskit.circuit.library import TwoLocal\n",
    "\n",
    "# VOLTA\n",
    "from volta.vqd import VQD\n",
    "from volta.utils import classical_solver\n",
    "from volta.hamiltonians import BCS_hamiltonian\n",
    "\n",
    "%load_ext autoreload\n",
    "%autoreload 2"
   ]
  },
  {
   "cell_type": "code",
   "execution_count": 9,
   "metadata": {
    "scrolled": true
   },
   "outputs": [
    {
     "name": "stdout",
     "output_type": "stream",
     "text": [
      "1.5 * ZIIII\n",
      "+ 1.5 * IZIII\n",
      "+ 1.5 * IIZII\n",
      "+ 2.0 * IIIZI\n",
      "+ 1.5 * IIIIZ\n",
      "- 1.0 * XXXXX\n",
      "- 1.0 * YYYYY\n"
     ]
    }
   ],
   "source": [
    "EPSILONS = [3., 3., 3., 4., 3.]\n",
    "V = -2\n",
    "hamiltonian = BCS_hamiltonian(EPSILONS, V)\n",
    "print(hamiltonian)"
   ]
  },
  {
   "cell_type": "code",
   "execution_count": 10,
   "metadata": {
    "scrolled": false
   },
   "outputs": [
    {
     "name": "stdout",
     "output_type": "stream",
     "text": [
      "Eigenvalues: [-8.1240384  -5.19615242 -5.19615242 -5.19615242 -5.19615242 -4.24264069\n",
      " -2.44948974 -2.44948974 -2.44948974 -2.44948974 -2.44948974 -2.44948974\n",
      " -1.73205081 -1.73205081 -1.73205081 -1.73205081  1.73205081  1.73205081\n",
      "  1.73205081  1.73205081  2.44948974  2.44948974  2.44948974  2.44948974\n",
      "  2.44948974  2.44948974  4.24264069  5.19615242  5.19615242  5.19615242\n",
      "  5.19615242  8.1240384 ]\n"
     ]
    }
   ],
   "source": [
    "eigenvalues, eigenvectors = classical_solver(hamiltonian)\n",
    "print(f\"Eigenvalues: {eigenvalues}\")"
   ]
  },
  {
   "cell_type": "markdown",
   "metadata": {},
   "source": [
    "# Varying Depth size"
   ]
  },
  {
   "cell_type": "code",
   "execution_count": 25,
   "metadata": {},
   "outputs": [
    {
     "name": "stderr",
     "output_type": "stream",
     "text": [
      "Depth 1:   0%|          | 0/50 [00:00<?, ?it/s]C:\\Users\\nahum\\Anaconda3\\envs\\qiskit\\lib\\site-packages\\qiskit\\aqua\\components\\optimizers\\spsa.py:237: DeprecationWarning: The variable qiskit.aqua.aqua_globals is deprecated. It was moved/refactored to qiskit.utils.algorithm_globals (pip install qiskit-terra). For more information see <https://github.com/Qiskit/qiskit-aqua/blob/main/README.md#migration-guide>\n",
      "  delta = 2 * aqua_globals.random.integers(2, size=np.shape(initial_theta)[0]) - 1\n",
      "Depth 1: 100%|██████████| 50/50 [5:56:49<00:00, 428.19s/it]  \n",
      "Depth 2: 100%|██████████| 50/50 [6:55:54<00:00, 499.09s/it]  \n",
      "Depth 3: 100%|██████████| 50/50 [7:54:28<00:00, 569.36s/it]  \n",
      "Depth 4: 100%|██████████| 50/50 [8:52:29<00:00, 639.00s/it]  \n",
      "Depth 5: 100%|██████████| 50/50 [9:51:19<00:00, 709.60s/it]  \n",
      "Depth 6: 100%|██████████| 50/50 [10:54:19<00:00, 785.20s/it] \n"
     ]
    }
   ],
   "source": [
    "from tqdm import tqdm\n",
    "from qiskit.utils import QuantumInstance\n",
    "\n",
    "# Parameters Variables\n",
    "n_trials = 50\n",
    "max_depth = 7\n",
    "\n",
    "# Auxiliary Variables\n",
    "solution_dict = {}\n",
    "\n",
    "# Define Optimizer\n",
    "# optimizer = COBYLA()\n",
    "optimizer = SPSA(maxiter=250, c1=.7, last_avg=25) \n",
    "\n",
    "# Define Backend\n",
    "backend = QuantumInstance(backend=BasicAer.get_backend('qasm_simulator'),\n",
    "                          shots=10000)\n",
    "\n",
    "for depth in range(1,max_depth):\n",
    "    # Ansatz with diferent depth\n",
    "    ansatz = TwoLocal(hamiltonian.num_qubits, ['ry','rz'], 'cx', reps=depth)\n",
    "    es_1 = []\n",
    "    es_2 = []\n",
    "    \n",
    "    for _ in tqdm(range(n_trials), desc=f\"Depth {depth}\"):\n",
    "\n",
    "        # Run algorithm\n",
    "        Algo = VQD(hamiltonian=hamiltonian,\n",
    "                    ansatz=ansatz,\n",
    "                    n_excited_states=1,\n",
    "                    beta=10.,\n",
    "                    optimizer=optimizer,\n",
    "                    backend=backend,\n",
    "                    overlap_method=\"amplitude\",\n",
    "                  )\n",
    "\n",
    "        Algo.run(0)      \n",
    "        vqd_energies = Algo.energies\n",
    "        es_1.append(vqd_energies[0])\n",
    "        es_2.append(vqd_energies[1])\n",
    "    es_1 = np.array(es_1)\n",
    "    es_2 = np.array(es_2)\n",
    "    \n",
    "    # Maybe use a pd.dataframe\n",
    "    solution_dict[depth] = {'mean':np.mean(es_2 - es_1), 'std':np.std(es_2 - es_1)}"
   ]
  },
  {
   "cell_type": "code",
   "execution_count": 26,
   "metadata": {},
   "outputs": [],
   "source": [
    "mean = []\n",
    "std = []\n",
    "for i in range(1,max_depth):\n",
    "    mean.append(solution_dict[i]['mean'])\n",
    "    std.append(solution_dict[i]['std'])"
   ]
  },
  {
   "cell_type": "code",
   "execution_count": 27,
   "metadata": {},
   "outputs": [
    {
     "data": {
      "text/plain": [
       "{1: {'mean': 5.335038, 'std': 1.708178187062462},\n",
       " 2: {'mean': 4.527469999999999, 'std': 1.756017706431231},\n",
       " 3: {'mean': 3.160082, 'std': 1.587476022331046},\n",
       " 4: {'mean': 2.16104, 'std': 1.5474551641970113},\n",
       " 5: {'mean': 1.3676439999999996, 'std': 1.5716504103852103},\n",
       " 6: {'mean': 0.19817400000000002, 'std': 1.071217238623427}}"
      ]
     },
     "execution_count": 27,
     "metadata": {},
     "output_type": "execute_result"
    }
   ],
   "source": [
    "solution_dict"
   ]
  },
  {
   "cell_type": "code",
   "execution_count": 28,
   "metadata": {},
   "outputs": [],
   "source": [
    "ed_eig= (eigenvalues[1] - eigenvalues[0])/2"
   ]
  },
  {
   "cell_type": "code",
   "execution_count": 29,
   "metadata": {},
   "outputs": [],
   "source": [
    "import seaborn as sns\n",
    "sns.set()"
   ]
  },
  {
   "cell_type": "code",
   "execution_count": 31,
   "metadata": {},
   "outputs": [
    {
     "data": {
      "image/png": "[encoded data removed]",
      "text/plain": [
       "<Figure size 432x288 with 1 Axes>"
      ]
     },
     "metadata": {},
     "output_type": "display_data"
    }
   ],
   "source": [
    "from matplotlib.ticker import MaxNLocator\n",
    "\n",
    "x_axis = [i for i in range(1,max_depth)]\n",
    "plt.errorbar(x_axis,\n",
    "             np.array(mean)/2, \n",
    "             yerr=np.array(std)/2,\n",
    "             fmt='ro', ecolor='green')\n",
    "\n",
    "plt.hlines(y=ed_eig, xmin=0.5, xmax=6.5, \n",
    "           label='Expected value',color='b')\n",
    "plt.title('Varying Depth SPSA', size=18)\n",
    "plt.xlabel('Depth', size= 14)\n",
    "plt.ylabel('Gap', size=14)\n",
    "plt.xticks(x_axis)\n",
    "plt.legend()\n",
    "plt.show()"
   ]
  },
  {
   "cell_type": "code",
   "execution_count": 24,
   "metadata": {},
   "outputs": [
    {
     "data": {
      "image/png": "[encoded data removed]",
      "text/plain": [
       "<Figure size 432x288 with 1 Axes>"
      ]
     },
     "metadata": {},
     "output_type": "display_data"
    }
   ],
   "source": [
    "from matplotlib.ticker import MaxNLocator\n",
    "\n",
    "x_axis = [i for i in range(1,max_depth)]\n",
    "plt.errorbar(x_axis,\n",
    "             np.array(mean)/2, \n",
    "             yerr=np.array(std)/2,\n",
    "             fmt='ro', ecolor='green')\n",
    "\n",
    "plt.hlines(y=ed_eig, xmin=0.5, xmax=6.5, \n",
    "           label='Expected value',color='b')\n",
    "plt.title('Varying Depth', size=18)\n",
    "plt.xlabel('Depth', size= 14)\n",
    "plt.ylabel('Gap', size=14)\n",
    "plt.xticks(x_axis)\n",
    "plt.legend()\n",
    "plt.show()"
   ]
  },
  {
   "cell_type": "markdown",
   "metadata": {},
   "source": [
    "# Plot both optimizers"
   ]
  },
  {
   "cell_type": "code",
   "execution_count": 32,
   "metadata": {},
   "outputs": [],
   "source": [
    "max_depth = 7\n",
    "\n",
    "spsa_dict = {1: {'mean': 7.63536, 'std': 2.024100436737268},\n",
    " 2: {'mean': 6.421452, 'std': 3.009174019443874},\n",
    " 3: {'mean': 5.842042, 'std': 3.040774217602484},\n",
    " 4: {'mean': 5.632112000000001, 'std': 3.7485136763063838},\n",
    " 5: {'mean': 5.302354, 'std': 4.1340626645086065},\n",
    " 6: {'mean': 4.079198, 'std': 3.6543650323135477}}\n",
    "\n",
    "spsa_dict = {1: {'mean': 5.335038, 'std': 1.708178187062462},\n",
    " 2: {'mean': 4.527469999999999, 'std': 1.756017706431231},\n",
    " 3: {'mean': 3.160082, 'std': 1.587476022331046},\n",
    " 4: {'mean': 2.16104, 'std': 1.5474551641970113},\n",
    " 5: {'mean': 1.3676439999999996, 'std': 1.5716504103852103},\n",
    " 6: {'mean': 0.19817400000000002, 'std': 1.071217238623427}}\n",
    "\n",
    "cobyla_dict = {1: {'mean': 3.1321660000000002, 'std': 0.24530721278429674},\n",
    " 2: {'mean': 2.94829, 'std': 1.0438090011587366},\n",
    " 3: {'mean': 2.912668, 'std': 0.9325122996379187},\n",
    " 4: {'mean': 3.16006, 'std': 0.38378217728289615},\n",
    " 5: {'mean': 3.048998, 'std': 0.8419937475991135},\n",
    " 6: {'mean': 2.630514, 'std': 1.029439954734612}}\n",
    "\n",
    "mean_spsa = []\n",
    "std_spsa = []\n",
    "mean_cobyla = []\n",
    "std_cobyla = []\n",
    "\n",
    "for i in range(1,max_depth):\n",
    "    mean_spsa.append(spsa_dict[i]['mean'])\n",
    "    std_spsa.append(spsa_dict[i]['std'])\n",
    "    mean_cobyla.append(cobyla_dict[i]['mean'])\n",
    "    std_cobyla.append(cobyla_dict[i]['std'])"
   ]
  },
  {
   "cell_type": "code",
   "execution_count": 34,
   "metadata": {},
   "outputs": [
    {
     "data": {
      "image/png": "[encoded data removed]",
      "text/plain": [
       "<Figure size 432x288 with 1 Axes>"
      ]
     },
     "metadata": {},
     "output_type": "display_data"
    }
   ],
   "source": [
    "from matplotlib.ticker import MaxNLocator\n",
    "\n",
    "x_axis = [i for i in range(1,max_depth)]\n",
    "plt.errorbar(x_axis,\n",
    "             np.array(mean_spsa)/2, \n",
    "             yerr=np.array(std_spsa)/2,\n",
    "             fmt='o', color='black', \n",
    "             ecolor='gray', elinewidth=2,\n",
    "             label='SPSA')\n",
    "plt.errorbar(x_axis,\n",
    "             np.array(mean_cobyla)/2, \n",
    "             yerr=np.array(std_cobyla)/2,\n",
    "             fmt='o', color='red',\n",
    "             ecolor='green', elinewidth=2,\n",
    "             label='COBYLA')\n",
    "\n",
    "plt.hlines(y=ed_eig, xmin=0.5, xmax=6.5, \n",
    "           label='Expected value',color='b')\n",
    "\n",
    "plt.title('Varying Depth', size=18)\n",
    "plt.xlabel('Depth', size= 14)\n",
    "plt.ylabel('Gap', size=14)\n",
    "plt.ylim(0., 4.1)\n",
    "plt.xticks(x_axis)\n",
    "plt.legend(loc=\"upper left\")\n",
    "plt.savefig('Depth.png')\n",
    "plt.show()"
   ]
  },
  {
   "cell_type": "markdown",
   "metadata": {},
   "source": [
    "## Continous plot"
   ]
  },
  {
   "cell_type": "code",
   "execution_count": 35,
   "metadata": {},
   "outputs": [
    {
     "data": {
      "image/png": "[encoded data removed]",
      "text/plain": [
       "<Figure size 432x288 with 1 Axes>"
      ]
     },
     "metadata": {},
     "output_type": "display_data"
    }
   ],
   "source": [
    "plt.plot(x_axis, np.array(mean_spsa)/2,  'or')\n",
    "plt.fill_between(x_axis, np.array(mean_spsa)/2 - np.array(std_spsa)/2 , np.array(mean_spsa)/2 + np.array(std_spsa)/2,\n",
    "                 color='gray', alpha=0.2)\n",
    "plt.show()"
   ]
  },
  {
   "cell_type": "code",
   "execution_count": null,
   "metadata": {},
   "outputs": [],
   "source": []
  }
 ],
 "metadata": {
  "kernelspec": {
   "display_name": "Python 3 (ipykernel)",
   "language": "python",
   "name": "python3"
  },
  "language_info": {
   "codemirror_mode": {
    "name": "ipython",
    "version": 3
   },
   "file_extension": ".py",
   "mimetype": "text/x-python",
   "name": "python",
   "nbconvert_exporter": "python",
   "pygments_lexer": "ipython3",
   "version": "3.8.11"
  },
  "toc": {
   "base_numbering": 1,
   "nav_menu": {},
   "number_sections": true,
   "sideBar": true,
   "skip_h1_title": false,
   "title_cell": "Table of Contents",
   "title_sidebar": "Contents",
   "toc_cell": true,
   "toc_position": {},
   "toc_section_display": true,
   "toc_window_display": false
  }
 },
 "nbformat": 4,
 "nbformat_minor": 4
}
