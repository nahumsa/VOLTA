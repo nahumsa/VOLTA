{
 "cells": [
  {
   "cell_type": "markdown",
   "metadata": {
    "toc": true
   },
   "source": [
    "<h1>Table of Contents<span class=\"tocSkip\"></span></h1>\n",
    "<div class=\"toc\"><ul class=\"toc-item\"><li><span><a href=\"#BCS\" data-toc-modified-id=\"BCS-1\"><span class=\"toc-item-num\">1&nbsp;&nbsp;</span>BCS</a></span><ul class=\"toc-item\"><li><span><a href=\"#Eigenvalues\" data-toc-modified-id=\"Eigenvalues-1.1\"><span class=\"toc-item-num\">1.1&nbsp;&nbsp;</span>Eigenvalues</a></span></li></ul></li><li><span><a href=\"#VQE-From-Scratch-Using-Aqua\" data-toc-modified-id=\"VQE-From-Scratch-Using-Aqua-2\"><span class=\"toc-item-num\">2&nbsp;&nbsp;</span>VQE From Scratch Using Aqua</a></span><ul class=\"toc-item\"><li><span><a href=\"#Construct-Expectation\" data-toc-modified-id=\"Construct-Expectation-2.1\"><span class=\"toc-item-num\">2.1&nbsp;&nbsp;</span>Construct Expectation</a></span></li></ul></li><li><span><a href=\"#Hamiltonian-Simulation\" data-toc-modified-id=\"Hamiltonian-Simulation-3\"><span class=\"toc-item-num\">3&nbsp;&nbsp;</span>Hamiltonian Simulation</a></span></li><li><span><a href=\"#VQE\" data-toc-modified-id=\"VQE-4\"><span class=\"toc-item-num\">4&nbsp;&nbsp;</span>VQE</a></span></li></ul></div>"
   ]
  },
  {
   "cell_type": "markdown",
   "metadata": {},
   "source": [
    "# BCS"
   ]
  },
  {
   "cell_type": "markdown",
   "metadata": {},
   "source": [
    "Using the Paper by [Wu et al.](https://arxiv.org/abs/quant-ph/0108110), we have that:\n",
    "\n",
    "The BCS hamiltonian is:\n",
    "\n",
    "$$H_{BCS} = \\sum_{m=1}^N \\frac{\\epsilon_m}{2} ( n_m^F + n_{-m}^F ) + \\sum_{m,k=1}^N V^{+}_{ml} c^\\dagger_m c^\\dagger_{-m} c_{-l}c_l$$\n",
    "\n",
    "Where $n_{\\pm m}^F = c^\\dagger_{\\pm m} c_{\\pm m}$, and the matrix elements $V^+_{ml} = \\langle m, -m| V | l, -l \\rangle$.\n",
    "\n",
    "Which is mapped into:\n",
    "\n",
    "$$H_P = \\sum_{m=1}^N \\frac{\\epsilon_m}{2} \\sigma^Z_m + \\sum_{r= \\pm l} \\sum_{l>m=1}^N \\frac{V_{ml}^r}{2} ( \\sigma^x_m \\sigma^x_l + r \\sigma^y_m \\sigma^y_l )$$\n",
    "\n",
    "where $\\epsilon_m = \\epsilon_m + V^+_{mm}$ and $V^-_{ml} = 0$ for the BCS Hamiltonian, thus:\n",
    "\n",
    "$$H_P = \\sum_{m=1}^N \\frac{\\epsilon_m}{2} \\sigma^Z_m +  \\sum_{l>m=1}^N \\frac{V_{ml}}{2} ( \\sigma^x_m \\sigma^x_l +  \\sigma^y_m \\sigma^y_l )$$\n",
    "\n",
    "$l \\ \\mathrm{and} \\ m$ now denote both state and qubit indices. In this case the qubit state space $H_P = Span \\{ |0 \\rangle, \\sigma^+_m |0 \\rangle, \\sigma_l^+ \\sigma_m^+ |0 \\rangle, \\dots   \\}$ is mapped into a subspace where $n_m^F = n^F_{-m}$. Considering $V_{ml} = V$, we have that:\n",
    "\n",
    "$$\n",
    "H_p = \\hbar \\bigg[ \\sum_{m=1}^N \\frac{\\epsilon_m}{2} \\sigma_z^m + \\frac{V}{2} \\sum_{l>m=1}^N (\\sigma_x^m \\sigma_x^l + \\sigma_y^m \\sigma_y^l) \\bigg]\n",
    "$$\n",
    "[Aqua Operator Flow Reference](https://github.com/dongreenberg/aqua_talks/blob/master/Understanding%20Aqua's%20Operator%20Flow.ipynb)"
   ]
  },
  {
   "cell_type": "code",
   "execution_count": 1,
   "metadata": {},
   "outputs": [],
   "source": [
    "import numpy as np\n",
    "from qiskit.aqua.operators import OperatorBase, ListOp, PrimitiveOp, PauliOp\n",
    "from qiskit.aqua.operators import I, X, Y, Z\n",
    "from qiskit.quantum_info import Pauli\n",
    "from qiskit.aqua.algorithms import VQE, NumPyEigensolver\n",
    "import matplotlib.pyplot as plt\n",
    "\n",
    "def BCS_hamiltonian(epsilons, V):\n",
    "    return 1/2*((epsilons[0]*I^Z) + (epsilons[1]*Z^I) + V*((X^X) + (Y^Y)))"
   ]
  },
  {
   "cell_type": "code",
   "execution_count": 25,
   "metadata": {},
   "outputs": [
    {
     "name": "stdout",
     "output_type": "stream",
     "text": [
      "0.5 * SummedOp([\n",
      "  IZ,\n",
      "  ZI,\n",
      "  XX,\n",
      "  YY\n",
      "])\n"
     ]
    }
   ],
   "source": [
    "EPSILONS = [1,1]\n",
    "V = 1\n",
    "hamiltonian = BCS_hamiltonian(EPSILONS, V)\n",
    "print(hamiltonian)"
   ]
  },
  {
   "cell_type": "markdown",
   "metadata": {
    "heading_collapsed": true
   },
   "source": [
    "## Eigenvalues"
   ]
  },
  {
   "cell_type": "code",
   "execution_count": 160,
   "metadata": {
    "hidden": true,
    "scrolled": true
   },
   "outputs": [
    {
     "name": "stdout",
     "output_type": "stream",
     "text": [
      "Eigenvalues: [-2. -1.  1.  2.]\n"
     ]
    }
   ],
   "source": [
    "eigenvalues, _ = np.linalg.eigh(hamiltonian.to_matrix())\n",
    "print(f\"Eigenvalues: {eigenvalues}\")"
   ]
  },
  {
   "cell_type": "markdown",
   "metadata": {
    "heading_collapsed": true
   },
   "source": [
    "# VQE From Scratch Using Aqua"
   ]
  },
  {
   "cell_type": "markdown",
   "metadata": {
    "heading_collapsed": true,
    "hidden": true
   },
   "source": [
    "## Construct Expectation"
   ]
  },
  {
   "cell_type": "code",
   "execution_count": 92,
   "metadata": {
    "hidden": true
   },
   "outputs": [],
   "source": [
    "var_form_params = sorted(var_form.parameters, key=lambda p: p.name)\n",
    "parameter = [1]*len(var_form_params)\n",
    "param_dict = dict(zip(var_form_params, parameter))\n",
    "wave_function = var_form.assign_parameters(param_dict)"
   ]
  },
  {
   "cell_type": "code",
   "execution_count": 98,
   "metadata": {
    "hidden": true
   },
   "outputs": [],
   "source": [
    "from qiskit.aqua.operators import ExpectationFactory, StateFn, CircuitStateFn\n",
    "expectation = ExpectationFactory.build(operator=hamiltonian,\n",
    "                                       backend=QuantumInstance(Aer.get_backend('statevector_simulator'))\n",
    "                                      )\n",
    "observable_meas = expectation.convert(StateFn(hamiltonian, is_measurement=True))\n",
    "ansatz_circuit_op = CircuitStateFn(wave_function)"
   ]
  },
  {
   "cell_type": "code",
   "execution_count": 131,
   "metadata": {
    "hidden": true
   },
   "outputs": [],
   "source": [
    "construct_expectation = observable_meas.compose(ansatz_circuit_op).reduce()\n",
    "expect_op = construct_expectation.to_circuit_op()"
   ]
  },
  {
   "cell_type": "code",
   "execution_count": 132,
   "metadata": {
    "hidden": true
   },
   "outputs": [
    {
     "data": {
      "text/plain": [
       "ComposedOp([OperatorStateFn(MatrixOp(Operator([[ 2.+0.j,  0.+0.j,  0.+0.j,  0.+0.j],\n",
       "          [ 0.+0.j,  0.+0.j,  4.+0.j,  0.+0.j],\n",
       "          [ 0.+0.j,  4.+0.j,  0.+0.j,  0.+0.j],\n",
       "          [ 0.+0.j,  0.+0.j,  0.+0.j, -2.+0.j]],\n",
       "         input_dims=(2, 2), output_dims=(2, 2)), coeff=0.5), coeff=1.0, is_measurement=True), CircuitStateFn(<qiskit.circuit.library.n_local.two_local.TwoLocal object at 0x7fa3aceb0518>, coeff=1.0, is_measurement=False)], coeff=1.0, abelian=False)"
      ]
     },
     "execution_count": 132,
     "metadata": {},
     "output_type": "execute_result"
    }
   ],
   "source": [
    "expect_op"
   ]
  },
  {
   "cell_type": "code",
   "execution_count": 127,
   "metadata": {
    "hidden": true
   },
   "outputs": [],
   "source": [
    "circuits = []\n",
    "\n",
    "# recursively extract circuits\n",
    "def extract_circuits(op):\n",
    "    if isinstance(op, CircuitStateFn):\n",
    "        circuits.append(op.primitive)\n",
    "    elif isinstance(op, ListOp):\n",
    "        for op_i in op.oplist:\n",
    "            extract_circuits(op_i)\n",
    "\n",
    "extract_circuits(expect_op)"
   ]
  },
  {
   "cell_type": "code",
   "execution_count": 133,
   "metadata": {
    "hidden": true
   },
   "outputs": [],
   "source": [
    "from qiskit.aqua.operators import CircuitSampler\n",
    "circuit_sampler = CircuitSampler(QuantumInstance(Aer.get_backend('statevector_simulator')))"
   ]
  },
  {
   "cell_type": "code",
   "execution_count": 139,
   "metadata": {
    "hidden": true
   },
   "outputs": [],
   "source": [
    "sampled_expect_op = circuit_sampler.convert(expect_op)\n",
    "means = np.real(sampled_expect_op.eval())"
   ]
  },
  {
   "cell_type": "code",
   "execution_count": 140,
   "metadata": {
    "hidden": true
   },
   "outputs": [
    {
     "data": {
      "text/plain": [
       "0.5179023763441942"
      ]
     },
     "execution_count": 140,
     "metadata": {},
     "output_type": "execute_result"
    }
   ],
   "source": [
    "means"
   ]
  },
  {
   "cell_type": "markdown",
   "metadata": {
    "heading_collapsed": true
   },
   "source": [
    "# Hamiltonian Simulation"
   ]
  },
  {
   "cell_type": "code",
   "execution_count": 89,
   "metadata": {
    "hidden": true
   },
   "outputs": [],
   "source": [
    "from qiskit.aqua.operators import PauliTrotterEvolution, CircuitSampler, MatrixEvolution, Suzuki\n",
    "from qiskit.aqua.operators import StateFn, Plus, Zero, One, Minus, PauliExpectation, CX\n",
    "from qiskit.circuit import Parameter\n",
    "from qiskit import BasicAer"
   ]
  },
  {
   "cell_type": "code",
   "execution_count": 130,
   "metadata": {
    "hidden": true
   },
   "outputs": [
    {
     "name": "stdout",
     "output_type": "stream",
     "text": [
      "Time:\n",
      " [0.0, 0.05555555555555555, 0.1111111111111111, 0.16666666666666666, 0.2222222222222222, 0.2777777777777778, 0.3333333333333333, 0.38888888888888884, 0.4444444444444444, 0.5]\n",
      "Sampled energies after Trotterization:\n",
      " [1. 1. 1. 1. 1. 1. 1. 1. 1. 1.]\n"
     ]
    }
   ],
   "source": [
    "# Initial State \n",
    "init_state = (Plus^Zero)\n",
    "\n",
    "# Time evolution operator\n",
    "evolution_param = Parameter(\"t\")\n",
    "evolution_op = (evolution_param * hamiltonian).exp_i()\n",
    "\n",
    "# Measurement of the Hamiltonian with the time evolved state\n",
    "evo_and_meas = StateFn(hamiltonian).adjoint() @ evolution_op @ init_state\n",
    "\n",
    "# Trotterization\n",
    "trotterized_op = PauliTrotterEvolution(trotter_mode=Suzuki(order=2, reps=1)).convert(evo_and_meas)\n",
    "\n",
    "# Diagonalize the measurement\n",
    "diagonalized_meas_op = PauliExpectation().convert(trotterized_op)\n",
    "\n",
    "# Create an array to represent time and apply to the circuit\n",
    "n_points = 10\n",
    "time_array = list(np.linspace(0, 1/V, n_points))\n",
    "expectations = diagonalized_meas_op.bind_parameters({evolution_param: time_array})\n",
    "\n",
    "# Define Backend\n",
    "backend = BasicAer.get_backend(\"statevector_simulator\")\n",
    "\n",
    "# Use CircuitSampler for getting energy values\n",
    "sampler = CircuitSampler(backend=backend)\n",
    "sampled_expectations = sampler.convert(expectations)\n",
    "sampled_energies = sampled_expectations.eval()\n",
    "print(f\"Time:\\n {time_array}\")\n",
    "print(f\"Sampled energies after Trotterization:\\n {np.real(sampled_energies)}\")"
   ]
  },
  {
   "cell_type": "code",
   "execution_count": 131,
   "metadata": {
    "hidden": true,
    "scrolled": true
   },
   "outputs": [
    {
     "data": {
      "image/png": "[encoded data removed]",
      "text/plain": [
       "<Figure size 432x288 with 1 Axes>"
      ]
     },
     "metadata": {
      "needs_background": "light"
     },
     "output_type": "display_data"
    }
   ],
   "source": [
    "plt.plot(time_array, np.real(sampled_energies))\n",
    "plt.show()"
   ]
  },
  {
   "cell_type": "markdown",
   "metadata": {
    "heading_collapsed": true
   },
   "source": [
    "# VQE"
   ]
  },
  {
   "cell_type": "code",
   "execution_count": 24,
   "metadata": {
    "hidden": true
   },
   "outputs": [],
   "source": [
    "from qiskit.aqua.components.optimizers import COBYLA\n",
    "from qiskit.circuit.library import TwoLocal\n",
    "\n",
    "var_form = TwoLocal(len(EPSILONS), ['ry','rz'], 'cx', reps=3)\n",
    "optimizer = COBYLA(maxiter=100, tol=0.001)"
   ]
  },
  {
   "cell_type": "code",
   "execution_count": 25,
   "metadata": {
    "hidden": true
   },
   "outputs": [],
   "source": [
    "vqe = VQE(hamiltonian, var_form, optimizer)"
   ]
  },
  {
   "cell_type": "code",
   "execution_count": 26,
   "metadata": {
    "hidden": true
   },
   "outputs": [
    {
     "name": "stdout",
     "output_type": "stream",
     "text": [
      "Resulting energy: -1.9975799182567784\n"
     ]
    }
   ],
   "source": [
    "from qiskit import Aer\n",
    "from qiskit.aqua import QuantumInstance\n",
    "result = vqe.run(QuantumInstance(Aer.get_backend('statevector_simulator')))\n",
    "print(f\"Resulting energy: {np.real(result['eigenvalue'])}\")"
   ]
  },
  {
   "cell_type": "code",
   "execution_count": 27,
   "metadata": {
    "hidden": true
   },
   "outputs": [
    {
     "name": "stdout",
     "output_type": "stream",
     "text": [
      "Exact energy is: -2.0\n"
     ]
    }
   ],
   "source": [
    "import warnings\n",
    "warnings.filterwarnings(\"ignore\")\n",
    "from qiskit.aqua.algorithms import ExactEigensolver\n",
    "\n",
    "def exact_solver(qubitOp):\n",
    "    ee = ExactEigensolver(qubitOp)\n",
    "    result = ee.run()\n",
    "    ref = result['energy']\n",
    "    # print('Reference value: {}'.format(ref))\n",
    "    return ref\n",
    "\n",
    "def error(predicted_value, real_value):\n",
    "    return np.abs(predicted_value - real_value)\n",
    "\n",
    "ref = exact_solver(hamiltonian)\n",
    "print(f'Exact energy is: {np.round(ref,4)}')"
   ]
  },
  {
   "cell_type": "code",
   "execution_count": 21,
   "metadata": {
    "hidden": true,
    "scrolled": true
   },
   "outputs": [
    {
     "name": "stdout",
     "output_type": "stream",
     "text": [
      "Error: 0.0016814406050968955\n"
     ]
    }
   ],
   "source": [
    "print('Error:', error(result['eigenvalue'], ref))"
   ]
  },
  {
   "cell_type": "code",
   "execution_count": 84,
   "metadata": {
    "hidden": true
   },
   "outputs": [
    {
     "name": "stdout",
     "output_type": "stream",
     "text": [
      "Resulting energy: -0.5471154749292751\n"
     ]
    }
   ],
   "source": [
    "var_form = TwoLocal(len(EPSILONS), ['ry','rz'], 'cx', reps=3)\n",
    "optimizer = COBYLA(maxiter=0, tol=0.001)\n",
    "vqe = VQE(hamiltonian, var_form, optimizer)\n",
    "result = vqe.run(QuantumInstance(Aer.get_backend('statevector_simulator')))\n",
    "print(f\"Resulting energy: {np.real(result['eigenvalue'])}\")"
   ]
  }
 ],
 "metadata": {
  "kernelspec": {
   "display_name": "Python 3",
   "language": "python",
   "name": "python3"
  },
  "language_info": {
   "codemirror_mode": {
    "name": "ipython",
    "version": 3
   },
   "file_extension": ".py",
   "mimetype": "text/x-python",
   "name": "python",
   "nbconvert_exporter": "python",
   "pygments_lexer": "ipython3",
   "version": "3.6.8"
  },
  "toc": {
   "base_numbering": 1,
   "nav_menu": {},
   "number_sections": true,
   "sideBar": true,
   "skip_h1_title": false,
   "title_cell": "Table of Contents",
   "title_sidebar": "Contents",
   "toc_cell": true,
   "toc_position": {},
   "toc_section_display": true,
   "toc_window_display": false
  }
 },
 "nbformat": 4,
 "nbformat_minor": 4
}
